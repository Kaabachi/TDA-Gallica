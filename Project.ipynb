{
 "cells": [
  {
   "cell_type": "markdown",
   "metadata": {},
   "source": [
    "<h1><center>Semester Project</center></h1>\n"
   ]
  },
  {
   "cell_type": "markdown",
   "metadata": {},
   "source": [
    "Over the past decades, the development of online scientific platforms like \n",
    "arXiv.org or JSTOR radically changed the way researchers access, browse, or read \n",
    "scientific articles. Yet, while observing the behavior of researchers in libraries and \n",
    "laboratories has become commonplace in the humanities, the computational study \n",
    "of digital research practices is only in its early days. This project aims at documenting \n",
    "the behavior of scientists on online platforms by making sense of the digital traces \n",
    "they generate while navigating.\n",
    "\n",
    "During this project we are using the browsing logs of Gallica ( https://gallica.bnf.fr/ ) to make sense of user experience and identify patterns.\n",
    "\n",
    "Project goals : \n",
    "\n",
    "* Parsing and sessionizing the log files in order to extract relevant sessions.\n",
    "* Building an ontology based on the descriptors provided by the ARKs (Archival Resource Key, i.e. the metadata) of the documents (type of document, discipline, year, etc.)\n",
    "* Using off-the-shelf Python libraries of topological data analysis (TDA) to identify the geometrical shapes of users’ paths through the ontology\n",
    "* Building a typology of users’ behaviour on the platform by clustering the previously identified users’ paths"
   ]
  },
  {
   "cell_type": "markdown",
   "metadata": {},
   "source": [
    "## Table Of Content:\n",
    "[I. Exploring Gallica Logs](#first-bullet)\n",
    "\n",
    "[II. Creating Sessions](#second-bullet)\n",
    "\n",
    "[III. Word2vec Representation](#third-bullet)\n",
    "\n",
    "[IV. Path Representation](#fourth-bullet)"
   ]
  },
  {
   "cell_type": "markdown",
   "metadata": {},
   "source": [
    "<a class=\"anchor\" id=\"first-bullet\"></a><h2><center>I. Exploring Gallica Logs</center></h2> "
   ]
  },
  {
   "cell_type": "markdown",
   "metadata": {},
   "source": [
    "## 1. Importing logs"
   ]
  },
  {
   "cell_type": "markdown",
   "metadata": {},
   "source": [
    "Logs have been provided by TODO, they span from a period of TODO."
   ]
  },
  {
   "cell_type": "code",
   "execution_count": 43,
   "metadata": {},
   "outputs": [],
   "source": [
    "import os\n",
    "import numpy as np\n",
    "\n",
    "\n",
    "# for now I manually extracted a single file to test\n",
    "file  = open('res296.log','r',encoding=\"utf8\")\n",
    "lines = file.read().splitlines()"
   ]
  },
  {
   "cell_type": "markdown",
   "metadata": {},
   "source": [
    "## 2. Exploring logs"
   ]
  },
  {
   "cell_type": "code",
   "execution_count": 125,
   "metadata": {},
   "outputs": [],
   "source": [
    "import pandas as pd\n",
    "pd.options.mode.chained_assignment = None  # default='warn'\n",
    "\n",
    "# convert lines from logs into pandas dataframe\n",
    "lines_df = pd.DataFrame(lines)"
   ]
  },
  {
   "cell_type": "code",
   "execution_count": 45,
   "metadata": {},
   "outputs": [
    {
     "data": {
      "text/html": [
       "<div>\n",
       "<style scoped>\n",
       "    .dataframe tbody tr th:only-of-type {\n",
       "        vertical-align: middle;\n",
       "    }\n",
       "\n",
       "    .dataframe tbody tr th {\n",
       "        vertical-align: top;\n",
       "    }\n",
       "\n",
       "    .dataframe thead th {\n",
       "        text-align: right;\n",
       "    }\n",
       "</style>\n",
       "<table border=\"1\" class=\"dataframe\">\n",
       "  <thead>\n",
       "    <tr style=\"text-align: right;\">\n",
       "      <th></th>\n",
       "      <th>0</th>\n",
       "    </tr>\n",
       "  </thead>\n",
       "  <tbody>\n",
       "    <tr>\n",
       "      <th>0</th>\n",
       "      <td>##320022e99796ca35dab7e63d48fd5e7##null##null#...</td>\n",
       "    </tr>\n",
       "    <tr>\n",
       "      <th>1</th>\n",
       "      <td>##e7fdec50f50253f6796d61b5382155f8##null##null...</td>\n",
       "    </tr>\n",
       "    <tr>\n",
       "      <th>2</th>\n",
       "      <td>##320022e99796ca35dab7e63d48fd5e7##null##null#...</td>\n",
       "    </tr>\n",
       "    <tr>\n",
       "      <th>3</th>\n",
       "      <td>##e7fdec50f50253f6796d61b5382155f8##null##null...</td>\n",
       "    </tr>\n",
       "    <tr>\n",
       "      <th>4</th>\n",
       "      <td>##320022e99796ca35dab7e63d48fd5e7##null##null#...</td>\n",
       "    </tr>\n",
       "  </tbody>\n",
       "</table>\n",
       "</div>"
      ],
      "text/plain": [
       "                                                   0\n",
       "0  ##320022e99796ca35dab7e63d48fd5e7##null##null#...\n",
       "1  ##e7fdec50f50253f6796d61b5382155f8##null##null...\n",
       "2  ##320022e99796ca35dab7e63d48fd5e7##null##null#...\n",
       "3  ##e7fdec50f50253f6796d61b5382155f8##null##null...\n",
       "4  ##320022e99796ca35dab7e63d48fd5e7##null##null#..."
      ]
     },
     "execution_count": 45,
     "metadata": {},
     "output_type": "execute_result"
    }
   ],
   "source": [
    "lines_df.head()"
   ]
  },
  {
   "cell_type": "code",
   "execution_count": 46,
   "metadata": {},
   "outputs": [],
   "source": [
    "# we need to split each line into relevant metadata according to this example from Nouvellet et al."
   ]
  },
  {
   "cell_type": "markdown",
   "metadata": {},
   "source": [
    "![caption](log_example.png)"
   ]
  },
  {
   "cell_type": "code",
   "execution_count": 47,
   "metadata": {},
   "outputs": [],
   "source": [
    "# first split, according to the example we split by ## to get ip, pays, ville and then date/requete/procole/code/taille/référant together\n",
    "lines_df=lines_df[0].str.split('##', expand=True)"
   ]
  },
  {
   "cell_type": "code",
   "execution_count": 48,
   "metadata": {},
   "outputs": [
    {
     "data": {
      "text/html": [
       "<div>\n",
       "<style scoped>\n",
       "    .dataframe tbody tr th:only-of-type {\n",
       "        vertical-align: middle;\n",
       "    }\n",
       "\n",
       "    .dataframe tbody tr th {\n",
       "        vertical-align: top;\n",
       "    }\n",
       "\n",
       "    .dataframe thead th {\n",
       "        text-align: right;\n",
       "    }\n",
       "</style>\n",
       "<table border=\"1\" class=\"dataframe\">\n",
       "  <thead>\n",
       "    <tr style=\"text-align: right;\">\n",
       "      <th></th>\n",
       "      <th>0</th>\n",
       "      <th>1</th>\n",
       "      <th>2</th>\n",
       "      <th>3</th>\n",
       "      <th>4</th>\n",
       "    </tr>\n",
       "  </thead>\n",
       "  <tbody>\n",
       "    <tr>\n",
       "      <th>0</th>\n",
       "      <td></td>\n",
       "      <td>320022e99796ca35dab7e63d48fd5e7</td>\n",
       "      <td>null</td>\n",
       "      <td>null</td>\n",
       "      <td>- - [03/Mar/2017:10:58:15 +0100] \"GET /ark:/12...</td>\n",
       "    </tr>\n",
       "    <tr>\n",
       "      <th>1</th>\n",
       "      <td></td>\n",
       "      <td>e7fdec50f50253f6796d61b5382155f8</td>\n",
       "      <td>null</td>\n",
       "      <td>null</td>\n",
       "      <td>- - [03/Mar/2017:10:58:41 +0100] \"GET /ark:/12...</td>\n",
       "    </tr>\n",
       "    <tr>\n",
       "      <th>2</th>\n",
       "      <td></td>\n",
       "      <td>320022e99796ca35dab7e63d48fd5e7</td>\n",
       "      <td>null</td>\n",
       "      <td>null</td>\n",
       "      <td>- - [03/Mar/2017:11:01:15 +0100] \"GET /ark:/12...</td>\n",
       "    </tr>\n",
       "    <tr>\n",
       "      <th>3</th>\n",
       "      <td></td>\n",
       "      <td>e7fdec50f50253f6796d61b5382155f8</td>\n",
       "      <td>null</td>\n",
       "      <td>null</td>\n",
       "      <td>- - [03/Mar/2017:11:01:41 +0100] \"GET /ark:/12...</td>\n",
       "    </tr>\n",
       "    <tr>\n",
       "      <th>4</th>\n",
       "      <td></td>\n",
       "      <td>320022e99796ca35dab7e63d48fd5e7</td>\n",
       "      <td>null</td>\n",
       "      <td>null</td>\n",
       "      <td>- - [03/Mar/2017:11:04:15 +0100] \"GET /ark:/12...</td>\n",
       "    </tr>\n",
       "  </tbody>\n",
       "</table>\n",
       "</div>"
      ],
      "text/plain": [
       "  0                                 1     2     3  \\\n",
       "0     320022e99796ca35dab7e63d48fd5e7  null  null   \n",
       "1    e7fdec50f50253f6796d61b5382155f8  null  null   \n",
       "2     320022e99796ca35dab7e63d48fd5e7  null  null   \n",
       "3    e7fdec50f50253f6796d61b5382155f8  null  null   \n",
       "4     320022e99796ca35dab7e63d48fd5e7  null  null   \n",
       "\n",
       "                                                   4  \n",
       "0  - - [03/Mar/2017:10:58:15 +0100] \"GET /ark:/12...  \n",
       "1  - - [03/Mar/2017:10:58:41 +0100] \"GET /ark:/12...  \n",
       "2  - - [03/Mar/2017:11:01:15 +0100] \"GET /ark:/12...  \n",
       "3  - - [03/Mar/2017:11:01:41 +0100] \"GET /ark:/12...  \n",
       "4  - - [03/Mar/2017:11:04:15 +0100] \"GET /ark:/12...  "
      ]
     },
     "execution_count": 48,
     "metadata": {},
     "output_type": "execute_result"
    }
   ],
   "source": [
    "lines_df.head()"
   ]
  },
  {
   "cell_type": "markdown",
   "metadata": {},
   "source": [
    "### 2.1 Parsing HTTP requests"
   ]
  },
  {
   "cell_type": "markdown",
   "metadata": {},
   "source": [
    "#### Experimenting with extracting data"
   ]
  },
  {
   "cell_type": "code",
   "execution_count": 49,
   "metadata": {},
   "outputs": [],
   "source": [
    "# This is just experimental, TODO change with lazy eval regex when working on bigger data."
   ]
  },
  {
   "cell_type": "code",
   "execution_count": 50,
   "metadata": {},
   "outputs": [],
   "source": [
    "import re\n",
    "import shutil\n",
    "import requests\n",
    "import xmltodict\n",
    "from bs4 import BeautifulSoup\n",
    "from xml.etree import ElementTree as ET"
   ]
  },
  {
   "cell_type": "code",
   "execution_count": 51,
   "metadata": {},
   "outputs": [],
   "source": [
    "'''\n",
    "Function to query Gallica API and get metadata about a document from it's ark.\n",
    "inputs: \n",
    "    'id': here id is the ARK of the document, that we extract from the request\n",
    "Outputs:\n",
    "     this function outputs the result of the API as a dictionary.\n",
    "\n",
    "'''\n",
    "def OAI(id):\n",
    "\n",
    "    OAI_BASEURL = 'https://gallica.bnf.fr/services/OAIRecord?ark='\n",
    "\n",
    "    url = \"\".join([OAI_BASEURL, id])\n",
    "    #print(url)\n",
    "\n",
    "    s = requests.get(url, stream=True)\n",
    "    soup = BeautifulSoup(s.content,\"lxml-xml\")\n",
    "    #print(soup)\n",
    "    file = open('oai.xml', 'wb')\n",
    "    file.write(soup.prettify().encode('UTF-8'))\n",
    "    file.close()\n",
    "    with open('oai.xml',encoding='UTF-8') as xml:\n",
    "        doc = xmltodict.parse(xml.read())\n",
    "        return doc\n"
   ]
  },
  {
   "cell_type": "code",
   "execution_count": 52,
   "metadata": {},
   "outputs": [],
   "source": [
    "temp = pd.DataFrame()"
   ]
  },
  {
   "cell_type": "code",
   "execution_count": 53,
   "metadata": {},
   "outputs": [],
   "source": [
    "# extracting the date of query\n",
    "temp['Date']=lines_df.apply(lambda x: x[4].split(\"]\")[0].split(\"[\")[1] ,axis = 1)"
   ]
  },
  {
   "cell_type": "code",
   "execution_count": 54,
   "metadata": {},
   "outputs": [],
   "source": [
    "# extracting request\n",
    "temp['Request'] = lines_df.apply(lambda x: ' '.join(x[4].split(\"\\\"\")[1].split(' ')[:2]),axis=1)"
   ]
  },
  {
   "cell_type": "code",
   "execution_count": 55,
   "metadata": {},
   "outputs": [],
   "source": [
    "# extracting protocol, still need to look into it further\n",
    "# do i really need to extract protocol at this point?\n",
    "# commenting this for now until further research\n",
    "\n",
    "# temp['protocol'] = lines_df.apply(lambda x: x[4].split(\"\\\"\")[1].split(' ')[2], axis=1)"
   ]
  },
  {
   "cell_type": "code",
   "execution_count": 56,
   "metadata": {},
   "outputs": [],
   "source": [
    "# extracting code\n",
    "# try catch to avoid index errors, need to look into this further, what happens exactly there?\n",
    "def trycode(value, default):\n",
    "    try:\n",
    "        return value[4].split(\"\\\"\")[2].split(' ')[1]\n",
    "    except (IndexError):\n",
    "        return '-'\n",
    "    return default\n",
    "\n",
    "\n",
    "temp['Code'] = lines_df.apply(lambda x: trycode(x,'-'), axis=1)"
   ]
  },
  {
   "cell_type": "code",
   "execution_count": 57,
   "metadata": {},
   "outputs": [],
   "source": [
    "# extracting length\n",
    "# try catch to avoid index errors, need to look into this further, what happens exactly there?\n",
    "def trylength(value, default):\n",
    "    try:\n",
    "        return value[4].split(\"\\\"\")[2].split(' ')[2] \n",
    "    except (IndexError):\n",
    "        return '-'\n",
    "    return default\n",
    "\n",
    "temp['Length'] = lines_df.apply(lambda x:  trylength(x,'-') , axis=1)"
   ]
  },
  {
   "cell_type": "code",
   "execution_count": 58,
   "metadata": {},
   "outputs": [],
   "source": [
    "# extracting referant\n",
    "temp['Referant'] = lines_df.apply(lambda x: x[4].split(\"\\\"\")[3], axis=1)"
   ]
  },
  {
   "cell_type": "code",
   "execution_count": 60,
   "metadata": {},
   "outputs": [],
   "source": [
    "# extracting ark name\n",
    "\n",
    "#function to check if the request contains ark\n",
    "def extract_ark(request):\n",
    "    # capture everything between 12148 and / or between 12148 and . using regex\n",
    "    ark = '-'\n",
    "    ark = re.findall('(?<=12148/).+?(?=/)|(?<=12148/).+?(?=\\.)', request)\n",
    "    return ark\n",
    "\n",
    "\n",
    "temp['Ark'] = temp.apply(lambda x: extract_ark(x['Request']), axis=1)\n",
    "    "
   ]
  },
  {
   "cell_type": "code",
   "execution_count": 61,
   "metadata": {},
   "outputs": [],
   "source": [
    "lines_df = lines_df.rename(columns={1:\"IPAdress\",2:\"Country\",3:\"City\",4:\"Full_request\"})"
   ]
  },
  {
   "cell_type": "code",
   "execution_count": 62,
   "metadata": {},
   "outputs": [],
   "source": [
    "final_df = pd.concat([lines_df, temp],axis=1)"
   ]
  },
  {
   "cell_type": "code",
   "execution_count": 76,
   "metadata": {},
   "outputs": [
    {
     "data": {
      "text/html": [
       "<div>\n",
       "<style scoped>\n",
       "    .dataframe tbody tr th:only-of-type {\n",
       "        vertical-align: middle;\n",
       "    }\n",
       "\n",
       "    .dataframe tbody tr th {\n",
       "        vertical-align: top;\n",
       "    }\n",
       "\n",
       "    .dataframe thead th {\n",
       "        text-align: right;\n",
       "    }\n",
       "</style>\n",
       "<table border=\"1\" class=\"dataframe\">\n",
       "  <thead>\n",
       "    <tr style=\"text-align: right;\">\n",
       "      <th></th>\n",
       "      <th>0</th>\n",
       "      <th>IPAdress</th>\n",
       "      <th>Country</th>\n",
       "      <th>City</th>\n",
       "      <th>Full_request</th>\n",
       "      <th>Date</th>\n",
       "      <th>Request</th>\n",
       "      <th>Code</th>\n",
       "      <th>Length</th>\n",
       "      <th>Referant</th>\n",
       "      <th>Ark</th>\n",
       "    </tr>\n",
       "  </thead>\n",
       "  <tbody>\n",
       "    <tr>\n",
       "      <th>1195</th>\n",
       "      <td></td>\n",
       "      <td>dd7e7fe210e8c18c7652e3f0e48700b2</td>\n",
       "      <td>France</td>\n",
       "      <td>Villemoustaussou</td>\n",
       "      <td>- - [03/Mar/2017:18:04:59 +0100] \"GET /ark:/12...</td>\n",
       "      <td>03/Mar/2017:18:04:59 +0100</td>\n",
       "      <td>GET /ark:/12148/bpt6k1263204k.thumbnail</td>\n",
       "      <td>200</td>\n",
       "      <td>2291</td>\n",
       "      <td>http://gallica.bnf.fr/services/engine/search/s...</td>\n",
       "      <td>[bpt6k1263204k]</td>\n",
       "    </tr>\n",
       "    <tr>\n",
       "      <th>1196</th>\n",
       "      <td></td>\n",
       "      <td>dd7e7fe210e8c18c7652e3f0e48700b2</td>\n",
       "      <td>France</td>\n",
       "      <td>Villemoustaussou</td>\n",
       "      <td>- - [03/Mar/2017:18:04:59 +0100] \"GET /ark:/12...</td>\n",
       "      <td>03/Mar/2017:18:04:59 +0100</td>\n",
       "      <td>GET /ark:/12148/bpt6k5761916m.thumbnail</td>\n",
       "      <td>200</td>\n",
       "      <td>11323</td>\n",
       "      <td>http://gallica.bnf.fr/services/engine/search/s...</td>\n",
       "      <td>[bpt6k5761916m]</td>\n",
       "    </tr>\n",
       "    <tr>\n",
       "      <th>1197</th>\n",
       "      <td></td>\n",
       "      <td>dd7e7fe210e8c18c7652e3f0e48700b2</td>\n",
       "      <td>France</td>\n",
       "      <td>Villemoustaussou</td>\n",
       "      <td>- - [03/Mar/2017:18:04:59 +0100] \"GET /service...</td>\n",
       "      <td>03/Mar/2017:18:04:59 +0100</td>\n",
       "      <td>GET /services/ajax/extract/ark:/12148/bpt6k623...</td>\n",
       "      <td>200</td>\n",
       "      <td>1047</td>\n",
       "      <td>http://gallica.bnf.fr/services/engine/search/s...</td>\n",
       "      <td>[bpt6k6237463k]</td>\n",
       "    </tr>\n",
       "    <tr>\n",
       "      <th>1198</th>\n",
       "      <td></td>\n",
       "      <td>dd7e7fe210e8c18c7652e3f0e48700b2</td>\n",
       "      <td>France</td>\n",
       "      <td>Villemoustaussou</td>\n",
       "      <td>- - [03/Mar/2017:18:04:59 +0100] \"GET /ark:/12...</td>\n",
       "      <td>03/Mar/2017:18:04:59 +0100</td>\n",
       "      <td>GET /ark:/12148/bpt6k5495010c.thumbnail</td>\n",
       "      <td>200</td>\n",
       "      <td>9595</td>\n",
       "      <td>http://gallica.bnf.fr/services/engine/search/s...</td>\n",
       "      <td>[bpt6k5495010c]</td>\n",
       "    </tr>\n",
       "    <tr>\n",
       "      <th>1199</th>\n",
       "      <td></td>\n",
       "      <td>dd7e7fe210e8c18c7652e3f0e48700b2</td>\n",
       "      <td>France</td>\n",
       "      <td>Villemoustaussou</td>\n",
       "      <td>- - [03/Mar/2017:18:04:59 +0100] \"GET /service...</td>\n",
       "      <td>03/Mar/2017:18:04:59 +0100</td>\n",
       "      <td>GET /services/ajax/extract/ark:/12148/bpt6k553...</td>\n",
       "      <td>200</td>\n",
       "      <td>1065</td>\n",
       "      <td>http://gallica.bnf.fr/services/engine/search/s...</td>\n",
       "      <td>[bpt6k5535441w]</td>\n",
       "    </tr>\n",
       "  </tbody>\n",
       "</table>\n",
       "</div>"
      ],
      "text/plain": [
       "     0                          IPAdress Country              City  \\\n",
       "1195    dd7e7fe210e8c18c7652e3f0e48700b2  France  Villemoustaussou   \n",
       "1196    dd7e7fe210e8c18c7652e3f0e48700b2  France  Villemoustaussou   \n",
       "1197    dd7e7fe210e8c18c7652e3f0e48700b2  France  Villemoustaussou   \n",
       "1198    dd7e7fe210e8c18c7652e3f0e48700b2  France  Villemoustaussou   \n",
       "1199    dd7e7fe210e8c18c7652e3f0e48700b2  France  Villemoustaussou   \n",
       "\n",
       "                                           Full_request  \\\n",
       "1195  - - [03/Mar/2017:18:04:59 +0100] \"GET /ark:/12...   \n",
       "1196  - - [03/Mar/2017:18:04:59 +0100] \"GET /ark:/12...   \n",
       "1197  - - [03/Mar/2017:18:04:59 +0100] \"GET /service...   \n",
       "1198  - - [03/Mar/2017:18:04:59 +0100] \"GET /ark:/12...   \n",
       "1199  - - [03/Mar/2017:18:04:59 +0100] \"GET /service...   \n",
       "\n",
       "                            Date  \\\n",
       "1195  03/Mar/2017:18:04:59 +0100   \n",
       "1196  03/Mar/2017:18:04:59 +0100   \n",
       "1197  03/Mar/2017:18:04:59 +0100   \n",
       "1198  03/Mar/2017:18:04:59 +0100   \n",
       "1199  03/Mar/2017:18:04:59 +0100   \n",
       "\n",
       "                                                Request Code Length  \\\n",
       "1195            GET /ark:/12148/bpt6k1263204k.thumbnail  200   2291   \n",
       "1196            GET /ark:/12148/bpt6k5761916m.thumbnail  200  11323   \n",
       "1197  GET /services/ajax/extract/ark:/12148/bpt6k623...  200   1047   \n",
       "1198            GET /ark:/12148/bpt6k5495010c.thumbnail  200   9595   \n",
       "1199  GET /services/ajax/extract/ark:/12148/bpt6k553...  200   1065   \n",
       "\n",
       "                                               Referant              Ark  \n",
       "1195  http://gallica.bnf.fr/services/engine/search/s...  [bpt6k1263204k]  \n",
       "1196  http://gallica.bnf.fr/services/engine/search/s...  [bpt6k5761916m]  \n",
       "1197  http://gallica.bnf.fr/services/engine/search/s...  [bpt6k6237463k]  \n",
       "1198  http://gallica.bnf.fr/services/engine/search/s...  [bpt6k5495010c]  \n",
       "1199  http://gallica.bnf.fr/services/engine/search/s...  [bpt6k5535441w]  "
      ]
     },
     "execution_count": 76,
     "metadata": {},
     "output_type": "execute_result"
    }
   ],
   "source": [
    "final_df[1195:1200]"
   ]
  },
  {
   "cell_type": "markdown",
   "metadata": {},
   "source": [
    "<a class=\"anchor\" id=\"second-bullet\"></a><h2><center>II. Creating Sessions</center></h2> "
   ]
  },
  {
   "cell_type": "markdown",
   "metadata": {},
   "source": [
    "#### 1. Creating a dataframe with IP and the difference in time between each connexion and the last"
   ]
  },
  {
   "cell_type": "code",
   "execution_count": 79,
   "metadata": {},
   "outputs": [
    {
     "data": {
      "text/html": [
       "<div>\n",
       "<style scoped>\n",
       "    .dataframe tbody tr th:only-of-type {\n",
       "        vertical-align: middle;\n",
       "    }\n",
       "\n",
       "    .dataframe tbody tr th {\n",
       "        vertical-align: top;\n",
       "    }\n",
       "\n",
       "    .dataframe thead th {\n",
       "        text-align: right;\n",
       "    }\n",
       "</style>\n",
       "<table border=\"1\" class=\"dataframe\">\n",
       "  <thead>\n",
       "    <tr style=\"text-align: right;\">\n",
       "      <th></th>\n",
       "      <th>Ark</th>\n",
       "      <th>Date</th>\n",
       "    </tr>\n",
       "    <tr>\n",
       "      <th>IPAdress</th>\n",
       "      <th></th>\n",
       "      <th></th>\n",
       "    </tr>\n",
       "  </thead>\n",
       "  <tbody>\n",
       "    <tr>\n",
       "      <th>103e44bc19d6aac58db9a149c73e505b</th>\n",
       "      <td>[[]]</td>\n",
       "      <td>[03/Mar/2017:18:12:04 +0100]</td>\n",
       "    </tr>\n",
       "    <tr>\n",
       "      <th>105781f3101367c473a91d52b6d4fd67</th>\n",
       "      <td>[[bpt6k54673247], [bpt6k54673247], [bpt6k62397...</td>\n",
       "      <td>[03/Mar/2017:18:27:36 +0100, 03/Mar/2017:18:27...</td>\n",
       "    </tr>\n",
       "    <tr>\n",
       "      <th>10907c8edc0b2702015e04f49a8204a2</th>\n",
       "      <td>[[], [], [], [], [bpt6k6308044k], [bpt6k759364...</td>\n",
       "      <td>[03/Mar/2017:18:05:21 +0100, 03/Mar/2017:18:05...</td>\n",
       "    </tr>\n",
       "    <tr>\n",
       "      <th>10915f6650d7b3ab000aafb953615c4e</th>\n",
       "      <td>[[bpt6k33258628], [bpt6k3321225p], [bpt6k62553...</td>\n",
       "      <td>[03/Mar/2017:19:40:11 +0100, 03/Mar/2017:19:41...</td>\n",
       "    </tr>\n",
       "    <tr>\n",
       "      <th>10dfc529d2b8f1a7ae6f94229848fbf</th>\n",
       "      <td>[[bpt6k4453214], [], [], [], [], [], [], [], [...</td>\n",
       "      <td>[03/Mar/2017:18:38:47 +0100, 03/Mar/2017:18:39...</td>\n",
       "    </tr>\n",
       "  </tbody>\n",
       "</table>\n",
       "</div>"
      ],
      "text/plain": [
       "                                                                                Ark  \\\n",
       "IPAdress                                                                              \n",
       "103e44bc19d6aac58db9a149c73e505b                                               [[]]   \n",
       "105781f3101367c473a91d52b6d4fd67  [[bpt6k54673247], [bpt6k54673247], [bpt6k62397...   \n",
       "10907c8edc0b2702015e04f49a8204a2  [[], [], [], [], [bpt6k6308044k], [bpt6k759364...   \n",
       "10915f6650d7b3ab000aafb953615c4e  [[bpt6k33258628], [bpt6k3321225p], [bpt6k62553...   \n",
       "10dfc529d2b8f1a7ae6f94229848fbf   [[bpt6k4453214], [], [], [], [], [], [], [], [...   \n",
       "\n",
       "                                                                               Date  \n",
       "IPAdress                                                                             \n",
       "103e44bc19d6aac58db9a149c73e505b                       [03/Mar/2017:18:12:04 +0100]  \n",
       "105781f3101367c473a91d52b6d4fd67  [03/Mar/2017:18:27:36 +0100, 03/Mar/2017:18:27...  \n",
       "10907c8edc0b2702015e04f49a8204a2  [03/Mar/2017:18:05:21 +0100, 03/Mar/2017:18:05...  \n",
       "10915f6650d7b3ab000aafb953615c4e  [03/Mar/2017:19:40:11 +0100, 03/Mar/2017:19:41...  \n",
       "10dfc529d2b8f1a7ae6f94229848fbf   [03/Mar/2017:18:38:47 +0100, 03/Mar/2017:18:39...  "
      ]
     },
     "execution_count": 79,
     "metadata": {},
     "output_type": "execute_result"
    }
   ],
   "source": [
    "# Session: séquences de requêtes\n",
    "# Regrouper même adresse IP => session se termine intervalle supérieur à 60 minutes entre deux requêtes. \n",
    "sessions_df = final_df.groupby('IPAdress').agg({'Ark':list,'Date':list})\n",
    "sessions_df.head()"
   ]
  },
  {
   "cell_type": "code",
   "execution_count": 82,
   "metadata": {},
   "outputs": [],
   "source": [
    "from datetime import datetime\n",
    "'''\n",
    "Function to calculate absolute value of minutes between two dates\n",
    "inputs: \n",
    "    d1: first date\n",
    "    d2: second date\n",
    "Outputs:\n",
    "    absolute value of minutes between d1 and d2\n",
    "\n",
    "'''\n",
    "def minutes_between(d1, d2):\n",
    "    d1 = datetime.strptime(d1, \"%d/%b/%Y:%H:%M:%S\")\n",
    "    d2 = datetime.strptime(d2, \"%d/%b/%Y:%H:%M:%S\")\n",
    "    return abs(((d2 - d1)).total_seconds() // 60.0)"
   ]
  },
  {
   "cell_type": "code",
   "execution_count": 85,
   "metadata": {},
   "outputs": [],
   "source": [
    "time_beginning = \"01/Jan/0001:01:01:01 +0100\"\n",
    "time_end = \"01/Jan/3000:01:01:01 +0100\"\n",
    "sessions_df['date_1'] = sessions_df.apply(lambda x: [time_beginning]+x['Date'], axis = 1)\n",
    "sessions_df['date_2'] = sessions_df.apply(lambda x: x['Date']+[time_end],axis=1)"
   ]
  },
  {
   "cell_type": "code",
   "execution_count": 91,
   "metadata": {},
   "outputs": [],
   "source": [
    "'''\n",
    "Function to calculate the difference between two zipped lists\n",
    "'''\n",
    "def calculate_difference_zipped_list(lst):\n",
    "    new_lst = []\n",
    "    for e in lst:\n",
    "        if (e[0]==time_beginning):\n",
    "            new_lst.append(999)\n",
    "        elif (e[1]==time_end):\n",
    "            new_lst.append(999)\n",
    "        else:\n",
    "            new_lst.append(minutes_between(e[0][:-6], e[1][:-6]))\n",
    "    return new_lst\n",
    "        \n",
    "    "
   ]
  },
  {
   "cell_type": "code",
   "execution_count": 92,
   "metadata": {},
   "outputs": [],
   "source": [
    "# this contains the ip adress and the zipped version of date_1,date_2\n",
    "from collections import deque\n",
    "IP_and_sessions = sessions_df.apply(lambda x: deque(calculate_difference_zipped_list(list(zip(x['date_1'],x['date_2'])))),axis=1)"
   ]
  },
  {
   "cell_type": "code",
   "execution_count": 98,
   "metadata": {},
   "outputs": [
    {
     "data": {
      "text/plain": [
       "IPAdress\n",
       "103e44bc19d6aac58db9a149c73e505b                                           [999, 999]\n",
       "105781f3101367c473a91d52b6d4fd67    [999, 0.0, 0.0, 3.0, 0.0, 0.0, 0.0, 0.0, 0.0, ...\n",
       "dtype: object"
      ]
     },
     "execution_count": 98,
     "metadata": {},
     "output_type": "execute_result"
    }
   ],
   "source": [
    "# IP and the difference in time between each connection and the last\n",
    "IP_and_sessions[:2]"
   ]
  },
  {
   "cell_type": "markdown",
   "metadata": {},
   "source": [
    "#### 2. Enriching the original dataframe with previous connexion date column, this will be useful when we try to set a timeout to define a session"
   ]
  },
  {
   "cell_type": "code",
   "execution_count": 89,
   "metadata": {},
   "outputs": [],
   "source": [
    "# index on ipadress/date\n",
    "# queue \n",
    "final_df['previous_connexion_date']=final_df.apply(lambda x: IP_and_sessions[x['IPAdress']].popleft(),axis=1)"
   ]
  },
  {
   "cell_type": "code",
   "execution_count": 96,
   "metadata": {},
   "outputs": [
    {
     "data": {
      "text/html": [
       "<div>\n",
       "<style scoped>\n",
       "    .dataframe tbody tr th:only-of-type {\n",
       "        vertical-align: middle;\n",
       "    }\n",
       "\n",
       "    .dataframe tbody tr th {\n",
       "        vertical-align: top;\n",
       "    }\n",
       "\n",
       "    .dataframe thead th {\n",
       "        text-align: right;\n",
       "    }\n",
       "</style>\n",
       "<table border=\"1\" class=\"dataframe\">\n",
       "  <thead>\n",
       "    <tr style=\"text-align: right;\">\n",
       "      <th></th>\n",
       "      <th>0</th>\n",
       "      <th>IPAdress</th>\n",
       "      <th>Country</th>\n",
       "      <th>City</th>\n",
       "      <th>Full_request</th>\n",
       "      <th>Date</th>\n",
       "      <th>Request</th>\n",
       "      <th>Code</th>\n",
       "      <th>Length</th>\n",
       "      <th>Referant</th>\n",
       "      <th>Ark</th>\n",
       "      <th>previous_connexion_date</th>\n",
       "    </tr>\n",
       "  </thead>\n",
       "  <tbody>\n",
       "    <tr>\n",
       "      <th>0</th>\n",
       "      <td></td>\n",
       "      <td>320022e99796ca35dab7e63d48fd5e7</td>\n",
       "      <td>null</td>\n",
       "      <td>null</td>\n",
       "      <td>- - [03/Mar/2017:10:58:15 +0100] \"GET /ark:/12...</td>\n",
       "      <td>03/Mar/2017:10:58:15 +0100</td>\n",
       "      <td>GET /ark:/12148/bpt6k70211m</td>\n",
       "      <td>503</td>\n",
       "      <td>-</td>\n",
       "      <td>-</td>\n",
       "      <td>[]</td>\n",
       "      <td>999.0</td>\n",
       "    </tr>\n",
       "    <tr>\n",
       "      <th>1</th>\n",
       "      <td></td>\n",
       "      <td>e7fdec50f50253f6796d61b5382155f8</td>\n",
       "      <td>null</td>\n",
       "      <td>null</td>\n",
       "      <td>- - [03/Mar/2017:10:58:41 +0100] \"GET /ark:/12...</td>\n",
       "      <td>03/Mar/2017:10:58:41 +0100</td>\n",
       "      <td>GET /ark:/12148/bpt6k70211m</td>\n",
       "      <td>503</td>\n",
       "      <td>-</td>\n",
       "      <td>-</td>\n",
       "      <td>[]</td>\n",
       "      <td>999.0</td>\n",
       "    </tr>\n",
       "  </tbody>\n",
       "</table>\n",
       "</div>"
      ],
      "text/plain": [
       "  0                          IPAdress Country  City  \\\n",
       "0     320022e99796ca35dab7e63d48fd5e7    null  null   \n",
       "1    e7fdec50f50253f6796d61b5382155f8    null  null   \n",
       "\n",
       "                                        Full_request  \\\n",
       "0  - - [03/Mar/2017:10:58:15 +0100] \"GET /ark:/12...   \n",
       "1  - - [03/Mar/2017:10:58:41 +0100] \"GET /ark:/12...   \n",
       "\n",
       "                         Date                      Request Code Length  \\\n",
       "0  03/Mar/2017:10:58:15 +0100  GET /ark:/12148/bpt6k70211m  503      -   \n",
       "1  03/Mar/2017:10:58:41 +0100  GET /ark:/12148/bpt6k70211m  503      -   \n",
       "\n",
       "  Referant Ark  previous_connexion_date  \n",
       "0        -  []                    999.0  \n",
       "1        -  []                    999.0  "
      ]
     },
     "execution_count": 96,
     "metadata": {},
     "output_type": "execute_result"
    }
   ],
   "source": [
    "final_df.head(2)"
   ]
  },
  {
   "cell_type": "markdown",
   "metadata": {},
   "source": [
    "#### 3. Assigning a session ID to each connection according to the set rules we have set above"
   ]
  },
  {
   "cell_type": "code",
   "execution_count": 100,
   "metadata": {},
   "outputs": [],
   "source": [
    "'''\n",
    "Function to query Gallica API and get metadata about a document from it's ark.\n",
    "inputs: \n",
    "    'id': here id is the ARK of the document, that we extract from the request\n",
    "Outputs:\n",
    "     this function outputs the result of the API as a dictionary.\n",
    "\n",
    "'''\n",
    "session_id=0\n",
    "def create_session(period):\n",
    "    global session_id\n",
    "    if(period>30):\n",
    "        session_id += 1\n",
    "    return session_id"
   ]
  },
  {
   "cell_type": "code",
   "execution_count": 102,
   "metadata": {},
   "outputs": [],
   "source": [
    "final_df=final_df.sort_values(by=['IPAdress','Date'])\n",
    "final_df['session_id'] = final_df.apply(lambda x: create_session(x['previous_connexion_date']),axis=1)"
   ]
  },
  {
   "cell_type": "markdown",
   "metadata": {},
   "source": [
    "#### 4. Creating sessions by grouping by session ID and collecting all ARKs\n"
   ]
  },
  {
   "cell_type": "code",
   "execution_count": 103,
   "metadata": {},
   "outputs": [],
   "source": [
    "sessions = final_df.groupby('session_id').agg({'Ark':list})"
   ]
  },
  {
   "cell_type": "markdown",
   "metadata": {},
   "source": [
    "#### 5. Converting arks from sessions to document titles"
   ]
  },
  {
   "cell_type": "code",
   "execution_count": 113,
   "metadata": {},
   "outputs": [],
   "source": [
    "'''\n",
    "get titles from ARKs\n",
    "\n",
    "Input: list of arks\n",
    "\n",
    "Output: list of document titles\n",
    "\n",
    "'''\n",
    "def get_title_from_ark(l):\n",
    "    temp = []\n",
    "    for ark in l:  \n",
    "        title = ''\n",
    "        if(len(ark)>0):\n",
    "            oai_result = OAI(ark[0]) \n",
    "            if(oai_result != None ):\n",
    "                try:\n",
    "                    title = oai_result.get('results').get('notice').get('record').get('metadata').get('oai_dc:dc').get('dc:title')\n",
    "                except:\n",
    "                    title = ''\n",
    "                \n",
    "        temp.append(title)\n",
    "    return temp"
   ]
  },
  {
   "cell_type": "code",
   "execution_count": 121,
   "metadata": {},
   "outputs": [],
   "source": [
    "'''\n",
    "get titles from ARKs using caching, if a user opens the same document twice we do not do any API call\n",
    "\n",
    "Input: list of arks\n",
    "\n",
    "Output: list of document titles\n",
    "\n",
    "'''\n",
    "def get_title_from_ark_cache(l):\n",
    "    temp = []\n",
    "    cache = {}\n",
    "    for ark in l:  \n",
    "        title = ''\n",
    "        # remembering that l is a list of list [[ark1],[ark2],[ark3]]\n",
    "        # if ark is not empty\n",
    "        if(len(ark)>0):\n",
    "            # check if ark in cache\n",
    "            if ark[0] in cache:\n",
    "                temp.append(cache.get(ark))\n",
    "                continue\n",
    "            else:            \n",
    "                oai_result = OAI(ark[0]) \n",
    "                if(oai_result != None ):\n",
    "                    try:\n",
    "                        title = oai_result.get('results').get('notice').get('record').get('metadata').get('oai_dc:dc').get('dc:title')\n",
    "                        cache[\"ark\"]=title\n",
    "                    except:\n",
    "                        title = ''\n",
    "\n",
    "        temp.append(title)\n",
    "    return temp"
   ]
  },
  {
   "cell_type": "code",
   "execution_count": 122,
   "metadata": {},
   "outputs": [],
   "source": [
    "sessions_5 = sessions[:5]"
   ]
  },
  {
   "cell_type": "code",
   "execution_count": 126,
   "metadata": {},
   "outputs": [],
   "source": [
    "sessions_5['document_titles_path'] = sessions_5.apply(lambda x: get_title_from_ark_cache(x['Ark']),axis = 1)"
   ]
  },
  {
   "cell_type": "code",
   "execution_count": 128,
   "metadata": {},
   "outputs": [
    {
     "data": {
      "text/html": [
       "<div>\n",
       "<style scoped>\n",
       "    .dataframe tbody tr th:only-of-type {\n",
       "        vertical-align: middle;\n",
       "    }\n",
       "\n",
       "    .dataframe tbody tr th {\n",
       "        vertical-align: top;\n",
       "    }\n",
       "\n",
       "    .dataframe thead th {\n",
       "        text-align: right;\n",
       "    }\n",
       "</style>\n",
       "<table border=\"1\" class=\"dataframe\">\n",
       "  <thead>\n",
       "    <tr style=\"text-align: right;\">\n",
       "      <th></th>\n",
       "      <th>Ark</th>\n",
       "      <th>document_titles_path</th>\n",
       "    </tr>\n",
       "    <tr>\n",
       "      <th>session_id</th>\n",
       "      <th></th>\n",
       "      <th></th>\n",
       "    </tr>\n",
       "  </thead>\n",
       "  <tbody>\n",
       "    <tr>\n",
       "      <th>1</th>\n",
       "      <td>[[]]</td>\n",
       "      <td>[]</td>\n",
       "    </tr>\n",
       "    <tr>\n",
       "      <th>2</th>\n",
       "      <td>[[bpt6k54673247], [bpt6k54673247], [bpt6k62397...</td>\n",
       "      <td>[Le Progrès, Le Progrès, L'Avenir de Souk-Ahra...</td>\n",
       "    </tr>\n",
       "    <tr>\n",
       "      <th>3</th>\n",
       "      <td>[[], [], [], [], [bpt6k6308044k], [bpt6k759364...</td>\n",
       "      <td>[, , , , Le Rire : journal humoristique, L'Act...</td>\n",
       "    </tr>\n",
       "    <tr>\n",
       "      <th>4</th>\n",
       "      <td>[[bpt6k33258628], [bpt6k3321225p], [bpt6k62553...</td>\n",
       "      <td>[La pratique administrative dans la fonction p...</td>\n",
       "    </tr>\n",
       "    <tr>\n",
       "      <th>5</th>\n",
       "      <td>[[bpt6k4453214], [], [], [], [], [], [], [], [...</td>\n",
       "      <td>[Matériaux pour l'histoire primitive et nature...</td>\n",
       "    </tr>\n",
       "  </tbody>\n",
       "</table>\n",
       "</div>"
      ],
      "text/plain": [
       "                                                          Ark  \\\n",
       "session_id                                                      \n",
       "1                                                        [[]]   \n",
       "2           [[bpt6k54673247], [bpt6k54673247], [bpt6k62397...   \n",
       "3           [[], [], [], [], [bpt6k6308044k], [bpt6k759364...   \n",
       "4           [[bpt6k33258628], [bpt6k3321225p], [bpt6k62553...   \n",
       "5           [[bpt6k4453214], [], [], [], [], [], [], [], [...   \n",
       "\n",
       "                                         document_titles_path  \n",
       "session_id                                                     \n",
       "1                                                          []  \n",
       "2           [Le Progrès, Le Progrès, L'Avenir de Souk-Ahra...  \n",
       "3           [, , , , Le Rire : journal humoristique, L'Act...  \n",
       "4           [La pratique administrative dans la fonction p...  \n",
       "5           [Matériaux pour l'histoire primitive et nature...  "
      ]
     },
     "execution_count": 128,
     "metadata": {},
     "output_type": "execute_result"
    }
   ],
   "source": [
    "# testing on 5 sessions, API calls are taking a bit too much time so far.\n",
    "# TODO: contact Gallica ?\n",
    "# TODO: get more than titles?\n",
    "sessions_5"
   ]
  },
  {
   "cell_type": "markdown",
   "metadata": {},
   "source": [
    "#### 6. TODO converting arks to themes"
   ]
  },
  {
   "cell_type": "markdown",
   "metadata": {},
   "source": [
    "<a class=\"anchor\" id=\"third-bullet\"></a><h2><center>III. Word2vec Representation</center></h2> "
   ]
  },
  {
   "cell_type": "markdown",
   "metadata": {},
   "source": [
    "In this part I will try to represent the arks in a 2D dimension using word2vec, each ark will be assigned a vector.\n",
    "\n",
    "Word2vec model is trained directly from the requests.\n",
    "\n",
    "Choice between 2 models : \n",
    "* Skip-gram: Model will take one word as input, but it will return multiple words as per window size.\n",
    "* CBOW (Continuous Bag of Words): takes the context of each word as the input and tries to predict the word corresponding to the context. \n"
   ]
  },
  {
   "cell_type": "markdown",
   "metadata": {},
   "source": [
    "#### 1. Extract referant ark"
   ]
  },
  {
   "cell_type": "markdown",
   "metadata": {},
   "source": [
    "#### 2. Creating corpus"
   ]
  },
  {
   "cell_type": "markdown",
   "metadata": {},
   "source": [
    "#### 3. Inputing corpus to the model"
   ]
  },
  {
   "cell_type": "markdown",
   "metadata": {},
   "source": [
    "#### 4. Training model"
   ]
  },
  {
   "cell_type": "markdown",
   "metadata": {},
   "source": [
    "#### 5. Model results + representation"
   ]
  },
  {
   "cell_type": "markdown",
   "metadata": {},
   "source": [
    "<a class=\"anchor\" id=\"fourth-bullet\"></a><h2><center>IV. Path representation </center></h2> "
   ]
  },
  {
   "cell_type": "code",
   "execution_count": null,
   "metadata": {},
   "outputs": [],
   "source": []
  }
 ],
 "metadata": {
  "kernelspec": {
   "display_name": "Python 3",
   "language": "python",
   "name": "python3"
  },
  "language_info": {
   "codemirror_mode": {
    "name": "ipython",
    "version": 3
   },
   "file_extension": ".py",
   "mimetype": "text/x-python",
   "name": "python",
   "nbconvert_exporter": "python",
   "pygments_lexer": "ipython3",
   "version": "3.7.9"
  }
 },
 "nbformat": 4,
 "nbformat_minor": 4
}
