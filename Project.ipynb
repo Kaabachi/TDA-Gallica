{
 "cells": [
  {
   "cell_type": "markdown",
   "metadata": {},
   "source": [
    "<h1><center>Semester Project</center></h1>\n"
   ]
  },
  {
   "cell_type": "markdown",
   "metadata": {},
   "source": [
    "Over the past decades, the development of online scientific platforms like \n",
    "arXiv.org or JSTOR radically changed the way researchers access, browse, or read \n",
    "scientific articles. Yet, while observing the behavior of researchers in libraries and \n",
    "laboratories has become commonplace in the humanities, the computational study \n",
    "of digital research practices is only in its early days. This project aims at documenting \n",
    "the behavior of scientists on online platforms by making sense of the digital traces \n",
    "they generate while navigating.\n",
    "\n",
    "During this project we are using the browsing logs of Gallica ( https://gallica.bnf.fr/ ) to make sense of user experience and identify patterns.\n",
    "\n",
    "Project goals : \n",
    "\n",
    "* Parsing and sessionizing the log files in order to extract relevant sessions.\n",
    "* Building an ontology based on the descriptors provided by the ARKs (Archival Resource Key, i.e. the metadata) of the documents (type of document, discipline, year, etc.)\n",
    "* Using off-the-shelf Python libraries of topological data analysis (TDA) to identify the geometrical shapes of users’ paths through the ontology\n",
    "* Building a typology of users’ behaviour on the platform by clustering the previously identified users’ paths"
   ]
  },
  {
   "cell_type": "markdown",
   "metadata": {},
   "source": [
    "## Table Of Content:\n",
    "[I. Exploring Gallica Logs](#first-bullet)\n",
    "\n",
    "[II. Creating Sessions](#second-bullet)\n",
    "\n",
    "[III. Word2vec Representation](#third-bullet)\n",
    "\n",
    "[IV. Path Representation](#fourth-bullet)\n",
    "\n",
    "[V. Path Clustering](#fifth-bullet)\n",
    "\n",
    "[VI. Analysis](#sixth-bullet)"
   ]
  },
  {
   "cell_type": "markdown",
   "metadata": {},
   "source": [
    "<a class=\"anchor\" id=\"first-bullet\"></a><h2><center>I. Exploring Gallica Logs</center></h2> "
   ]
  },
  {
   "cell_type": "markdown",
   "metadata": {},
   "source": [
    "## 1. Importing logs"
   ]
  },
  {
   "cell_type": "markdown",
   "metadata": {},
   "source": [
    "Logs have been provided by TODO, they span from a period of TODO."
   ]
  },
  {
   "cell_type": "code",
   "execution_count": 6,
   "metadata": {},
   "outputs": [],
   "source": [
    "import os\n",
    "import numpy as np\n",
    "\n",
    "\n",
    "# for now I manually extracted a single file to test\n",
    "file  = open('res296.log','r',encoding=\"utf8\")\n",
    "lines = file.read().splitlines()"
   ]
  },
  {
   "cell_type": "markdown",
   "metadata": {},
   "source": [
    "## 2. Exploring logs"
   ]
  },
  {
   "cell_type": "code",
   "execution_count": 7,
   "metadata": {},
   "outputs": [],
   "source": [
    "import pandas as pd\n",
    "pd.options.mode.chained_assignment = None  # default='warn'\n",
    "\n",
    "# convert lines from logs into pandas dataframe\n",
    "lines_df = pd.DataFrame(lines)"
   ]
  },
  {
   "cell_type": "code",
   "execution_count": 8,
   "metadata": {},
   "outputs": [
    {
     "data": {
      "text/html": [
       "<div>\n",
       "<style scoped>\n",
       "    .dataframe tbody tr th:only-of-type {\n",
       "        vertical-align: middle;\n",
       "    }\n",
       "\n",
       "    .dataframe tbody tr th {\n",
       "        vertical-align: top;\n",
       "    }\n",
       "\n",
       "    .dataframe thead th {\n",
       "        text-align: right;\n",
       "    }\n",
       "</style>\n",
       "<table border=\"1\" class=\"dataframe\">\n",
       "  <thead>\n",
       "    <tr style=\"text-align: right;\">\n",
       "      <th></th>\n",
       "      <th>0</th>\n",
       "    </tr>\n",
       "  </thead>\n",
       "  <tbody>\n",
       "    <tr>\n",
       "      <th>0</th>\n",
       "      <td>##320022e99796ca35dab7e63d48fd5e7##null##null#...</td>\n",
       "    </tr>\n",
       "    <tr>\n",
       "      <th>1</th>\n",
       "      <td>##e7fdec50f50253f6796d61b5382155f8##null##null...</td>\n",
       "    </tr>\n",
       "    <tr>\n",
       "      <th>2</th>\n",
       "      <td>##320022e99796ca35dab7e63d48fd5e7##null##null#...</td>\n",
       "    </tr>\n",
       "    <tr>\n",
       "      <th>3</th>\n",
       "      <td>##e7fdec50f50253f6796d61b5382155f8##null##null...</td>\n",
       "    </tr>\n",
       "    <tr>\n",
       "      <th>4</th>\n",
       "      <td>##320022e99796ca35dab7e63d48fd5e7##null##null#...</td>\n",
       "    </tr>\n",
       "  </tbody>\n",
       "</table>\n",
       "</div>"
      ],
      "text/plain": [
       "                                                   0\n",
       "0  ##320022e99796ca35dab7e63d48fd5e7##null##null#...\n",
       "1  ##e7fdec50f50253f6796d61b5382155f8##null##null...\n",
       "2  ##320022e99796ca35dab7e63d48fd5e7##null##null#...\n",
       "3  ##e7fdec50f50253f6796d61b5382155f8##null##null...\n",
       "4  ##320022e99796ca35dab7e63d48fd5e7##null##null#..."
      ]
     },
     "execution_count": 8,
     "metadata": {},
     "output_type": "execute_result"
    }
   ],
   "source": [
    "lines_df.head()"
   ]
  },
  {
   "cell_type": "code",
   "execution_count": 9,
   "metadata": {},
   "outputs": [],
   "source": [
    "# we need to split each line into relevant metadata according to this example from Nouvellet et al."
   ]
  },
  {
   "cell_type": "markdown",
   "metadata": {},
   "source": [
    "![caption](log_example.png)"
   ]
  },
  {
   "cell_type": "code",
   "execution_count": 10,
   "metadata": {},
   "outputs": [],
   "source": [
    "# first split, according to the example we split by ## to get ip, pays, ville and then date/requete/procole/code/taille/référant together\n",
    "lines_df=lines_df[0].str.split('##', expand=True)"
   ]
  },
  {
   "cell_type": "code",
   "execution_count": 11,
   "metadata": {},
   "outputs": [
    {
     "data": {
      "text/html": [
       "<div>\n",
       "<style scoped>\n",
       "    .dataframe tbody tr th:only-of-type {\n",
       "        vertical-align: middle;\n",
       "    }\n",
       "\n",
       "    .dataframe tbody tr th {\n",
       "        vertical-align: top;\n",
       "    }\n",
       "\n",
       "    .dataframe thead th {\n",
       "        text-align: right;\n",
       "    }\n",
       "</style>\n",
       "<table border=\"1\" class=\"dataframe\">\n",
       "  <thead>\n",
       "    <tr style=\"text-align: right;\">\n",
       "      <th></th>\n",
       "      <th>0</th>\n",
       "      <th>1</th>\n",
       "      <th>2</th>\n",
       "      <th>3</th>\n",
       "      <th>4</th>\n",
       "    </tr>\n",
       "  </thead>\n",
       "  <tbody>\n",
       "    <tr>\n",
       "      <th>0</th>\n",
       "      <td></td>\n",
       "      <td>320022e99796ca35dab7e63d48fd5e7</td>\n",
       "      <td>null</td>\n",
       "      <td>null</td>\n",
       "      <td>- - [03/Mar/2017:10:58:15 +0100] \"GET /ark:/12...</td>\n",
       "    </tr>\n",
       "    <tr>\n",
       "      <th>1</th>\n",
       "      <td></td>\n",
       "      <td>e7fdec50f50253f6796d61b5382155f8</td>\n",
       "      <td>null</td>\n",
       "      <td>null</td>\n",
       "      <td>- - [03/Mar/2017:10:58:41 +0100] \"GET /ark:/12...</td>\n",
       "    </tr>\n",
       "    <tr>\n",
       "      <th>2</th>\n",
       "      <td></td>\n",
       "      <td>320022e99796ca35dab7e63d48fd5e7</td>\n",
       "      <td>null</td>\n",
       "      <td>null</td>\n",
       "      <td>- - [03/Mar/2017:11:01:15 +0100] \"GET /ark:/12...</td>\n",
       "    </tr>\n",
       "    <tr>\n",
       "      <th>3</th>\n",
       "      <td></td>\n",
       "      <td>e7fdec50f50253f6796d61b5382155f8</td>\n",
       "      <td>null</td>\n",
       "      <td>null</td>\n",
       "      <td>- - [03/Mar/2017:11:01:41 +0100] \"GET /ark:/12...</td>\n",
       "    </tr>\n",
       "    <tr>\n",
       "      <th>4</th>\n",
       "      <td></td>\n",
       "      <td>320022e99796ca35dab7e63d48fd5e7</td>\n",
       "      <td>null</td>\n",
       "      <td>null</td>\n",
       "      <td>- - [03/Mar/2017:11:04:15 +0100] \"GET /ark:/12...</td>\n",
       "    </tr>\n",
       "  </tbody>\n",
       "</table>\n",
       "</div>"
      ],
      "text/plain": [
       "  0                                 1     2     3  \\\n",
       "0     320022e99796ca35dab7e63d48fd5e7  null  null   \n",
       "1    e7fdec50f50253f6796d61b5382155f8  null  null   \n",
       "2     320022e99796ca35dab7e63d48fd5e7  null  null   \n",
       "3    e7fdec50f50253f6796d61b5382155f8  null  null   \n",
       "4     320022e99796ca35dab7e63d48fd5e7  null  null   \n",
       "\n",
       "                                                   4  \n",
       "0  - - [03/Mar/2017:10:58:15 +0100] \"GET /ark:/12...  \n",
       "1  - - [03/Mar/2017:10:58:41 +0100] \"GET /ark:/12...  \n",
       "2  - - [03/Mar/2017:11:01:15 +0100] \"GET /ark:/12...  \n",
       "3  - - [03/Mar/2017:11:01:41 +0100] \"GET /ark:/12...  \n",
       "4  - - [03/Mar/2017:11:04:15 +0100] \"GET /ark:/12...  "
      ]
     },
     "execution_count": 11,
     "metadata": {},
     "output_type": "execute_result"
    }
   ],
   "source": [
    "lines_df.head()"
   ]
  },
  {
   "cell_type": "markdown",
   "metadata": {},
   "source": [
    "### 2.1 Parsing HTTP requests"
   ]
  },
  {
   "cell_type": "markdown",
   "metadata": {},
   "source": [
    "#### Experimenting with extracting data"
   ]
  },
  {
   "cell_type": "code",
   "execution_count": 12,
   "metadata": {},
   "outputs": [],
   "source": [
    "# This is just experimental, TODO change with lazy eval regex when working on bigger data."
   ]
  },
  {
   "cell_type": "code",
   "execution_count": 13,
   "metadata": {},
   "outputs": [],
   "source": [
    "import re\n",
    "import shutil\n",
    "import requests\n",
    "import xmltodict\n",
    "from bs4 import BeautifulSoup\n",
    "from xml.etree import ElementTree as ET"
   ]
  },
  {
   "cell_type": "code",
   "execution_count": 14,
   "metadata": {
    "jupyter": {
     "source_hidden": true
    }
   },
   "outputs": [],
   "source": [
    "'''\n",
    "Function to query Gallica API and get metadata about a document from it's ark.\n",
    "inputs: \n",
    "    'id': here id is the ARK of the document, that we extract from the request\n",
    "Outputs:\n",
    "     this function outputs the result of the API as a dictionary.\n",
    "\n",
    "'''\n",
    "def OAI(id):\n",
    "\n",
    "    OAI_BASEURL = 'https://gallica.bnf.fr/services/OAIRecord?ark='\n",
    "\n",
    "    url = \"\".join([OAI_BASEURL, id])\n",
    "    #print(url)\n",
    "\n",
    "    s = requests.get(url, stream=True)\n",
    "    soup = BeautifulSoup(s.content,\"lxml-xml\")\n",
    "    #print(soup)\n",
    "    file = open('oai.xml', 'wb')\n",
    "    file.write(soup.prettify().encode('UTF-8'))\n",
    "    file.close()\n",
    "    with open('oai.xml',encoding='UTF-8') as xml:\n",
    "        doc = xmltodict.parse(xml.read())\n",
    "        return doc\n"
   ]
  },
  {
   "cell_type": "code",
   "execution_count": 15,
   "metadata": {},
   "outputs": [],
   "source": [
    "temp = pd.DataFrame()"
   ]
  },
  {
   "cell_type": "code",
   "execution_count": 16,
   "metadata": {},
   "outputs": [],
   "source": [
    "# extracting the date of query\n",
    "temp['Date']=lines_df.apply(lambda x: x[4].split(\"]\")[0].split(\"[\")[1] ,axis = 1)"
   ]
  },
  {
   "cell_type": "code",
   "execution_count": 17,
   "metadata": {},
   "outputs": [],
   "source": [
    "# extracting request\n",
    "temp['Request'] = lines_df.apply(lambda x: ' '.join(x[4].split(\"\\\"\")[1].split(' ')[:2]),axis=1)"
   ]
  },
  {
   "cell_type": "code",
   "execution_count": 18,
   "metadata": {},
   "outputs": [],
   "source": [
    "# extracting protocol, still need to look into it further\n",
    "# do i really need to extract protocol at this point?\n",
    "# commenting this for now until further research\n",
    "\n",
    "# temp['protocol'] = lines_df.apply(lambda x: x[4].split(\"\\\"\")[1].split(' ')[2], axis=1)"
   ]
  },
  {
   "cell_type": "code",
   "execution_count": 19,
   "metadata": {},
   "outputs": [],
   "source": [
    "# extracting code\n",
    "# try catch to avoid index errors, need to look into this further, what happens exactly there?\n",
    "def trycode(value, default):\n",
    "    try:\n",
    "        return value[4].split(\"\\\"\")[2].split(' ')[1]\n",
    "    except (IndexError):\n",
    "        return '-'\n",
    "    return default\n",
    "\n",
    "\n",
    "temp['Code'] = lines_df.apply(lambda x: trycode(x,'-'), axis=1)"
   ]
  },
  {
   "cell_type": "code",
   "execution_count": 20,
   "metadata": {},
   "outputs": [],
   "source": [
    "# extracting length\n",
    "# try catch to avoid index errors, need to look into this further, what happens exactly there?\n",
    "def trylength(value, default):\n",
    "    try:\n",
    "        return value[4].split(\"\\\"\")[2].split(' ')[2] \n",
    "    except (IndexError):\n",
    "        return '-'\n",
    "    return default\n",
    "\n",
    "temp['Length'] = lines_df.apply(lambda x:  trylength(x,'-') , axis=1)"
   ]
  },
  {
   "cell_type": "code",
   "execution_count": 21,
   "metadata": {},
   "outputs": [],
   "source": [
    "# extracting referant\n",
    "temp['Referant'] = lines_df.apply(lambda x: x[4].split(\"\\\"\")[3], axis=1)"
   ]
  },
  {
   "cell_type": "code",
   "execution_count": 22,
   "metadata": {},
   "outputs": [],
   "source": [
    "# extracting ark name\n",
    "\n",
    "#function to check if the request contains ark\n",
    "def extract_ark(request):\n",
    "    # capture everything between 12148 and / or between 12148 and . using regex\n",
    "    ark = '-'\n",
    "    ark = re.findall('(?<=12148/).+?(?=/)|(?<=12148/).+?(?=\\.)', request)\n",
    "    return ark\n",
    "\n",
    "\n",
    "temp['Ark'] = temp.apply(lambda x: extract_ark(x['Request']), axis=1)\n",
    "    "
   ]
  },
  {
   "cell_type": "code",
   "execution_count": 23,
   "metadata": {},
   "outputs": [],
   "source": [
    "lines_df = lines_df.rename(columns={1:\"IPAdress\",2:\"Country\",3:\"City\",4:\"Full_request\"})"
   ]
  },
  {
   "cell_type": "code",
   "execution_count": 24,
   "metadata": {},
   "outputs": [],
   "source": [
    "final_df = pd.concat([lines_df, temp],axis=1)"
   ]
  },
  {
   "cell_type": "code",
   "execution_count": 25,
   "metadata": {},
   "outputs": [
    {
     "data": {
      "text/html": [
       "<div>\n",
       "<style scoped>\n",
       "    .dataframe tbody tr th:only-of-type {\n",
       "        vertical-align: middle;\n",
       "    }\n",
       "\n",
       "    .dataframe tbody tr th {\n",
       "        vertical-align: top;\n",
       "    }\n",
       "\n",
       "    .dataframe thead th {\n",
       "        text-align: right;\n",
       "    }\n",
       "</style>\n",
       "<table border=\"1\" class=\"dataframe\">\n",
       "  <thead>\n",
       "    <tr style=\"text-align: right;\">\n",
       "      <th></th>\n",
       "      <th>0</th>\n",
       "      <th>IPAdress</th>\n",
       "      <th>Country</th>\n",
       "      <th>City</th>\n",
       "      <th>Full_request</th>\n",
       "      <th>Date</th>\n",
       "      <th>Request</th>\n",
       "      <th>Code</th>\n",
       "      <th>Length</th>\n",
       "      <th>Referant</th>\n",
       "      <th>Ark</th>\n",
       "    </tr>\n",
       "  </thead>\n",
       "  <tbody>\n",
       "    <tr>\n",
       "      <th>1195</th>\n",
       "      <td></td>\n",
       "      <td>dd7e7fe210e8c18c7652e3f0e48700b2</td>\n",
       "      <td>France</td>\n",
       "      <td>Villemoustaussou</td>\n",
       "      <td>- - [03/Mar/2017:18:04:59 +0100] \"GET /ark:/12...</td>\n",
       "      <td>03/Mar/2017:18:04:59 +0100</td>\n",
       "      <td>GET /ark:/12148/bpt6k1263204k.thumbnail</td>\n",
       "      <td>200</td>\n",
       "      <td>2291</td>\n",
       "      <td>http://gallica.bnf.fr/services/engine/search/s...</td>\n",
       "      <td>[bpt6k1263204k]</td>\n",
       "    </tr>\n",
       "    <tr>\n",
       "      <th>1196</th>\n",
       "      <td></td>\n",
       "      <td>dd7e7fe210e8c18c7652e3f0e48700b2</td>\n",
       "      <td>France</td>\n",
       "      <td>Villemoustaussou</td>\n",
       "      <td>- - [03/Mar/2017:18:04:59 +0100] \"GET /ark:/12...</td>\n",
       "      <td>03/Mar/2017:18:04:59 +0100</td>\n",
       "      <td>GET /ark:/12148/bpt6k5761916m.thumbnail</td>\n",
       "      <td>200</td>\n",
       "      <td>11323</td>\n",
       "      <td>http://gallica.bnf.fr/services/engine/search/s...</td>\n",
       "      <td>[bpt6k5761916m]</td>\n",
       "    </tr>\n",
       "    <tr>\n",
       "      <th>1197</th>\n",
       "      <td></td>\n",
       "      <td>dd7e7fe210e8c18c7652e3f0e48700b2</td>\n",
       "      <td>France</td>\n",
       "      <td>Villemoustaussou</td>\n",
       "      <td>- - [03/Mar/2017:18:04:59 +0100] \"GET /service...</td>\n",
       "      <td>03/Mar/2017:18:04:59 +0100</td>\n",
       "      <td>GET /services/ajax/extract/ark:/12148/bpt6k623...</td>\n",
       "      <td>200</td>\n",
       "      <td>1047</td>\n",
       "      <td>http://gallica.bnf.fr/services/engine/search/s...</td>\n",
       "      <td>[bpt6k6237463k]</td>\n",
       "    </tr>\n",
       "    <tr>\n",
       "      <th>1198</th>\n",
       "      <td></td>\n",
       "      <td>dd7e7fe210e8c18c7652e3f0e48700b2</td>\n",
       "      <td>France</td>\n",
       "      <td>Villemoustaussou</td>\n",
       "      <td>- - [03/Mar/2017:18:04:59 +0100] \"GET /ark:/12...</td>\n",
       "      <td>03/Mar/2017:18:04:59 +0100</td>\n",
       "      <td>GET /ark:/12148/bpt6k5495010c.thumbnail</td>\n",
       "      <td>200</td>\n",
       "      <td>9595</td>\n",
       "      <td>http://gallica.bnf.fr/services/engine/search/s...</td>\n",
       "      <td>[bpt6k5495010c]</td>\n",
       "    </tr>\n",
       "    <tr>\n",
       "      <th>1199</th>\n",
       "      <td></td>\n",
       "      <td>dd7e7fe210e8c18c7652e3f0e48700b2</td>\n",
       "      <td>France</td>\n",
       "      <td>Villemoustaussou</td>\n",
       "      <td>- - [03/Mar/2017:18:04:59 +0100] \"GET /service...</td>\n",
       "      <td>03/Mar/2017:18:04:59 +0100</td>\n",
       "      <td>GET /services/ajax/extract/ark:/12148/bpt6k553...</td>\n",
       "      <td>200</td>\n",
       "      <td>1065</td>\n",
       "      <td>http://gallica.bnf.fr/services/engine/search/s...</td>\n",
       "      <td>[bpt6k5535441w]</td>\n",
       "    </tr>\n",
       "  </tbody>\n",
       "</table>\n",
       "</div>"
      ],
      "text/plain": [
       "     0                          IPAdress Country              City  \\\n",
       "1195    dd7e7fe210e8c18c7652e3f0e48700b2  France  Villemoustaussou   \n",
       "1196    dd7e7fe210e8c18c7652e3f0e48700b2  France  Villemoustaussou   \n",
       "1197    dd7e7fe210e8c18c7652e3f0e48700b2  France  Villemoustaussou   \n",
       "1198    dd7e7fe210e8c18c7652e3f0e48700b2  France  Villemoustaussou   \n",
       "1199    dd7e7fe210e8c18c7652e3f0e48700b2  France  Villemoustaussou   \n",
       "\n",
       "                                           Full_request  \\\n",
       "1195  - - [03/Mar/2017:18:04:59 +0100] \"GET /ark:/12...   \n",
       "1196  - - [03/Mar/2017:18:04:59 +0100] \"GET /ark:/12...   \n",
       "1197  - - [03/Mar/2017:18:04:59 +0100] \"GET /service...   \n",
       "1198  - - [03/Mar/2017:18:04:59 +0100] \"GET /ark:/12...   \n",
       "1199  - - [03/Mar/2017:18:04:59 +0100] \"GET /service...   \n",
       "\n",
       "                            Date  \\\n",
       "1195  03/Mar/2017:18:04:59 +0100   \n",
       "1196  03/Mar/2017:18:04:59 +0100   \n",
       "1197  03/Mar/2017:18:04:59 +0100   \n",
       "1198  03/Mar/2017:18:04:59 +0100   \n",
       "1199  03/Mar/2017:18:04:59 +0100   \n",
       "\n",
       "                                                Request Code Length  \\\n",
       "1195            GET /ark:/12148/bpt6k1263204k.thumbnail  200   2291   \n",
       "1196            GET /ark:/12148/bpt6k5761916m.thumbnail  200  11323   \n",
       "1197  GET /services/ajax/extract/ark:/12148/bpt6k623...  200   1047   \n",
       "1198            GET /ark:/12148/bpt6k5495010c.thumbnail  200   9595   \n",
       "1199  GET /services/ajax/extract/ark:/12148/bpt6k553...  200   1065   \n",
       "\n",
       "                                               Referant              Ark  \n",
       "1195  http://gallica.bnf.fr/services/engine/search/s...  [bpt6k1263204k]  \n",
       "1196  http://gallica.bnf.fr/services/engine/search/s...  [bpt6k5761916m]  \n",
       "1197  http://gallica.bnf.fr/services/engine/search/s...  [bpt6k6237463k]  \n",
       "1198  http://gallica.bnf.fr/services/engine/search/s...  [bpt6k5495010c]  \n",
       "1199  http://gallica.bnf.fr/services/engine/search/s...  [bpt6k5535441w]  "
      ]
     },
     "execution_count": 25,
     "metadata": {},
     "output_type": "execute_result"
    }
   ],
   "source": [
    "final_df[1195:1200]"
   ]
  },
  {
   "cell_type": "markdown",
   "metadata": {},
   "source": [
    "<a class=\"anchor\" id=\"second-bullet\"></a><h2><center>II. Creating Sessions</center></h2> "
   ]
  },
  {
   "cell_type": "markdown",
   "metadata": {},
   "source": [
    "#### 1. Creating a dataframe with IP and the difference in time between each connexion and the last"
   ]
  },
  {
   "cell_type": "code",
   "execution_count": 26,
   "metadata": {},
   "outputs": [
    {
     "data": {
      "text/html": [
       "<div>\n",
       "<style scoped>\n",
       "    .dataframe tbody tr th:only-of-type {\n",
       "        vertical-align: middle;\n",
       "    }\n",
       "\n",
       "    .dataframe tbody tr th {\n",
       "        vertical-align: top;\n",
       "    }\n",
       "\n",
       "    .dataframe thead th {\n",
       "        text-align: right;\n",
       "    }\n",
       "</style>\n",
       "<table border=\"1\" class=\"dataframe\">\n",
       "  <thead>\n",
       "    <tr style=\"text-align: right;\">\n",
       "      <th></th>\n",
       "      <th>Ark</th>\n",
       "      <th>Date</th>\n",
       "    </tr>\n",
       "    <tr>\n",
       "      <th>IPAdress</th>\n",
       "      <th></th>\n",
       "      <th></th>\n",
       "    </tr>\n",
       "  </thead>\n",
       "  <tbody>\n",
       "    <tr>\n",
       "      <th>103e44bc19d6aac58db9a149c73e505b</th>\n",
       "      <td>[[]]</td>\n",
       "      <td>[03/Mar/2017:18:12:04 +0100]</td>\n",
       "    </tr>\n",
       "    <tr>\n",
       "      <th>105781f3101367c473a91d52b6d4fd67</th>\n",
       "      <td>[[bpt6k54673247], [bpt6k54673247], [bpt6k62397...</td>\n",
       "      <td>[03/Mar/2017:18:27:36 +0100, 03/Mar/2017:18:27...</td>\n",
       "    </tr>\n",
       "    <tr>\n",
       "      <th>10907c8edc0b2702015e04f49a8204a2</th>\n",
       "      <td>[[], [], [], [], [bpt6k6308044k], [bpt6k759364...</td>\n",
       "      <td>[03/Mar/2017:18:05:21 +0100, 03/Mar/2017:18:05...</td>\n",
       "    </tr>\n",
       "    <tr>\n",
       "      <th>10915f6650d7b3ab000aafb953615c4e</th>\n",
       "      <td>[[bpt6k33258628], [bpt6k3321225p], [bpt6k62553...</td>\n",
       "      <td>[03/Mar/2017:19:40:11 +0100, 03/Mar/2017:19:41...</td>\n",
       "    </tr>\n",
       "    <tr>\n",
       "      <th>10dfc529d2b8f1a7ae6f94229848fbf</th>\n",
       "      <td>[[bpt6k4453214], [], [], [], [], [], [], [], [...</td>\n",
       "      <td>[03/Mar/2017:18:38:47 +0100, 03/Mar/2017:18:39...</td>\n",
       "    </tr>\n",
       "  </tbody>\n",
       "</table>\n",
       "</div>"
      ],
      "text/plain": [
       "                                                                                Ark  \\\n",
       "IPAdress                                                                              \n",
       "103e44bc19d6aac58db9a149c73e505b                                               [[]]   \n",
       "105781f3101367c473a91d52b6d4fd67  [[bpt6k54673247], [bpt6k54673247], [bpt6k62397...   \n",
       "10907c8edc0b2702015e04f49a8204a2  [[], [], [], [], [bpt6k6308044k], [bpt6k759364...   \n",
       "10915f6650d7b3ab000aafb953615c4e  [[bpt6k33258628], [bpt6k3321225p], [bpt6k62553...   \n",
       "10dfc529d2b8f1a7ae6f94229848fbf   [[bpt6k4453214], [], [], [], [], [], [], [], [...   \n",
       "\n",
       "                                                                               Date  \n",
       "IPAdress                                                                             \n",
       "103e44bc19d6aac58db9a149c73e505b                       [03/Mar/2017:18:12:04 +0100]  \n",
       "105781f3101367c473a91d52b6d4fd67  [03/Mar/2017:18:27:36 +0100, 03/Mar/2017:18:27...  \n",
       "10907c8edc0b2702015e04f49a8204a2  [03/Mar/2017:18:05:21 +0100, 03/Mar/2017:18:05...  \n",
       "10915f6650d7b3ab000aafb953615c4e  [03/Mar/2017:19:40:11 +0100, 03/Mar/2017:19:41...  \n",
       "10dfc529d2b8f1a7ae6f94229848fbf   [03/Mar/2017:18:38:47 +0100, 03/Mar/2017:18:39...  "
      ]
     },
     "execution_count": 26,
     "metadata": {},
     "output_type": "execute_result"
    }
   ],
   "source": [
    "# Session: séquences de requêtes\n",
    "# Regrouper même adresse IP => session se termine intervalle supérieur à 60 minutes entre deux requêtes. \n",
    "sessions_df = final_df.groupby('IPAdress').agg({'Ark':list,'Date':list})\n",
    "sessions_df.head()"
   ]
  },
  {
   "cell_type": "code",
   "execution_count": 27,
   "metadata": {},
   "outputs": [],
   "source": [
    "from datetime import datetime\n",
    "'''\n",
    "Function to calculate absolute value of minutes between two dates\n",
    "inputs: \n",
    "    d1: first date\n",
    "    d2: second date\n",
    "Outputs:\n",
    "    absolute value of minutes between d1 and d2\n",
    "\n",
    "'''\n",
    "def minutes_between(d1, d2):\n",
    "    d1 = datetime.strptime(d1, \"%d/%b/%Y:%H:%M:%S\")\n",
    "    d2 = datetime.strptime(d2, \"%d/%b/%Y:%H:%M:%S\")\n",
    "    return abs(((d2 - d1)).total_seconds() // 60.0)"
   ]
  },
  {
   "cell_type": "code",
   "execution_count": 28,
   "metadata": {},
   "outputs": [],
   "source": [
    "time_beginning = \"01/Jan/0001:01:01:01 +0100\"\n",
    "time_end = \"01/Jan/3000:01:01:01 +0100\"\n",
    "sessions_df['date_1'] = sessions_df.apply(lambda x: [time_beginning]+x['Date'], axis = 1)\n",
    "sessions_df['date_2'] = sessions_df.apply(lambda x: x['Date']+[time_end],axis=1)"
   ]
  },
  {
   "cell_type": "code",
   "execution_count": 29,
   "metadata": {},
   "outputs": [],
   "source": [
    "'''\n",
    "Function to calculate the difference between two zipped lists\n",
    "'''\n",
    "def calculate_difference_zipped_list(lst):\n",
    "    new_lst = []\n",
    "    for e in lst:\n",
    "        if (e[0]==time_beginning):\n",
    "            new_lst.append(999)\n",
    "        elif (e[1]==time_end):\n",
    "            new_lst.append(999)\n",
    "        else:\n",
    "            new_lst.append(minutes_between(e[0][:-6], e[1][:-6]))\n",
    "    return new_lst\n",
    "        \n",
    "    "
   ]
  },
  {
   "cell_type": "code",
   "execution_count": 30,
   "metadata": {},
   "outputs": [],
   "source": [
    "# this contains the ip adress and the zipped version of date_1,date_2\n",
    "from collections import deque\n",
    "IP_and_sessions = sessions_df.apply(lambda x: deque(calculate_difference_zipped_list(list(zip(x['date_1'],x['date_2'])))),axis=1)"
   ]
  },
  {
   "cell_type": "code",
   "execution_count": 31,
   "metadata": {},
   "outputs": [
    {
     "data": {
      "text/plain": [
       "IPAdress\n",
       "103e44bc19d6aac58db9a149c73e505b                                           [999, 999]\n",
       "105781f3101367c473a91d52b6d4fd67    [999, 0.0, 0.0, 3.0, 0.0, 0.0, 0.0, 0.0, 0.0, ...\n",
       "dtype: object"
      ]
     },
     "execution_count": 31,
     "metadata": {},
     "output_type": "execute_result"
    }
   ],
   "source": [
    "# IP and the difference in time between each connection and the last\n",
    "IP_and_sessions[:2]"
   ]
  },
  {
   "cell_type": "markdown",
   "metadata": {},
   "source": [
    "#### 2. Enriching the original dataframe with previous connexion date column, this will be useful when we try to set a timeout to define a session"
   ]
  },
  {
   "cell_type": "code",
   "execution_count": 32,
   "metadata": {},
   "outputs": [],
   "source": [
    "# index on ipadress/date\n",
    "# queue \n",
    "final_df['previous_connexion_date']=final_df.apply(lambda x: IP_and_sessions[x['IPAdress']].popleft(),axis=1)"
   ]
  },
  {
   "cell_type": "code",
   "execution_count": 33,
   "metadata": {},
   "outputs": [
    {
     "data": {
      "text/html": [
       "<div>\n",
       "<style scoped>\n",
       "    .dataframe tbody tr th:only-of-type {\n",
       "        vertical-align: middle;\n",
       "    }\n",
       "\n",
       "    .dataframe tbody tr th {\n",
       "        vertical-align: top;\n",
       "    }\n",
       "\n",
       "    .dataframe thead th {\n",
       "        text-align: right;\n",
       "    }\n",
       "</style>\n",
       "<table border=\"1\" class=\"dataframe\">\n",
       "  <thead>\n",
       "    <tr style=\"text-align: right;\">\n",
       "      <th></th>\n",
       "      <th>0</th>\n",
       "      <th>IPAdress</th>\n",
       "      <th>Country</th>\n",
       "      <th>City</th>\n",
       "      <th>Full_request</th>\n",
       "      <th>Date</th>\n",
       "      <th>Request</th>\n",
       "      <th>Code</th>\n",
       "      <th>Length</th>\n",
       "      <th>Referant</th>\n",
       "      <th>Ark</th>\n",
       "      <th>previous_connexion_date</th>\n",
       "    </tr>\n",
       "  </thead>\n",
       "  <tbody>\n",
       "    <tr>\n",
       "      <th>0</th>\n",
       "      <td></td>\n",
       "      <td>320022e99796ca35dab7e63d48fd5e7</td>\n",
       "      <td>null</td>\n",
       "      <td>null</td>\n",
       "      <td>- - [03/Mar/2017:10:58:15 +0100] \"GET /ark:/12...</td>\n",
       "      <td>03/Mar/2017:10:58:15 +0100</td>\n",
       "      <td>GET /ark:/12148/bpt6k70211m</td>\n",
       "      <td>503</td>\n",
       "      <td>-</td>\n",
       "      <td>-</td>\n",
       "      <td>[]</td>\n",
       "      <td>999.0</td>\n",
       "    </tr>\n",
       "    <tr>\n",
       "      <th>1</th>\n",
       "      <td></td>\n",
       "      <td>e7fdec50f50253f6796d61b5382155f8</td>\n",
       "      <td>null</td>\n",
       "      <td>null</td>\n",
       "      <td>- - [03/Mar/2017:10:58:41 +0100] \"GET /ark:/12...</td>\n",
       "      <td>03/Mar/2017:10:58:41 +0100</td>\n",
       "      <td>GET /ark:/12148/bpt6k70211m</td>\n",
       "      <td>503</td>\n",
       "      <td>-</td>\n",
       "      <td>-</td>\n",
       "      <td>[]</td>\n",
       "      <td>999.0</td>\n",
       "    </tr>\n",
       "  </tbody>\n",
       "</table>\n",
       "</div>"
      ],
      "text/plain": [
       "  0                          IPAdress Country  City  \\\n",
       "0     320022e99796ca35dab7e63d48fd5e7    null  null   \n",
       "1    e7fdec50f50253f6796d61b5382155f8    null  null   \n",
       "\n",
       "                                        Full_request  \\\n",
       "0  - - [03/Mar/2017:10:58:15 +0100] \"GET /ark:/12...   \n",
       "1  - - [03/Mar/2017:10:58:41 +0100] \"GET /ark:/12...   \n",
       "\n",
       "                         Date                      Request Code Length  \\\n",
       "0  03/Mar/2017:10:58:15 +0100  GET /ark:/12148/bpt6k70211m  503      -   \n",
       "1  03/Mar/2017:10:58:41 +0100  GET /ark:/12148/bpt6k70211m  503      -   \n",
       "\n",
       "  Referant Ark  previous_connexion_date  \n",
       "0        -  []                    999.0  \n",
       "1        -  []                    999.0  "
      ]
     },
     "execution_count": 33,
     "metadata": {},
     "output_type": "execute_result"
    }
   ],
   "source": [
    "final_df.head(2)"
   ]
  },
  {
   "cell_type": "markdown",
   "metadata": {},
   "source": [
    "#### 3. Assigning a session ID to each connection according to the set rules we have set above"
   ]
  },
  {
   "cell_type": "code",
   "execution_count": 34,
   "metadata": {},
   "outputs": [],
   "source": [
    "'''\n",
    "Function to query Gallica API and get metadata about a document from it's ark.\n",
    "inputs: \n",
    "    'id': here id is the ARK of the document, that we extract from the request\n",
    "Outputs:\n",
    "     this function outputs the result of the API as a dictionary.\n",
    "\n",
    "'''\n",
    "session_id=0\n",
    "def create_session(period):\n",
    "    global session_id\n",
    "    if(period>30):\n",
    "        session_id += 1\n",
    "    return session_id"
   ]
  },
  {
   "cell_type": "code",
   "execution_count": 35,
   "metadata": {},
   "outputs": [],
   "source": [
    "final_df=final_df.sort_values(by=['IPAdress','Date'])\n",
    "final_df['session_id'] = final_df.apply(lambda x: create_session(x['previous_connexion_date']),axis=1)"
   ]
  },
  {
   "cell_type": "markdown",
   "metadata": {},
   "source": [
    "#### 4. Creating sessions by grouping by session ID and collecting all ARKs\n"
   ]
  },
  {
   "cell_type": "code",
   "execution_count": 36,
   "metadata": {},
   "outputs": [],
   "source": [
    "sessions = final_df.groupby('session_id').agg({'Ark':list})"
   ]
  },
  {
   "cell_type": "markdown",
   "metadata": {},
   "source": [
    "#### 5. Converting arks from sessions to document titles"
   ]
  },
  {
   "cell_type": "code",
   "execution_count": 37,
   "metadata": {
    "jupyter": {
     "source_hidden": true
    }
   },
   "outputs": [],
   "source": [
    "'''\n",
    "get titles from ARKs\n",
    "\n",
    "Input: list of arks\n",
    "\n",
    "Output: list of document titles\n",
    "\n",
    "'''\n",
    "def get_title_from_ark(l):\n",
    "    temp = []\n",
    "    for ark in l:  \n",
    "        title = ''\n",
    "        if(len(ark)>0):\n",
    "            oai_result = OAI(ark[0]) \n",
    "            if(oai_result != None ):\n",
    "                try:\n",
    "                    title = oai_result.get('results').get('notice').get('record').get('metadata').get('oai_dc:dc').get('dc:title')\n",
    "                except:\n",
    "                    title = ''\n",
    "                \n",
    "        temp.append(title)\n",
    "    return temp"
   ]
  },
  {
   "cell_type": "code",
   "execution_count": 38,
   "metadata": {
    "jupyter": {
     "source_hidden": true
    }
   },
   "outputs": [],
   "source": [
    "'''\n",
    "get titles from ARKs using caching, if a user opens the same document twice we do not do any API call\n",
    "\n",
    "Input: list of arks\n",
    "\n",
    "Output: list of document titles\n",
    "\n",
    "'''\n",
    "def get_title_from_ark_cache(l):\n",
    "    temp = []\n",
    "    cache = {}\n",
    "    for ark in l:  \n",
    "        title = ''\n",
    "        # remembering that l is a list of list [[ark1],[ark2],[ark3]]\n",
    "        # if ark is not empty\n",
    "        if(len(ark)>0):\n",
    "            # check if ark in cache\n",
    "            if ark[0] in cache:\n",
    "                temp.append(cache.get(ark))\n",
    "                continue\n",
    "            else:            \n",
    "                oai_result = OAI(ark[0]) \n",
    "                if(oai_result != None ):\n",
    "                    try:\n",
    "                        title = oai_result.get('results').get('notice').get('record').get('metadata').get('oai_dc:dc').get('dc:title')\n",
    "                        cache[\"ark\"]=title\n",
    "                    except:\n",
    "                        title = ''\n",
    "\n",
    "        temp.append(title)\n",
    "    return temp"
   ]
  },
  {
   "cell_type": "code",
   "execution_count": 39,
   "metadata": {},
   "outputs": [],
   "source": [
    "# testing on 5 sessions, API calls are taking a bit too much time so far.\n",
    "sessions_5 = sessions[:5]"
   ]
  },
  {
   "cell_type": "code",
   "execution_count": 40,
   "metadata": {},
   "outputs": [],
   "source": [
    "sessions_5['document_titles_path'] = sessions_5.apply(lambda x: get_title_from_ark_cache(x['Ark']),axis = 1)"
   ]
  },
  {
   "cell_type": "code",
   "execution_count": 41,
   "metadata": {},
   "outputs": [
    {
     "data": {
      "text/html": [
       "<div>\n",
       "<style scoped>\n",
       "    .dataframe tbody tr th:only-of-type {\n",
       "        vertical-align: middle;\n",
       "    }\n",
       "\n",
       "    .dataframe tbody tr th {\n",
       "        vertical-align: top;\n",
       "    }\n",
       "\n",
       "    .dataframe thead th {\n",
       "        text-align: right;\n",
       "    }\n",
       "</style>\n",
       "<table border=\"1\" class=\"dataframe\">\n",
       "  <thead>\n",
       "    <tr style=\"text-align: right;\">\n",
       "      <th></th>\n",
       "      <th>Ark</th>\n",
       "      <th>document_titles_path</th>\n",
       "    </tr>\n",
       "    <tr>\n",
       "      <th>session_id</th>\n",
       "      <th></th>\n",
       "      <th></th>\n",
       "    </tr>\n",
       "  </thead>\n",
       "  <tbody>\n",
       "    <tr>\n",
       "      <th>1</th>\n",
       "      <td>[[]]</td>\n",
       "      <td>[]</td>\n",
       "    </tr>\n",
       "    <tr>\n",
       "      <th>2</th>\n",
       "      <td>[[bpt6k54673247], [bpt6k54673247], [bpt6k62397...</td>\n",
       "      <td>[Le Progrès, Le Progrès, L'Avenir de Souk-Ahra...</td>\n",
       "    </tr>\n",
       "    <tr>\n",
       "      <th>3</th>\n",
       "      <td>[[], [], [], [], [bpt6k6308044k], [bpt6k759364...</td>\n",
       "      <td>[, , , , Le Rire : journal humoristique, L'Act...</td>\n",
       "    </tr>\n",
       "    <tr>\n",
       "      <th>4</th>\n",
       "      <td>[[bpt6k33258628], [bpt6k3321225p], [bpt6k62553...</td>\n",
       "      <td>[La pratique administrative dans la fonction p...</td>\n",
       "    </tr>\n",
       "    <tr>\n",
       "      <th>5</th>\n",
       "      <td>[[bpt6k4453214], [], [], [], [], [], [], [], [...</td>\n",
       "      <td>[Matériaux pour l'histoire primitive et nature...</td>\n",
       "    </tr>\n",
       "  </tbody>\n",
       "</table>\n",
       "</div>"
      ],
      "text/plain": [
       "                                                          Ark  \\\n",
       "session_id                                                      \n",
       "1                                                        [[]]   \n",
       "2           [[bpt6k54673247], [bpt6k54673247], [bpt6k62397...   \n",
       "3           [[], [], [], [], [bpt6k6308044k], [bpt6k759364...   \n",
       "4           [[bpt6k33258628], [bpt6k3321225p], [bpt6k62553...   \n",
       "5           [[bpt6k4453214], [], [], [], [], [], [], [], [...   \n",
       "\n",
       "                                         document_titles_path  \n",
       "session_id                                                     \n",
       "1                                                          []  \n",
       "2           [Le Progrès, Le Progrès, L'Avenir de Souk-Ahra...  \n",
       "3           [, , , , Le Rire : journal humoristique, L'Act...  \n",
       "4           [La pratique administrative dans la fonction p...  \n",
       "5           [Matériaux pour l'histoire primitive et nature...  "
      ]
     },
     "execution_count": 41,
     "metadata": {},
     "output_type": "execute_result"
    }
   ],
   "source": [
    "\n",
    "# TODO: contact Gallica ?\n",
    "sessions_5"
   ]
  },
  {
   "cell_type": "markdown",
   "metadata": {},
   "source": [
    "#### 6. Converting arks to themes"
   ]
  },
  {
   "cell_type": "markdown",
   "metadata": {},
   "source": [
    "First we start by making a dictionary of gallica themes, how we obtain those themes is explained in this link https://api.bnf.fr/fr/api-gallica-de-recherche where each index has a signification:\n",
    "\n",
    "            0 = Généralités\n",
    "\t\t\t1 = Philosophie et psychologie\n",
    "\t\t\t2 = Religion\n",
    "\t\t\t3 = Économie et société\n",
    "\t\t\t4 = Langues\n",
    "\t\t\t5 = Sciences\n",
    "\t\t\t6 = Techniques\n",
    "\t\t\t7 = Arts et loisirs\n",
    "\t\t\t8 = Littérature\n",
    "\t\t\t9 = Histoire et géographie\n",
    "            \n",
    "            \n",
    "TODO: implement caching for both solutions, one query for both title and themes\n",
    "\n"
   ]
  },
  {
   "cell_type": "code",
   "execution_count": 86,
   "metadata": {},
   "outputs": [],
   "source": [
    "# dictionary of gallica themes, useful to interpret results from Gallica API queries\n",
    "index_to_themes = {'0':'Généralités','1':'Philosophie et psychologie','2':'Religion','3':'Économie et société','4':'Langues','5':'Sciences','6':'Techniques','7':'Arts et loisirs','8':'Littérature','9':'Histoire et géographie'}"
   ]
  },
  {
   "cell_type": "code",
   "execution_count": 115,
   "metadata": {},
   "outputs": [],
   "source": [
    "'''\n",
    "get themes from ARKs using caching, if a user opens the same document twice we do not do any API call\n",
    "\n",
    "Input: list of arks\n",
    "\n",
    "Output: list of document titles\n",
    "\n",
    "'''\n",
    "def get_theme_from_ark_cache(l):\n",
    "    temp = []\n",
    "    cache = {}\n",
    "    # regular expression to only catch fields containing theme\n",
    "    r = re.compile(\".*theme\")\n",
    "    for ark in l:  \n",
    "        theme = ''\n",
    "        # remembering that l is a list of list [[ark1],[ark2],[ark3]]\n",
    "        # if ark is not empty\n",
    "        if(len(ark)>0):\n",
    "            # check if ark in cache\n",
    "            if ark[0] in cache:\n",
    "                temp.append(cache.get(ark))\n",
    "                continue\n",
    "            else:            \n",
    "                oai_result = OAI(ark[0]) \n",
    "                if(oai_result != None ):\n",
    "                    try:\n",
    "                        theme = oai_result.get('results').get('notice').get('record').get('header').get('setSpec')\n",
    "                        theme = list(filter(r.match, theme))[0].split(':')[2] # Read Note\n",
    "                        theme = index_to_themes.get(theme)\n",
    "                        cache[\"ark\"]=theme\n",
    "                    except:\n",
    "                        theme = ''\n",
    "\n",
    "        temp.append(theme)\n",
    "    return temp"
   ]
  },
  {
   "cell_type": "code",
   "execution_count": 118,
   "metadata": {},
   "outputs": [],
   "source": [
    "# visualising one path with themes\n",
    "sessions_5['document_theme_path'] = sessions_5.apply(lambda x: get_theme_from_ark_cache(x['Ark']),axis = 1)"
   ]
  },
  {
   "cell_type": "code",
   "execution_count": 207,
   "metadata": {},
   "outputs": [
    {
     "data": {
      "text/html": [
       "<div>\n",
       "<style scoped>\n",
       "    .dataframe tbody tr th:only-of-type {\n",
       "        vertical-align: middle;\n",
       "    }\n",
       "\n",
       "    .dataframe tbody tr th {\n",
       "        vertical-align: top;\n",
       "    }\n",
       "\n",
       "    .dataframe thead th {\n",
       "        text-align: right;\n",
       "    }\n",
       "</style>\n",
       "<table border=\"1\" class=\"dataframe\">\n",
       "  <thead>\n",
       "    <tr style=\"text-align: right;\">\n",
       "      <th></th>\n",
       "      <th>Ark</th>\n",
       "      <th>document_titles_path</th>\n",
       "      <th>document_theme_path</th>\n",
       "    </tr>\n",
       "    <tr>\n",
       "      <th>session_id</th>\n",
       "      <th></th>\n",
       "      <th></th>\n",
       "      <th></th>\n",
       "    </tr>\n",
       "  </thead>\n",
       "  <tbody>\n",
       "    <tr>\n",
       "      <th>1</th>\n",
       "      <td>[[]]</td>\n",
       "      <td>[]</td>\n",
       "      <td>[]</td>\n",
       "    </tr>\n",
       "    <tr>\n",
       "      <th>2</th>\n",
       "      <td>[[bpt6k54673247], [bpt6k54673247], [bpt6k62397...</td>\n",
       "      <td>[Le Progrès, Le Progrès, L'Avenir de Souk-Ahra...</td>\n",
       "      <td>[Généralités, Généralités, Histoire et géograp...</td>\n",
       "    </tr>\n",
       "    <tr>\n",
       "      <th>3</th>\n",
       "      <td>[[], [], [], [], [bpt6k6308044k], [bpt6k759364...</td>\n",
       "      <td>[, , , , Le Rire : journal humoristique, L'Act...</td>\n",
       "      <td>[, , , , Généralités, Généralités, Généralités...</td>\n",
       "    </tr>\n",
       "    <tr>\n",
       "      <th>4</th>\n",
       "      <td>[[bpt6k33258628], [bpt6k3321225p], [bpt6k62553...</td>\n",
       "      <td>[La pratique administrative dans la fonction p...</td>\n",
       "      <td>[Économie et société, Économie et société, His...</td>\n",
       "    </tr>\n",
       "    <tr>\n",
       "      <th>5</th>\n",
       "      <td>[[bpt6k4453214], [], [], [], [], [], [], [], [...</td>\n",
       "      <td>[Matériaux pour l'histoire primitive et nature...</td>\n",
       "      <td>[Histoire et géographie, , , , , , , , , , ]</td>\n",
       "    </tr>\n",
       "  </tbody>\n",
       "</table>\n",
       "</div>"
      ],
      "text/plain": [
       "                                                          Ark  \\\n",
       "session_id                                                      \n",
       "1                                                        [[]]   \n",
       "2           [[bpt6k54673247], [bpt6k54673247], [bpt6k62397...   \n",
       "3           [[], [], [], [], [bpt6k6308044k], [bpt6k759364...   \n",
       "4           [[bpt6k33258628], [bpt6k3321225p], [bpt6k62553...   \n",
       "5           [[bpt6k4453214], [], [], [], [], [], [], [], [...   \n",
       "\n",
       "                                         document_titles_path  \\\n",
       "session_id                                                      \n",
       "1                                                          []   \n",
       "2           [Le Progrès, Le Progrès, L'Avenir de Souk-Ahra...   \n",
       "3           [, , , , Le Rire : journal humoristique, L'Act...   \n",
       "4           [La pratique administrative dans la fonction p...   \n",
       "5           [Matériaux pour l'histoire primitive et nature...   \n",
       "\n",
       "                                          document_theme_path  \n",
       "session_id                                                     \n",
       "1                                                          []  \n",
       "2           [Généralités, Généralités, Histoire et géograp...  \n",
       "3           [, , , , Généralités, Généralités, Généralités...  \n",
       "4           [Économie et société, Économie et société, His...  \n",
       "5                [Histoire et géographie, , , , , , , , , , ]  "
      ]
     },
     "execution_count": 207,
     "metadata": {},
     "output_type": "execute_result"
    }
   ],
   "source": [
    "sessions_5"
   ]
  },
  {
   "cell_type": "markdown",
   "metadata": {},
   "source": [
    "#### 7. TODO Adding sub themes "
   ]
  },
  {
   "cell_type": "markdown",
   "metadata": {},
   "source": [
    "<a class=\"anchor\" id=\"third-bullet\"></a><h2><center>III. Word2vec Representation</center></h2> "
   ]
  },
  {
   "cell_type": "markdown",
   "metadata": {},
   "source": [
    "In this part I will try to represent the arks in a 2D dimension using word2vec, each ark will be assigned a vector.\n",
    "\n",
    "Word2vec model is trained directly from the requests.\n",
    "\n",
    "Choice between 2 models : \n",
    "* Skip-gram: Model will take one word as input, but it will return multiple words as per window size.\n",
    "* CBOW (Continuous Bag of Words): takes the context of each word as the input and tries to predict the word corresponding to the context. \n"
   ]
  },
  {
   "cell_type": "markdown",
   "metadata": {},
   "source": [
    "#### 1. Extract referant ark"
   ]
  },
  {
   "cell_type": "markdown",
   "metadata": {},
   "source": [
    "First we aim to create a list for each request containing [ ark , referant_ark ]"
   ]
  },
  {
   "cell_type": "code",
   "execution_count": 169,
   "metadata": {},
   "outputs": [
    {
     "data": {
      "text/html": [
       "<div>\n",
       "<style scoped>\n",
       "    .dataframe tbody tr th:only-of-type {\n",
       "        vertical-align: middle;\n",
       "    }\n",
       "\n",
       "    .dataframe tbody tr th {\n",
       "        vertical-align: top;\n",
       "    }\n",
       "\n",
       "    .dataframe thead th {\n",
       "        text-align: right;\n",
       "    }\n",
       "</style>\n",
       "<table border=\"1\" class=\"dataframe\">\n",
       "  <thead>\n",
       "    <tr style=\"text-align: right;\">\n",
       "      <th></th>\n",
       "      <th>0</th>\n",
       "      <th>IPAdress</th>\n",
       "      <th>Country</th>\n",
       "      <th>City</th>\n",
       "      <th>Full_request</th>\n",
       "      <th>Date</th>\n",
       "      <th>Request</th>\n",
       "      <th>Code</th>\n",
       "      <th>Length</th>\n",
       "      <th>Referant</th>\n",
       "      <th>Ark</th>\n",
       "      <th>previous_connexion_date</th>\n",
       "      <th>session_id</th>\n",
       "      <th>Referant_Ark</th>\n",
       "      <th>Ark_list</th>\n",
       "    </tr>\n",
       "  </thead>\n",
       "  <tbody>\n",
       "    <tr>\n",
       "      <th>5235</th>\n",
       "      <td></td>\n",
       "      <td>103e44bc19d6aac58db9a149c73e505b</td>\n",
       "      <td>United States</td>\n",
       "      <td>Menlo Park</td>\n",
       "      <td>- - [03/Mar/2017:18:12:04 +0100] \"GET /resize?...</td>\n",
       "      <td>03/Mar/2017:18:12:04 +0100</td>\n",
       "      <td>GET /resize?w=90&amp;url=http%3A%2F%2Fgallica.bnf....</td>\n",
       "      <td>404</td>\n",
       "      <td>380</td>\n",
       "      <td>-</td>\n",
       "      <td>[]</td>\n",
       "      <td>999.0</td>\n",
       "      <td>1</td>\n",
       "      <td>[]</td>\n",
       "      <td>[[], []]</td>\n",
       "    </tr>\n",
       "    <tr>\n",
       "      <th>12352</th>\n",
       "      <td></td>\n",
       "      <td>105781f3101367c473a91d52b6d4fd67</td>\n",
       "      <td>France</td>\n",
       "      <td>Rubelles</td>\n",
       "      <td>- - [03/Mar/2017:18:27:36 +0100] \"GET /iiif/ar...</td>\n",
       "      <td>03/Mar/2017:18:27:36 +0100</td>\n",
       "      <td>GET /iiif/ark:/12148/bpt6k54673247/f1/0,0,3819...</td>\n",
       "      <td>200</td>\n",
       "      <td>19377</td>\n",
       "      <td>http://gallica.bnf.fr/ark:/12148/bpt6k54673247...</td>\n",
       "      <td>[bpt6k54673247]</td>\n",
       "      <td>999.0</td>\n",
       "      <td>2</td>\n",
       "      <td>[bpt6k54673247]</td>\n",
       "      <td>[[bpt6k54673247], [bpt6k54673247]]</td>\n",
       "    </tr>\n",
       "  </tbody>\n",
       "</table>\n",
       "</div>"
      ],
      "text/plain": [
       "      0                          IPAdress        Country        City  \\\n",
       "5235     103e44bc19d6aac58db9a149c73e505b  United States  Menlo Park   \n",
       "12352    105781f3101367c473a91d52b6d4fd67         France    Rubelles   \n",
       "\n",
       "                                            Full_request  \\\n",
       "5235   - - [03/Mar/2017:18:12:04 +0100] \"GET /resize?...   \n",
       "12352  - - [03/Mar/2017:18:27:36 +0100] \"GET /iiif/ar...   \n",
       "\n",
       "                             Date  \\\n",
       "5235   03/Mar/2017:18:12:04 +0100   \n",
       "12352  03/Mar/2017:18:27:36 +0100   \n",
       "\n",
       "                                                 Request Code Length  \\\n",
       "5235   GET /resize?w=90&url=http%3A%2F%2Fgallica.bnf....  404    380   \n",
       "12352  GET /iiif/ark:/12148/bpt6k54673247/f1/0,0,3819...  200  19377   \n",
       "\n",
       "                                                Referant              Ark  \\\n",
       "5235                                                   -               []   \n",
       "12352  http://gallica.bnf.fr/ark:/12148/bpt6k54673247...  [bpt6k54673247]   \n",
       "\n",
       "       previous_connexion_date  session_id     Referant_Ark  \\\n",
       "5235                     999.0           1               []   \n",
       "12352                    999.0           2  [bpt6k54673247]   \n",
       "\n",
       "                                 Ark_list  \n",
       "5235                             [[], []]  \n",
       "12352  [[bpt6k54673247], [bpt6k54673247]]  "
      ]
     },
     "execution_count": 169,
     "metadata": {},
     "output_type": "execute_result"
    }
   ],
   "source": [
    "#first we initialize the dataframe we would be working on for this part\n",
    "repr_df = final_df.copy()\n",
    "repr_df['Referant_Ark'] = repr_df.apply(lambda x: extract_ark(x['Referant']), axis=1)\n",
    "repr_df['Ark_list'] = repr_df.apply(lambda x: [x['Ark'],x['Referant_Ark']],axis = 1)\n",
    "repr_df.head(2)"
   ]
  },
  {
   "cell_type": "markdown",
   "metadata": {},
   "source": [
    "#### 2. Creating corpus"
   ]
  },
  {
   "cell_type": "markdown",
   "metadata": {},
   "source": [
    "Our corpus would be represented as [ [ ark1 , referant_ark1 ] , [ ark2 , referant_ark2 ], [ ark2 , referant_ark2 ] ... ] "
   ]
  },
  {
   "cell_type": "markdown",
   "metadata": {},
   "source": [
    "TODO: change repr to [ark1,ark2,ark3,ark4]"
   ]
  },
  {
   "cell_type": "code",
   "execution_count": 170,
   "metadata": {},
   "outputs": [],
   "source": [
    "#we filter all requests that have the same ark as referant and original, we also ignore empty arks.\n",
    "repr_df = repr_df.loc[repr_df.apply(lambda x: x['Referant_Ark']!= [] and x['Ark']!= [] and x['Referant_Ark']!= x['Ark'] ,axis = 1 )]['Ark_list']\n"
   ]
  },
  {
   "cell_type": "code",
   "execution_count": 173,
   "metadata": {},
   "outputs": [
    {
     "data": {
      "text/plain": [
       "28289        [[bpt6k404856c], [cb327877302]]\n",
       "11051       [[bpt6k6394101d], [cb34378481r]]\n",
       "12701       [[bpt6k6467719h], [cb343492000]]\n",
       "12703       [[bpt6k6467717p], [cb343492000]]\n",
       "12704       [[bpt6k6467717p], [cb343492000]]\n",
       "                         ...                \n",
       "92837     [[bpt6k62459525], [bpt6k6244617c]]\n",
       "93201       [[cb34432899t], [bpt6k62459525]]\n",
       "102185      [[bpt6k5744051b], [cb34458709m]]\n",
       "102277      [[bpt6k5744051b], [cb34458709m]]\n",
       "152476      [[bpt6k5564700h], [cb32731184v]]\n",
       "Name: Ark_list, Length: 431, dtype: object"
      ]
     },
     "execution_count": 173,
     "metadata": {},
     "output_type": "execute_result"
    }
   ],
   "source": [
    "repr_df"
   ]
  },
  {
   "cell_type": "code",
   "execution_count": 194,
   "metadata": {},
   "outputs": [],
   "source": [
    "# Create the list of list format of the custom corpus for gensim modeling \n",
    "corpus = [[row[0][0],row[1][0]] for row in repr_df]"
   ]
  },
  {
   "cell_type": "code",
   "execution_count": 196,
   "metadata": {},
   "outputs": [
    {
     "data": {
      "text/plain": [
       "[['bpt6k404856c', 'cb327877302'],\n",
       " ['bpt6k6394101d', 'cb34378481r'],\n",
       " ['bpt6k6467719h', 'cb343492000'],\n",
       " ['bpt6k6467717p', 'cb343492000'],\n",
       " ['bpt6k6467717p', 'cb343492000']]"
      ]
     },
     "execution_count": 196,
     "metadata": {},
     "output_type": "execute_result"
    }
   ],
   "source": [
    "# view corpus\n",
    "corpus[:5]"
   ]
  },
  {
   "cell_type": "code",
   "execution_count": 220,
   "metadata": {},
   "outputs": [
    {
     "data": {
      "text/plain": [
       "431"
      ]
     },
     "execution_count": 220,
     "metadata": {},
     "output_type": "execute_result"
    }
   ],
   "source": [
    "len(corpus)"
   ]
  },
  {
   "cell_type": "markdown",
   "metadata": {},
   "source": [
    "#### 3. Inputing corpus to the model"
   ]
  },
  {
   "cell_type": "code",
   "execution_count": 199,
   "metadata": {},
   "outputs": [],
   "source": [
    "import gensim\n",
    "from gensim.test.utils import common_texts\n",
    "from gensim.models import Word2Vec"
   ]
  },
  {
   "cell_type": "markdown",
   "metadata": {},
   "source": [
    "* size: The number of dimensions of the embeddings and the default is 100.\n",
    "* window: The maximum distance between a target word and words around the target word. The default window is 5.\n",
    "* min_count: The minimum count of words to consider when training the model; words with occurrence less than this count will be ignored. The default for min_count is 5.\n",
    "* workers: The number of partitions during training and the default workers is 3.\n",
    "* sg: The training algorithm, either CBOW(0) or skip gram(1). The default training algorithm is CBOW."
   ]
  },
  {
   "cell_type": "code",
   "execution_count": 204,
   "metadata": {},
   "outputs": [],
   "source": [
    "model = Word2Vec(corpus, min_count=1,size= 50,workers=3, window =3, sg = 1)"
   ]
  },
  {
   "cell_type": "markdown",
   "metadata": {},
   "source": [
    "#### 5. Model results + T-SNE representation"
   ]
  },
  {
   "cell_type": "code",
   "execution_count": 208,
   "metadata": {},
   "outputs": [
    {
     "data": {
      "text/plain": [
       "array([ 0.00323837,  0.00182838, -0.00300966, -0.00372714,  0.00717202,\n",
       "       -0.00104797, -0.00180374,  0.00332456,  0.00211593, -0.00875297,\n",
       "       -0.00114901, -0.00804507, -0.00054302,  0.00587437, -0.00979225,\n",
       "        0.00932064,  0.0079716 , -0.00557393,  0.00434826,  0.0042955 ,\n",
       "       -0.00337432,  0.00915539,  0.00057827, -0.00081348,  0.00871266,\n",
       "        0.00507352,  0.0004839 ,  0.00160007,  0.00704157,  0.00333393,\n",
       "        0.00526501,  0.00107506, -0.00678855, -0.00051837, -0.00112427,\n",
       "        0.00736201, -0.00170719,  0.00274247,  0.00454962, -0.00963529,\n",
       "       -0.00895235,  0.00110883,  0.00303389, -0.00037494, -0.00762413,\n",
       "       -0.00344611, -0.00426454,  0.00486654,  0.00157237, -0.0054455 ],\n",
       "      dtype=float32)"
      ]
     },
     "execution_count": 208,
     "metadata": {},
     "output_type": "execute_result"
    }
   ],
   "source": [
    "# trying the model with one word\n",
    "model.wv['bpt6k6467717p']"
   ]
  },
  {
   "cell_type": "markdown",
   "metadata": {},
   "source": [
    "TODO do this representation on all data. cluster? run everything on my laptop?"
   ]
  },
  {
   "cell_type": "markdown",
   "metadata": {},
   "source": [
    "<a class=\"anchor\" id=\"fourth-bullet\"></a><h2><center>IV. Path representation </center></h2> "
   ]
  },
  {
   "cell_type": "markdown",
   "metadata": {},
   "source": [
    "#### 1. Example of one single path from a title/theme point of view"
   ]
  },
  {
   "cell_type": "code",
   "execution_count": 219,
   "metadata": {},
   "outputs": [
    {
     "data": {
      "text/plain": [
       "['Le Progrès',\n",
       " 'Le Progrès',\n",
       " \"L'Avenir de Souk-Ahras : journal hebdomadaire indépendant, paraissant le dimanche : organe de défense des intérêts généraux de Souk-Ahras, Tébessa, Ain-Beida, Sedrata et leurs régions\",\n",
       " 'Le Temps',\n",
       " 'Le Temps',\n",
       " 'Le Temps',\n",
       " 'Le Temps',\n",
       " 'Le Temps',\n",
       " 'Le Temps',\n",
       " 'Le Temps',\n",
       " 'Le Temps',\n",
       " 'Le Temps',\n",
       " '',\n",
       " '',\n",
       " 'Le Journal',\n",
       " '',\n",
       " '',\n",
       " \"L'Afrique du Nord illustrée : journal hebdomadaire d'actualités nord-africaines : Algérie, Tunisie, Maroc\",\n",
       " \"Le Mutilé de l'Algérie : journal des mutilés, réformés et blessés de guerre de l'Afrique du Nord\",\n",
       " \"Le Mutilé de l'Algérie : journal des mutilés, réformés et blessés de guerre de l'Afrique du Nord\",\n",
       " \"Le Mutilé de l'Algérie : journal des mutilés, réformés et blessés de guerre de l'Afrique du Nord\",\n",
       " \"Le Mutilé de l'Algérie : journal des mutilés, réformés et blessés de guerre de l'Afrique du Nord\",\n",
       " \"Le Mutilé de l'Algérie : journal des mutilés, réformés et blessés de guerre de l'Afrique du Nord\",\n",
       " \"Le Mutilé de l'Algérie : journal des mutilés, réformés et blessés de guerre de l'Afrique du Nord\",\n",
       " \"Indicateur de l'archéologue et du collectionneur : bulletin mensuel illustré\",\n",
       " '',\n",
       " 'Journal officiel de la République française',\n",
       " 'Historique du 17e bataillon de chasseurs à pied pendant la guerre 1914-1918',\n",
       " 'Historique du 17e bataillon de chasseurs à pied pendant la guerre 1914-1918',\n",
       " 'Historique du 17e bataillon de chasseurs à pied pendant la guerre 1914-1918',\n",
       " 'Historique du 17e bataillon de chasseurs à pied pendant la guerre 1914-1918',\n",
       " \"L'Annuaire industriel : répertoire analytique général de l'industrie\",\n",
       " \"Portraits et caractères de personnages distingués de la fin du XVIIIe siècle , suivis de pièces sur l'histoire et la politique, par M. Sénac de Meilhan ; précédés d'une notice sur sa personne et ses ouvrages, par M. de Lévis\",\n",
       " 'Musée social : bulletin mensuel',\n",
       " \"Histoire générale des communes de France. Saint-Jean-d'Angely sous la Révolution et jusqu'à l'époque contemporaine (1789-1909) , par Amédée Mesnard,...\",\n",
       " \"L'Agriculture pratique des pays chauds : bulletin du Jardin colonial et des jardins d'essai des colonies françaises\",\n",
       " \"L'Agriculture pratique des pays chauds : bulletin du Jardin colonial et des jardins d'essai des colonies françaises\",\n",
       " \"L'Agriculture pratique des pays chauds : bulletin du Jardin colonial et des jardins d'essai des colonies françaises\",\n",
       " \"Bulletin administratif de l'Annam\",\n",
       " \"Région d'Oran : instructions préfectorales hebdomadaires\",\n",
       " \"Région d'Oran : instructions préfectorales hebdomadaires\",\n",
       " \"Région d'Oran : instructions préfectorales hebdomadaires\",\n",
       " \"Région d'Oran : instructions préfectorales hebdomadaires\",\n",
       " 'Bulletin officiel de Madagascar et de ses dépendances']"
      ]
     },
     "execution_count": 219,
     "metadata": {},
     "output_type": "execute_result"
    }
   ],
   "source": [
    "list(sessions_5.iloc[1]['document_titles_path'])"
   ]
  },
  {
   "cell_type": "code",
   "execution_count": 216,
   "metadata": {},
   "outputs": [
    {
     "data": {
      "text/plain": [
       "['Généralités',\n",
       " 'Généralités',\n",
       " 'Histoire et géographie',\n",
       " 'Généralités',\n",
       " 'Généralités',\n",
       " 'Généralités',\n",
       " 'Généralités',\n",
       " 'Généralités',\n",
       " 'Généralités',\n",
       " 'Généralités',\n",
       " 'Généralités',\n",
       " 'Généralités',\n",
       " '',\n",
       " '',\n",
       " 'Généralités',\n",
       " '',\n",
       " '',\n",
       " 'Histoire et géographie',\n",
       " 'Généralités',\n",
       " 'Généralités',\n",
       " 'Généralités',\n",
       " 'Généralités',\n",
       " 'Généralités',\n",
       " 'Généralités',\n",
       " 'Histoire et géographie',\n",
       " '',\n",
       " 'Économie et société',\n",
       " 'Histoire et géographie',\n",
       " 'Histoire et géographie',\n",
       " 'Histoire et géographie',\n",
       " 'Histoire et géographie',\n",
       " 'Techniques',\n",
       " 'Littérature',\n",
       " 'Économie et société',\n",
       " '',\n",
       " 'Techniques',\n",
       " 'Techniques',\n",
       " 'Techniques',\n",
       " 'Économie et société',\n",
       " 'Économie et société',\n",
       " 'Économie et société',\n",
       " 'Économie et société',\n",
       " 'Économie et société',\n",
       " 'Économie et société']"
      ]
     },
     "execution_count": 216,
     "metadata": {},
     "output_type": "execute_result"
    }
   ],
   "source": [
    "list(sessions_5.iloc[1]['document_theme_path'])"
   ]
  },
  {
   "cell_type": "code",
   "execution_count": null,
   "metadata": {},
   "outputs": [],
   "source": [
    "<a class=\"anchor\" id=\"first-bullet\"></a><h2><center>I. Exploring Gallica Logs</center></h2> "
   ]
  }
 ],
 "metadata": {
  "kernelspec": {
   "display_name": "Python 3",
   "language": "python",
   "name": "python3"
  },
  "language_info": {
   "codemirror_mode": {
    "name": "ipython",
    "version": 3
   },
   "file_extension": ".py",
   "mimetype": "text/x-python",
   "name": "python",
   "nbconvert_exporter": "python",
   "pygments_lexer": "ipython3",
   "version": "3.7.9"
  }
 },
 "nbformat": 4,
 "nbformat_minor": 4
}
