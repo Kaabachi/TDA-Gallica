{
 "cells": [
  {
   "cell_type": "markdown",
   "metadata": {},
   "source": [
    "<h1><center>Semester Project</center></h1>\n"
   ]
  },
  {
   "cell_type": "markdown",
   "metadata": {},
   "source": [
    "Over the past decades, the development of online scientific platforms like \n",
    "arXiv.org or JSTOR radically changed the way researchers access, browse, or read \n",
    "scientific articles. Yet, while observing the behavior of researchers in libraries and \n",
    "laboratories has become commonplace in the humanities, the computational study \n",
    "of digital research practices is only in its early days. This project aims at documenting \n",
    "the behavior of scientists on online platforms by making sense of the digital traces \n",
    "they generate while navigating.\n",
    "\n",
    "During this project we are using the browsing logs of Gallica ( https://gallica.bnf.fr/ ) to make sense of user experience and identify patterns.\n",
    "\n",
    "Project goals : \n",
    "\n",
    "* Parsing and sessionizing the log files in order to extract relevant sessions.\n",
    "* Building an ontology based on the descriptors provided by the ARKs (Archival Resource Key, i.e. the metadata) of the documents (type of document, discipline, year, etc.)\n",
    "* Using off-the-shelf Python libraries of topological data analysis (TDA) to identify the geometrical shapes of users’ paths through the ontology\n",
    "* Building a typology of users’ behaviour on the platform by clustering the previously identified users’ paths"
   ]
  },
  {
   "cell_type": "markdown",
   "metadata": {},
   "source": [
    "## Table Of Content:\n",
    "[I. Exploring Gallica Logs](#first-bullet)\n",
    "\n",
    "[II. Creating Sessions](#second-bullet)\n",
    "\n",
    "[III. Word2vec Representation](#third-bullet)\n",
    "\n",
    "[IV. Path Representation](#fourth-bullet)\n",
    "\n",
    "[V. Path Clustering](#fifth-bullet)\n",
    "\n",
    "[VI. Analysis](#sixth-bullet)"
   ]
  },
  {
   "cell_type": "markdown",
   "metadata": {},
   "source": [
    "<a class=\"anchor\" id=\"first-bullet\"></a><h2><center>I. Exploring Gallica Logs</center></h2> "
   ]
  },
  {
   "cell_type": "markdown",
   "metadata": {},
   "source": [
    "## 1. Importing logs"
   ]
  },
  {
   "cell_type": "markdown",
   "metadata": {},
   "source": [
    "Over the past decades, the development of online scientific platforms like \n",
    "arXiv.org or JSTOR radically changed the way researchers access, browse, or read \n",
    "scientific articles. Yet, while observing the behavior of researchers in libraries and \n",
    "laboratories has become commonplace in the humanities, the computational study \n",
    "of digital research practices is only in its early days. This project aims at documenting \n",
    "the behavior of scientists on online platforms by making sense of the digital traces \n",
    "they generate while navigating.\n",
    "\n",
    "During this project we are using the browsing logs of Gallica ( https://gallica.bnf.fr/ ) to make sense of user experience and identify patterns.\n",
    "\n",
    "Project goals : \n",
    "\n",
    "* Parsing and sessionizing the log files in order to extract relevant sessions.\n",
    "* Building an ontology based on the descriptors provided by the ARKs (Archival Resource Key, i.e. the metadata) of the documents (type of document, discipline, year, etc.)\n",
    "* Using off-the-shelf Python libraries of topological data analysis (TDA) to identify the geometrical shapes of users’ paths through the ontology\n",
    "* Building a typology of users’ behaviour on the platform by clustering the previously identified users’ paths\n",
    "\n",
    "## Table Of Content:\n",
    "[I. Exploring Gallica Logs](#first-bullet)\n",
    "\n",
    "[II. Creating Sessions](#second-bullet)\n",
    "\n",
    "[III. Word2vec Representation](#third-bullet)\n",
    "\n",
    "[IV. Path Representation](#fourth-bullet)\n",
    "\n",
    "[V. Path Clustering](#fifth-bullet)\n",
    "\n",
    "[VI. Analysis](#sixth-bullet)\n",
    "\n",
    "<a class=\"anchor\" id=\"first-bullet\"></a><h2><center>I. Exploring Gallica Logs</center></h2> \n",
    "\n",
    "## 1. Importing logs"
   ]
  },
  {
   "cell_type": "markdown",
   "metadata": {},
   "source": [
    "Over the past decades, the development of online scientific platforms like \n",
    "arXiv.org or JSTOR radically changed the way researchers access, browse, or read \n",
    "scientific articles. Yet, while observing the behavior of researchers in libraries and \n",
    "laboratories has become commonplace in the humanities, the computational study \n",
    "of digital research practices is only in its early days. This project aims at documenting \n",
    "the behavior of scientists on online platforms by making sense of the digital traces \n",
    "they generate while navigating.\n",
    "\n",
    "During this project we are using the browsing logs of Gallica ( https://gallica.bnf.fr/ ) to make sense of user experience and identify patterns.\n",
    "\n",
    "Project goals : \n",
    "\n",
    "* Parsing and sessionizing the log files in order to extract relevant sessions.\n",
    "* Building an ontology based on the descriptors provided by the ARKs (Archival Resource Key, i.e. the metadata) of the documents (type of document, discipline, year, etc.)\n",
    "* Using off-the-shelf Python libraries of topological data analysis (TDA) to identify the geometrical shapes of users’ paths through the ontology\n",
    "* Building a typology of users’ behaviour on the platform by clustering the previously identified users’ paths\n",
    "\n",
    "## Table Of Content:\n",
    "[I. Exploring Gallica Logs](#first-bullet)\n",
    "\n",
    "[II. Creating Sessions](#second-bullet)\n",
    "\n",
    "[III. Word2vec Representation](#third-bullet)\n",
    "\n",
    "[IV. Path Representation](#fourth-bullet)\n",
    "\n",
    "[V. Path Clustering](#fifth-bullet)\n",
    "\n",
    "[VI. Analysis](#sixth-bullet)\n",
    "\n",
    "<a class=\"anchor\" id=\"first-bullet\"></a><h2><center>I. Exploring Gallica Logs</center></h2> \n",
    "\n",
    "## 1. Importing logs"
   ]
  },
  {
   "cell_type": "code",
   "execution_count": 1,
   "metadata": {},
   "outputs": [],
   "source": [
    "import glob\n",
    "import pandas as pd\n",
    "import numpy as np\n",
    "import re \n",
    "\n",
    "path = r'/shared_volume/LogGallicaAvril2016'\n",
    "all_files = glob.glob(path+ \"/*.log\")"
   ]
  },
  {
   "cell_type": "code",
   "execution_count": 2,
   "metadata": {},
   "outputs": [],
   "source": [
    "\n",
    "all_files.sort(key=lambda f: int(re.sub('\\D', '', f)))"
   ]
  },
  {
   "cell_type": "code",
   "execution_count": 5,
   "metadata": {},
   "outputs": [],
   "source": [
    "some_files = all_files[300:1000]"
   ]
  },
  {
   "cell_type": "code",
   "execution_count": 6,
   "metadata": {},
   "outputs": [
    {
     "data": {
      "text/plain": [
       "700"
      ]
     },
     "execution_count": 6,
     "metadata": {},
     "output_type": "execute_result"
    }
   ],
   "source": [
    "len(some_files)"
   ]
  },
  {
   "cell_type": "code",
   "execution_count": 7,
   "metadata": {},
   "outputs": [
    {
     "name": "stderr",
     "output_type": "stream",
     "text": [
      "Skipping line 18694: Expected 1 fields in line 18694, saw 2. Error could possibly be due to quotes being ignored when a multi-char delimiter is used.\n",
      "Skipping line 20794: Expected 1 fields in line 20794, saw 2. Error could possibly be due to quotes being ignored when a multi-char delimiter is used.\n",
      "Skipping line 25845: Expected 1 fields in line 25845, saw 2. Error could possibly be due to quotes being ignored when a multi-char delimiter is used.\n",
      "Skipping line 56733: Expected 1 fields in line 56733, saw 2. Error could possibly be due to quotes being ignored when a multi-char delimiter is used.\n",
      "Skipping line 56931: Expected 1 fields in line 56931, saw 2. Error could possibly be due to quotes being ignored when a multi-char delimiter is used.\n",
      "Skipping line 57400: Expected 1 fields in line 57400, saw 2. Error could possibly be due to quotes being ignored when a multi-char delimiter is used.\n",
      "Skipping line 57487: Expected 1 fields in line 57487, saw 2. Error could possibly be due to quotes being ignored when a multi-char delimiter is used.\n",
      "Skipping line 57616: Expected 1 fields in line 57616, saw 2. Error could possibly be due to quotes being ignored when a multi-char delimiter is used.\n",
      "Skipping line 58400: Expected 1 fields in line 58400, saw 2. Error could possibly be due to quotes being ignored when a multi-char delimiter is used.\n",
      "Skipping line 226: Expected 1 fields in line 226, saw 2. Error could possibly be due to quotes being ignored when a multi-char delimiter is used.\n",
      "Skipping line 411: Expected 1 fields in line 411, saw 2. Error could possibly be due to quotes being ignored when a multi-char delimiter is used.\n",
      "Skipping line 527: Expected 1 fields in line 527, saw 2. Error could possibly be due to quotes being ignored when a multi-char delimiter is used.\n",
      "Skipping line 650: Expected 1 fields in line 650, saw 2. Error could possibly be due to quotes being ignored when a multi-char delimiter is used.\n",
      "Skipping line 132691: Expected 1 fields in line 132691, saw 2. Error could possibly be due to quotes being ignored when a multi-char delimiter is used.\n",
      "Skipping line 58668: Expected 1 fields in line 58668, saw 2. Error could possibly be due to quotes being ignored when a multi-char delimiter is used.\n",
      "Skipping line 53636: Expected 1 fields in line 53636, saw 2. Error could possibly be due to quotes being ignored when a multi-char delimiter is used.\n",
      "Skipping line 53642: Expected 1 fields in line 53642, saw 2. Error could possibly be due to quotes being ignored when a multi-char delimiter is used.\n",
      "Skipping line 53647: Expected 1 fields in line 53647, saw 2. Error could possibly be due to quotes being ignored when a multi-char delimiter is used.\n",
      "Skipping line 53651: Expected 1 fields in line 53651, saw 2. Error could possibly be due to quotes being ignored when a multi-char delimiter is used.\n",
      "Skipping line 53728: Expected 1 fields in line 53728, saw 2. Error could possibly be due to quotes being ignored when a multi-char delimiter is used.\n",
      "Skipping line 38671: Expected 1 fields in line 38671, saw 2. Error could possibly be due to quotes being ignored when a multi-char delimiter is used.\n",
      "Skipping line 38680: Expected 1 fields in line 38680, saw 2. Error could possibly be due to quotes being ignored when a multi-char delimiter is used.\n",
      "Skipping line 38848: Expected 1 fields in line 38848, saw 2. Error could possibly be due to quotes being ignored when a multi-char delimiter is used.\n",
      "Skipping line 38896: Expected 1 fields in line 38896, saw 2. Error could possibly be due to quotes being ignored when a multi-char delimiter is used.\n",
      "Skipping line 38942: Expected 1 fields in line 38942, saw 2. Error could possibly be due to quotes being ignored when a multi-char delimiter is used.\n",
      "Skipping line 39043: Expected 1 fields in line 39043, saw 2. Error could possibly be due to quotes being ignored when a multi-char delimiter is used.\n",
      "Skipping line 39153: Expected 1 fields in line 39153, saw 2. Error could possibly be due to quotes being ignored when a multi-char delimiter is used.\n",
      "Skipping line 39680: Expected 1 fields in line 39680, saw 2. Error could possibly be due to quotes being ignored when a multi-char delimiter is used.\n",
      "Skipping line 39793: Expected 1 fields in line 39793, saw 2. Error could possibly be due to quotes being ignored when a multi-char delimiter is used.\n",
      "Skipping line 40088: Expected 1 fields in line 40088, saw 2. Error could possibly be due to quotes being ignored when a multi-char delimiter is used.\n",
      "Skipping line 40214: Expected 1 fields in line 40214, saw 2. Error could possibly be due to quotes being ignored when a multi-char delimiter is used.\n",
      "Skipping line 40409: Expected 1 fields in line 40409, saw 2. Error could possibly be due to quotes being ignored when a multi-char delimiter is used.\n",
      "Skipping line 40423: Expected 1 fields in line 40423, saw 2. Error could possibly be due to quotes being ignored when a multi-char delimiter is used.\n",
      "Skipping line 40588: Expected 1 fields in line 40588, saw 2. Error could possibly be due to quotes being ignored when a multi-char delimiter is used.\n",
      "Skipping line 41180: Expected 1 fields in line 41180, saw 2. Error could possibly be due to quotes being ignored when a multi-char delimiter is used.\n",
      "Skipping line 41190: Expected 1 fields in line 41190, saw 2. Error could possibly be due to quotes being ignored when a multi-char delimiter is used.\n",
      "Skipping line 41235: Expected 1 fields in line 41235, saw 2. Error could possibly be due to quotes being ignored when a multi-char delimiter is used.\n",
      "Skipping line 41253: Expected 1 fields in line 41253, saw 2. Error could possibly be due to quotes being ignored when a multi-char delimiter is used.\n",
      "Skipping line 41681: Expected 1 fields in line 41681, saw 2. Error could possibly be due to quotes being ignored when a multi-char delimiter is used.\n",
      "Skipping line 41749: Expected 1 fields in line 41749, saw 2. Error could possibly be due to quotes being ignored when a multi-char delimiter is used.\n",
      "Skipping line 41785: Expected 1 fields in line 41785, saw 2. Error could possibly be due to quotes being ignored when a multi-char delimiter is used.\n",
      "Skipping line 42421: Expected 1 fields in line 42421, saw 2. Error could possibly be due to quotes being ignored when a multi-char delimiter is used.\n",
      "Skipping line 42438: Expected 1 fields in line 42438, saw 2. Error could possibly be due to quotes being ignored when a multi-char delimiter is used.\n",
      "Skipping line 42454: Expected 1 fields in line 42454, saw 2. Error could possibly be due to quotes being ignored when a multi-char delimiter is used.\n",
      "Skipping line 42461: Expected 1 fields in line 42461, saw 2. Error could possibly be due to quotes being ignored when a multi-char delimiter is used.\n",
      "Skipping line 42504: Expected 1 fields in line 42504, saw 2. Error could possibly be due to quotes being ignored when a multi-char delimiter is used.\n",
      "Skipping line 43131: Expected 1 fields in line 43131, saw 2. Error could possibly be due to quotes being ignored when a multi-char delimiter is used.\n",
      "Skipping line 43138: Expected 1 fields in line 43138, saw 2. Error could possibly be due to quotes being ignored when a multi-char delimiter is used.\n",
      "Skipping line 43279: Expected 1 fields in line 43279, saw 2. Error could possibly be due to quotes being ignored when a multi-char delimiter is used.\n",
      "Skipping line 43335: Expected 1 fields in line 43335, saw 2. Error could possibly be due to quotes being ignored when a multi-char delimiter is used.\n",
      "Skipping line 43356: Expected 1 fields in line 43356, saw 2. Error could possibly be due to quotes being ignored when a multi-char delimiter is used.\n",
      "Skipping line 43368: Expected 1 fields in line 43368, saw 2. Error could possibly be due to quotes being ignored when a multi-char delimiter is used.\n",
      "Skipping line 43461: Expected 1 fields in line 43461, saw 2. Error could possibly be due to quotes being ignored when a multi-char delimiter is used.\n",
      "Skipping line 43500: Expected 1 fields in line 43500, saw 2. Error could possibly be due to quotes being ignored when a multi-char delimiter is used.\n",
      "Skipping line 43543: Expected 1 fields in line 43543, saw 2. Error could possibly be due to quotes being ignored when a multi-char delimiter is used.\n",
      "Skipping line 43561: Expected 1 fields in line 43561, saw 2. Error could possibly be due to quotes being ignored when a multi-char delimiter is used.\n",
      "Skipping line 43607: Expected 1 fields in line 43607, saw 2. Error could possibly be due to quotes being ignored when a multi-char delimiter is used.\n",
      "Skipping line 43627: Expected 1 fields in line 43627, saw 2. Error could possibly be due to quotes being ignored when a multi-char delimiter is used.\n",
      "Skipping line 43647: Expected 1 fields in line 43647, saw 2. Error could possibly be due to quotes being ignored when a multi-char delimiter is used.\n",
      "Skipping line 43665: Expected 1 fields in line 43665, saw 2. Error could possibly be due to quotes being ignored when a multi-char delimiter is used.\n",
      "Skipping line 43708: Expected 1 fields in line 43708, saw 2. Error could possibly be due to quotes being ignored when a multi-char delimiter is used.\n",
      "Skipping line 43712: Expected 1 fields in line 43712, saw 2. Error could possibly be due to quotes being ignored when a multi-char delimiter is used.\n",
      "Skipping line 43767: Expected 1 fields in line 43767, saw 2. Error could possibly be due to quotes being ignored when a multi-char delimiter is used.\n",
      "Skipping line 43790: Expected 1 fields in line 43790, saw 2. Error could possibly be due to quotes being ignored when a multi-char delimiter is used.\n",
      "Skipping line 43813: Expected 1 fields in line 43813, saw 2. Error could possibly be due to quotes being ignored when a multi-char delimiter is used.\n",
      "Skipping line 43817: Expected 1 fields in line 43817, saw 2. Error could possibly be due to quotes being ignored when a multi-char delimiter is used.\n",
      "Skipping line 33263: Expected 1 fields in line 33263, saw 2. Error could possibly be due to quotes being ignored when a multi-char delimiter is used.\n",
      "Skipping line 33264: Expected 1 fields in line 33264, saw 2. Error could possibly be due to quotes being ignored when a multi-char delimiter is used.\n",
      "Skipping line 33455: Expected 1 fields in line 33455, saw 2. Error could possibly be due to quotes being ignored when a multi-char delimiter is used.\n",
      "Skipping line 33456: Expected 1 fields in line 33456, saw 2. Error could possibly be due to quotes being ignored when a multi-char delimiter is used.\n"
     ]
    }
   ],
   "source": [
    "df = pd.concat((pd.read_csv(f,encoding='UTF-8',sep=r'\\\\t', engine='python',header=None,error_bad_lines=False) for f in some_files))"
   ]
  },
  {
   "cell_type": "code",
   "execution_count": 37,
   "metadata": {},
   "outputs": [
    {
     "data": {
      "text/plain": [
       "(51318580, 1)"
      ]
     },
     "execution_count": 37,
     "metadata": {},
     "output_type": "execute_result"
    }
   ],
   "source": [
    "df.shape"
   ]
  },
  {
   "cell_type": "markdown",
   "metadata": {},
   "source": [
    "## 2. Exploring logs"
   ]
  },
  {
   "cell_type": "code",
   "execution_count": 8,
   "metadata": {},
   "outputs": [],
   "source": [
    "lines_df = df"
   ]
  },
  {
   "cell_type": "code",
   "execution_count": 9,
   "metadata": {},
   "outputs": [],
   "source": [
    "# we need to split each line into relevant metadata according to this example from Nouvellet et al."
   ]
  },
  {
   "cell_type": "markdown",
   "metadata": {},
   "source": [
    "![caption](log_example.png)"
   ]
  },
  {
   "cell_type": "code",
   "execution_count": 10,
   "metadata": {},
   "outputs": [],
   "source": [
    "# first split, according to the example we split by ## to get ip, pays, ville and then date/requete/procole/code/taille/référant together\n",
    "lines_df=lines_df[0].str.split('##', expand=True)"
   ]
  },
  {
   "cell_type": "code",
   "execution_count": 11,
   "metadata": {},
   "outputs": [
    {
     "data": {
      "text/html": [
       "<div>\n",
       "<style scoped>\n",
       "    .dataframe tbody tr th:only-of-type {\n",
       "        vertical-align: middle;\n",
       "    }\n",
       "\n",
       "    .dataframe tbody tr th {\n",
       "        vertical-align: top;\n",
       "    }\n",
       "\n",
       "    .dataframe thead th {\n",
       "        text-align: right;\n",
       "    }\n",
       "</style>\n",
       "<table border=\"1\" class=\"dataframe\">\n",
       "  <thead>\n",
       "    <tr style=\"text-align: right;\">\n",
       "      <th></th>\n",
       "      <th>0</th>\n",
       "      <th>1</th>\n",
       "      <th>2</th>\n",
       "      <th>3</th>\n",
       "      <th>4</th>\n",
       "    </tr>\n",
       "  </thead>\n",
       "  <tbody>\n",
       "    <tr>\n",
       "      <th>0</th>\n",
       "      <td></td>\n",
       "      <td>2beea6c2c1693bc11aec84d80a42724e</td>\n",
       "      <td>United States</td>\n",
       "      <td>Chicago</td>\n",
       "      <td>- - [04/Apr/2016:22:30:21 +0200] \"GET //iiif/a...</td>\n",
       "    </tr>\n",
       "    <tr>\n",
       "      <th>1</th>\n",
       "      <td></td>\n",
       "      <td>f4a5009cf12097a892afadf95d2dcd0d</td>\n",
       "      <td>Belgium</td>\n",
       "      <td>Brussels</td>\n",
       "      <td>- - [04/Apr/2016:22:30:24 +0200] \"GET /service...</td>\n",
       "    </tr>\n",
       "    <tr>\n",
       "      <th>2</th>\n",
       "      <td></td>\n",
       "      <td>f4a5009cf12097a892afadf95d2dcd0d</td>\n",
       "      <td>Belgium</td>\n",
       "      <td>Brussels</td>\n",
       "      <td>- - [04/Apr/2016:22:30:24 +0200] \"GET /ark:/12...</td>\n",
       "    </tr>\n",
       "    <tr>\n",
       "      <th>3</th>\n",
       "      <td></td>\n",
       "      <td>f4a5009cf12097a892afadf95d2dcd0d</td>\n",
       "      <td>Belgium</td>\n",
       "      <td>Brussels</td>\n",
       "      <td>- - [04/Apr/2016:22:30:24 +0200] \"GET /ark:/12...</td>\n",
       "    </tr>\n",
       "    <tr>\n",
       "      <th>4</th>\n",
       "      <td></td>\n",
       "      <td>f4a5009cf12097a892afadf95d2dcd0d</td>\n",
       "      <td>Belgium</td>\n",
       "      <td>Brussels</td>\n",
       "      <td>- - [04/Apr/2016:22:30:24 +0200] \"GET /ark:/12...</td>\n",
       "    </tr>\n",
       "  </tbody>\n",
       "</table>\n",
       "</div>"
      ],
      "text/plain": [
       "  0                                 1              2         3  \\\n",
       "0    2beea6c2c1693bc11aec84d80a42724e  United States   Chicago   \n",
       "1    f4a5009cf12097a892afadf95d2dcd0d        Belgium  Brussels   \n",
       "2    f4a5009cf12097a892afadf95d2dcd0d        Belgium  Brussels   \n",
       "3    f4a5009cf12097a892afadf95d2dcd0d        Belgium  Brussels   \n",
       "4    f4a5009cf12097a892afadf95d2dcd0d        Belgium  Brussels   \n",
       "\n",
       "                                                   4  \n",
       "0  - - [04/Apr/2016:22:30:21 +0200] \"GET //iiif/a...  \n",
       "1  - - [04/Apr/2016:22:30:24 +0200] \"GET /service...  \n",
       "2  - - [04/Apr/2016:22:30:24 +0200] \"GET /ark:/12...  \n",
       "3  - - [04/Apr/2016:22:30:24 +0200] \"GET /ark:/12...  \n",
       "4  - - [04/Apr/2016:22:30:24 +0200] \"GET /ark:/12...  "
      ]
     },
     "execution_count": 11,
     "metadata": {},
     "output_type": "execute_result"
    }
   ],
   "source": [
    "lines_df.head()"
   ]
  },
  {
   "cell_type": "markdown",
   "metadata": {},
   "source": [
    "### 2.1 Parsing HTTP requests"
   ]
  },
  {
   "cell_type": "markdown",
   "metadata": {},
   "source": [
    "#### Experimenting with extracting data"
   ]
  },
  {
   "cell_type": "code",
   "execution_count": 12,
   "metadata": {},
   "outputs": [],
   "source": [
    "# This is just experimental, TODO change with lazy eval regex when working on bigger data."
   ]
  },
  {
   "cell_type": "code",
   "execution_count": 13,
   "metadata": {},
   "outputs": [],
   "source": [
    "import re\n",
    "import shutil\n",
    "import requests\n",
    "import xmltodict\n",
    "from bs4 import BeautifulSoup\n",
    "from xml.etree import ElementTree as ET"
   ]
  },
  {
   "cell_type": "code",
   "execution_count": 14,
   "metadata": {},
   "outputs": [],
   "source": [
    "'''\n",
    "Function to query Gallica API and get metadata about a document from it's ark.\n",
    "inputs: \n",
    "    'id': here id is the ARK of the document, that we extract from the request\n",
    "Outputs:\n",
    "     this function outputs the result of the API as a dictionary.\n",
    "\n",
    "'''\n",
    "def OAI(id):\n",
    "\n",
    "    OAI_BASEURL = 'https://gallica.bnf.fr/services/OAIRecord?ark='\n",
    "\n",
    "    url = \"\".join([OAI_BASEURL, id])\n",
    "    #print(url)\n",
    "\n",
    "    s = requests.get(url, stream=True)\n",
    "    soup = BeautifulSoup(s.content,\"lxml-xml\")\n",
    "    #print(soup)\n",
    "    file = open('oai.xml', 'wb')\n",
    "    file.write(soup.prettify().encode('UTF-8'))\n",
    "    file.close()\n",
    "    with open('oai.xml',encoding='UTF-8') as xml:\n",
    "        doc = xmltodict.parse(xml.read())\n",
    "        return doc\n"
   ]
  },
  {
   "cell_type": "code",
   "execution_count": 15,
   "metadata": {},
   "outputs": [],
   "source": [
    "temp = pd.DataFrame()"
   ]
  },
  {
   "cell_type": "code",
   "execution_count": 16,
   "metadata": {},
   "outputs": [],
   "source": [
    "# extracting the date of query\n",
    "temp['Date']=lines_df.apply(lambda x: x[4].split(\"]\")[0].split(\"[\")[1] ,axis = 1)"
   ]
  },
  {
   "cell_type": "code",
   "execution_count": 18,
   "metadata": {},
   "outputs": [
    {
     "data": {
      "text/html": [
       "<div>\n",
       "<style scoped>\n",
       "    .dataframe tbody tr th:only-of-type {\n",
       "        vertical-align: middle;\n",
       "    }\n",
       "\n",
       "    .dataframe tbody tr th {\n",
       "        vertical-align: top;\n",
       "    }\n",
       "\n",
       "    .dataframe thead th {\n",
       "        text-align: right;\n",
       "    }\n",
       "</style>\n",
       "<table border=\"1\" class=\"dataframe\">\n",
       "  <thead>\n",
       "    <tr style=\"text-align: right;\">\n",
       "      <th></th>\n",
       "      <th>Date</th>\n",
       "    </tr>\n",
       "  </thead>\n",
       "  <tbody>\n",
       "    <tr>\n",
       "      <th>0</th>\n",
       "      <td>04/Apr/2016:22:30:21 +0200</td>\n",
       "    </tr>\n",
       "    <tr>\n",
       "      <th>1</th>\n",
       "      <td>04/Apr/2016:22:30:24 +0200</td>\n",
       "    </tr>\n",
       "    <tr>\n",
       "      <th>2</th>\n",
       "      <td>04/Apr/2016:22:30:24 +0200</td>\n",
       "    </tr>\n",
       "    <tr>\n",
       "      <th>3</th>\n",
       "      <td>04/Apr/2016:22:30:24 +0200</td>\n",
       "    </tr>\n",
       "    <tr>\n",
       "      <th>4</th>\n",
       "      <td>04/Apr/2016:22:30:24 +0200</td>\n",
       "    </tr>\n",
       "    <tr>\n",
       "      <th>...</th>\n",
       "      <td>...</td>\n",
       "    </tr>\n",
       "    <tr>\n",
       "      <th>112167</th>\n",
       "      <td>12/Apr/2016:05:00:46 +0200</td>\n",
       "    </tr>\n",
       "    <tr>\n",
       "      <th>112168</th>\n",
       "      <td>12/Apr/2016:05:00:46 +0200</td>\n",
       "    </tr>\n",
       "    <tr>\n",
       "      <th>112169</th>\n",
       "      <td>12/Apr/2016:05:00:46 +0200</td>\n",
       "    </tr>\n",
       "    <tr>\n",
       "      <th>112170</th>\n",
       "      <td>12/Apr/2016:05:00:47 +0200</td>\n",
       "    </tr>\n",
       "    <tr>\n",
       "      <th>112171</th>\n",
       "      <td>12/Apr/2016:05:00:47 +0200</td>\n",
       "    </tr>\n",
       "  </tbody>\n",
       "</table>\n",
       "<p>51318580 rows × 1 columns</p>\n",
       "</div>"
      ],
      "text/plain": [
       "                              Date\n",
       "0       04/Apr/2016:22:30:21 +0200\n",
       "1       04/Apr/2016:22:30:24 +0200\n",
       "2       04/Apr/2016:22:30:24 +0200\n",
       "3       04/Apr/2016:22:30:24 +0200\n",
       "4       04/Apr/2016:22:30:24 +0200\n",
       "...                            ...\n",
       "112167  12/Apr/2016:05:00:46 +0200\n",
       "112168  12/Apr/2016:05:00:46 +0200\n",
       "112169  12/Apr/2016:05:00:46 +0200\n",
       "112170  12/Apr/2016:05:00:47 +0200\n",
       "112171  12/Apr/2016:05:00:47 +0200\n",
       "\n",
       "[51318580 rows x 1 columns]"
      ]
     },
     "execution_count": 18,
     "metadata": {},
     "output_type": "execute_result"
    }
   ],
   "source": [
    "temp"
   ]
  },
  {
   "cell_type": "code",
   "execution_count": 19,
   "metadata": {},
   "outputs": [],
   "source": [
    "# extracting request\n",
    "temp['Request'] = lines_df.apply(lambda x: ' '.join(x[4].split(\"\\\"\")[1].split(' ')[:2]),axis=1)"
   ]
  },
  {
   "cell_type": "code",
   "execution_count": null,
   "metadata": {},
   "outputs": [],
   "source": [
    "# extracting protocol, still need to look into it further\n",
    "# do i really need to extract protocol at this point?\n",
    "# commenting this for now until further research\n",
    "\n",
    "# temp['protocol'] = lines_df.apply(lambda x: x[4].split(\"\\\"\")[1].split(' ')[2], axis=1)"
   ]
  },
  {
   "cell_type": "code",
   "execution_count": null,
   "metadata": {},
   "outputs": [],
   "source": [
    "# extracting code\n",
    "# try catch to avoid index errors, need to look into this further, what happens exactly there?\n",
    "def trycode(value, default):\n",
    "    try:\n",
    "        return value[4].split(\"\\\"\")[2].split(' ')[1]\n",
    "    except (IndexError):\n",
    "        return '-'\n",
    "    return default\n",
    "\n",
    "\n",
    "# temp['Code'] = lines_df.apply(lambda x: trycode(x,'-'), axis=1)"
   ]
  },
  {
   "cell_type": "code",
   "execution_count": 54,
   "metadata": {},
   "outputs": [],
   "source": [
    "# extracting length\n",
    "# try catch to avoid index errors, need to look into this further, what happens exactly there?\n",
    "def trylength(value, default):\n",
    "    try:\n",
    "        return value[4].split(\"\\\"\")[2].split(' ')[2] \n",
    "    except (IndexError):\n",
    "        return '-'\n",
    "    return default\n",
    "\n",
    "# temp['Length'] = lines_df.apply(lambda x:  trylength(x,'-') , axis=1)"
   ]
  },
  {
   "cell_type": "code",
   "execution_count": 55,
   "metadata": {},
   "outputs": [],
   "source": [
    "# extracting referant\n",
    "# temp['Referant'] = lines_df.apply(lambda x: x[4].split(\"\\\"\")[3], axis=1)"
   ]
  },
  {
   "cell_type": "code",
   "execution_count": 20,
   "metadata": {},
   "outputs": [],
   "source": [
    "# extracting ark name\n",
    "\n",
    "#function to check if the request contains ark\n",
    "def extract_ark(request):\n",
    "    # capture everything between 12148 and / or between 12148 and . using regex\n",
    "    ark = '-'\n",
    "    ark = re.findall('(?<=12148/).+?(?=/)|(?<=12148/).+?(?=\\.)', request)\n",
    "    return ark\n",
    "\n",
    "\n",
    "temp['Ark'] = temp.apply(lambda x: extract_ark(x['Request']), axis=1)\n",
    "    "
   ]
  },
  {
   "cell_type": "code",
   "execution_count": 21,
   "metadata": {},
   "outputs": [],
   "source": [
    "lines_df = lines_df.rename(columns={1:\"IPAdress\",2:\"Country\",3:\"City\",4:\"Full_request\"})"
   ]
  },
  {
   "cell_type": "code",
   "execution_count": 22,
   "metadata": {},
   "outputs": [],
   "source": [
    "final_df = pd.concat([lines_df, temp],axis=1)"
   ]
  },
  {
   "cell_type": "code",
   "execution_count": 23,
   "metadata": {},
   "outputs": [
    {
     "data": {
      "text/html": [
       "<div>\n",
       "<style scoped>\n",
       "    .dataframe tbody tr th:only-of-type {\n",
       "        vertical-align: middle;\n",
       "    }\n",
       "\n",
       "    .dataframe tbody tr th {\n",
       "        vertical-align: top;\n",
       "    }\n",
       "\n",
       "    .dataframe thead th {\n",
       "        text-align: right;\n",
       "    }\n",
       "</style>\n",
       "<table border=\"1\" class=\"dataframe\">\n",
       "  <thead>\n",
       "    <tr style=\"text-align: right;\">\n",
       "      <th></th>\n",
       "      <th>0</th>\n",
       "      <th>IPAdress</th>\n",
       "      <th>Country</th>\n",
       "      <th>City</th>\n",
       "      <th>Full_request</th>\n",
       "      <th>Date</th>\n",
       "      <th>Request</th>\n",
       "      <th>Ark</th>\n",
       "    </tr>\n",
       "  </thead>\n",
       "  <tbody>\n",
       "    <tr>\n",
       "      <th>0</th>\n",
       "      <td></td>\n",
       "      <td>2beea6c2c1693bc11aec84d80a42724e</td>\n",
       "      <td>United States</td>\n",
       "      <td>Chicago</td>\n",
       "      <td>- - [04/Apr/2016:22:30:21 +0200] \"GET //iiif/a...</td>\n",
       "      <td>04/Apr/2016:22:30:21 +0200</td>\n",
       "      <td>GET //iiif/ark:/12148/bpt6k105952t/f57/full/17...</td>\n",
       "      <td>[bpt6k105952t]</td>\n",
       "    </tr>\n",
       "    <tr>\n",
       "      <th>1</th>\n",
       "      <td></td>\n",
       "      <td>f4a5009cf12097a892afadf95d2dcd0d</td>\n",
       "      <td>Belgium</td>\n",
       "      <td>Brussels</td>\n",
       "      <td>- - [04/Apr/2016:22:30:24 +0200] \"GET /service...</td>\n",
       "      <td>04/Apr/2016:22:30:24 +0200</td>\n",
       "      <td>GET /services/ajax/pagination/page/SINGLE/ark:...</td>\n",
       "      <td>[bpt6k111880x]</td>\n",
       "    </tr>\n",
       "    <tr>\n",
       "      <th>2</th>\n",
       "      <td></td>\n",
       "      <td>f4a5009cf12097a892afadf95d2dcd0d</td>\n",
       "      <td>Belgium</td>\n",
       "      <td>Brussels</td>\n",
       "      <td>- - [04/Apr/2016:22:30:24 +0200] \"GET /ark:/12...</td>\n",
       "      <td>04/Apr/2016:22:30:24 +0200</td>\n",
       "      <td>GET /ark:/12148/bpt6k111880x/f7.highres</td>\n",
       "      <td>[bpt6k111880x]</td>\n",
       "    </tr>\n",
       "    <tr>\n",
       "      <th>3</th>\n",
       "      <td></td>\n",
       "      <td>f4a5009cf12097a892afadf95d2dcd0d</td>\n",
       "      <td>Belgium</td>\n",
       "      <td>Brussels</td>\n",
       "      <td>- - [04/Apr/2016:22:30:24 +0200] \"GET /ark:/12...</td>\n",
       "      <td>04/Apr/2016:22:30:24 +0200</td>\n",
       "      <td>GET /ark:/12148/bpt6k111880x/f9.highres</td>\n",
       "      <td>[bpt6k111880x]</td>\n",
       "    </tr>\n",
       "    <tr>\n",
       "      <th>4</th>\n",
       "      <td></td>\n",
       "      <td>f4a5009cf12097a892afadf95d2dcd0d</td>\n",
       "      <td>Belgium</td>\n",
       "      <td>Brussels</td>\n",
       "      <td>- - [04/Apr/2016:22:30:24 +0200] \"GET /ark:/12...</td>\n",
       "      <td>04/Apr/2016:22:30:24 +0200</td>\n",
       "      <td>GET /ark:/12148/bpt6k111880x/f8.highres</td>\n",
       "      <td>[bpt6k111880x]</td>\n",
       "    </tr>\n",
       "    <tr>\n",
       "      <th>...</th>\n",
       "      <td>...</td>\n",
       "      <td>...</td>\n",
       "      <td>...</td>\n",
       "      <td>...</td>\n",
       "      <td>...</td>\n",
       "      <td>...</td>\n",
       "      <td>...</td>\n",
       "      <td>...</td>\n",
       "    </tr>\n",
       "    <tr>\n",
       "      <th>112167</th>\n",
       "      <td></td>\n",
       "      <td>706a0d02d37c04a9b0b4ac2054fbd91d</td>\n",
       "      <td>United States</td>\n",
       "      <td>New Haven</td>\n",
       "      <td>- - [12/Apr/2016:05:00:46 +0200] \"GET /iiif/ar...</td>\n",
       "      <td>12/Apr/2016:05:00:46 +0200</td>\n",
       "      <td>GET /iiif/ark:/12148/btv1b84539771/f1/full/61,...</td>\n",
       "      <td>[btv1b84539771]</td>\n",
       "    </tr>\n",
       "    <tr>\n",
       "      <th>112168</th>\n",
       "      <td></td>\n",
       "      <td>706a0d02d37c04a9b0b4ac2054fbd91d</td>\n",
       "      <td>United States</td>\n",
       "      <td>New Haven</td>\n",
       "      <td>- - [12/Apr/2016:05:00:46 +0200] \"GET /iiif/ar...</td>\n",
       "      <td>12/Apr/2016:05:00:46 +0200</td>\n",
       "      <td>GET /iiif/ark:/12148/btv1b10500687r/f5/full/56...</td>\n",
       "      <td>[btv1b10500687r]</td>\n",
       "    </tr>\n",
       "    <tr>\n",
       "      <th>112169</th>\n",
       "      <td></td>\n",
       "      <td>706a0d02d37c04a9b0b4ac2054fbd91d</td>\n",
       "      <td>United States</td>\n",
       "      <td>New Haven</td>\n",
       "      <td>- - [12/Apr/2016:05:00:46 +0200] \"GET /iiif/ar...</td>\n",
       "      <td>12/Apr/2016:05:00:46 +0200</td>\n",
       "      <td>GET /iiif/ark:/12148/btv1b84539771/f3/full/59,...</td>\n",
       "      <td>[btv1b84539771]</td>\n",
       "    </tr>\n",
       "    <tr>\n",
       "      <th>112170</th>\n",
       "      <td></td>\n",
       "      <td>706a0d02d37c04a9b0b4ac2054fbd91d</td>\n",
       "      <td>United States</td>\n",
       "      <td>New Haven</td>\n",
       "      <td>- - [12/Apr/2016:05:00:47 +0200] \"GET /iiif/ar...</td>\n",
       "      <td>12/Apr/2016:05:00:47 +0200</td>\n",
       "      <td>GET /iiif/ark:/12148/btv1b84539771/f4/full/59,...</td>\n",
       "      <td>[btv1b84539771]</td>\n",
       "    </tr>\n",
       "    <tr>\n",
       "      <th>112171</th>\n",
       "      <td></td>\n",
       "      <td>706a0d02d37c04a9b0b4ac2054fbd91d</td>\n",
       "      <td>United States</td>\n",
       "      <td>New Haven</td>\n",
       "      <td>- - [12/Apr/2016:05:00:47 +0200] \"GET /iiif/ar...</td>\n",
       "      <td>12/Apr/2016:05:00:47 +0200</td>\n",
       "      <td>GET /iiif/ark:/12148/btv1b84539771/f5/full/60,...</td>\n",
       "      <td>[btv1b84539771]</td>\n",
       "    </tr>\n",
       "  </tbody>\n",
       "</table>\n",
       "<p>51318580 rows × 8 columns</p>\n",
       "</div>"
      ],
      "text/plain": [
       "       0                           IPAdress        Country       City  \\\n",
       "0          2beea6c2c1693bc11aec84d80a42724e  United States    Chicago   \n",
       "1          f4a5009cf12097a892afadf95d2dcd0d        Belgium   Brussels   \n",
       "2          f4a5009cf12097a892afadf95d2dcd0d        Belgium   Brussels   \n",
       "3          f4a5009cf12097a892afadf95d2dcd0d        Belgium   Brussels   \n",
       "4          f4a5009cf12097a892afadf95d2dcd0d        Belgium   Brussels   \n",
       "...    ..                               ...            ...        ...   \n",
       "112167     706a0d02d37c04a9b0b4ac2054fbd91d  United States  New Haven   \n",
       "112168     706a0d02d37c04a9b0b4ac2054fbd91d  United States  New Haven   \n",
       "112169     706a0d02d37c04a9b0b4ac2054fbd91d  United States  New Haven   \n",
       "112170     706a0d02d37c04a9b0b4ac2054fbd91d  United States  New Haven   \n",
       "112171     706a0d02d37c04a9b0b4ac2054fbd91d  United States  New Haven   \n",
       "\n",
       "                                             Full_request  \\\n",
       "0       - - [04/Apr/2016:22:30:21 +0200] \"GET //iiif/a...   \n",
       "1       - - [04/Apr/2016:22:30:24 +0200] \"GET /service...   \n",
       "2       - - [04/Apr/2016:22:30:24 +0200] \"GET /ark:/12...   \n",
       "3       - - [04/Apr/2016:22:30:24 +0200] \"GET /ark:/12...   \n",
       "4       - - [04/Apr/2016:22:30:24 +0200] \"GET /ark:/12...   \n",
       "...                                                   ...   \n",
       "112167  - - [12/Apr/2016:05:00:46 +0200] \"GET /iiif/ar...   \n",
       "112168  - - [12/Apr/2016:05:00:46 +0200] \"GET /iiif/ar...   \n",
       "112169  - - [12/Apr/2016:05:00:46 +0200] \"GET /iiif/ar...   \n",
       "112170  - - [12/Apr/2016:05:00:47 +0200] \"GET /iiif/ar...   \n",
       "112171  - - [12/Apr/2016:05:00:47 +0200] \"GET /iiif/ar...   \n",
       "\n",
       "                              Date  \\\n",
       "0       04/Apr/2016:22:30:21 +0200   \n",
       "1       04/Apr/2016:22:30:24 +0200   \n",
       "2       04/Apr/2016:22:30:24 +0200   \n",
       "3       04/Apr/2016:22:30:24 +0200   \n",
       "4       04/Apr/2016:22:30:24 +0200   \n",
       "...                            ...   \n",
       "112167  12/Apr/2016:05:00:46 +0200   \n",
       "112168  12/Apr/2016:05:00:46 +0200   \n",
       "112169  12/Apr/2016:05:00:46 +0200   \n",
       "112170  12/Apr/2016:05:00:47 +0200   \n",
       "112171  12/Apr/2016:05:00:47 +0200   \n",
       "\n",
       "                                                  Request               Ark  \n",
       "0       GET //iiif/ark:/12148/bpt6k105952t/f57/full/17...    [bpt6k105952t]  \n",
       "1       GET /services/ajax/pagination/page/SINGLE/ark:...    [bpt6k111880x]  \n",
       "2                 GET /ark:/12148/bpt6k111880x/f7.highres    [bpt6k111880x]  \n",
       "3                 GET /ark:/12148/bpt6k111880x/f9.highres    [bpt6k111880x]  \n",
       "4                 GET /ark:/12148/bpt6k111880x/f8.highres    [bpt6k111880x]  \n",
       "...                                                   ...               ...  \n",
       "112167  GET /iiif/ark:/12148/btv1b84539771/f1/full/61,...   [btv1b84539771]  \n",
       "112168  GET /iiif/ark:/12148/btv1b10500687r/f5/full/56...  [btv1b10500687r]  \n",
       "112169  GET /iiif/ark:/12148/btv1b84539771/f3/full/59,...   [btv1b84539771]  \n",
       "112170  GET /iiif/ark:/12148/btv1b84539771/f4/full/59,...   [btv1b84539771]  \n",
       "112171  GET /iiif/ark:/12148/btv1b84539771/f5/full/60,...   [btv1b84539771]  \n",
       "\n",
       "[51318580 rows x 8 columns]"
      ]
     },
     "execution_count": 23,
     "metadata": {},
     "output_type": "execute_result"
    }
   ],
   "source": [
    "final_df"
   ]
  },
  {
   "cell_type": "markdown",
   "metadata": {},
   "source": [
    "<a class=\"anchor\" id=\"second-bullet\"></a><h2><center>II. Creating Sessions</center></h2> "
   ]
  },
  {
   "cell_type": "code",
   "execution_count": 24,
   "metadata": {},
   "outputs": [],
   "source": [
    "# save dataframe \n",
    "#final_df.to_csv('/shared_volume/April2016Week1.csv',index=False)"
   ]
  },
  {
   "cell_type": "markdown",
   "metadata": {},
   "source": [
    "#### 1. Creating a dataframe with IP and the difference in time between each connexion and the last"
   ]
  },
  {
   "cell_type": "code",
   "execution_count": 25,
   "metadata": {},
   "outputs": [
    {
     "data": {
      "text/html": [
       "<div>\n",
       "<style scoped>\n",
       "    .dataframe tbody tr th:only-of-type {\n",
       "        vertical-align: middle;\n",
       "    }\n",
       "\n",
       "    .dataframe tbody tr th {\n",
       "        vertical-align: top;\n",
       "    }\n",
       "\n",
       "    .dataframe thead th {\n",
       "        text-align: right;\n",
       "    }\n",
       "</style>\n",
       "<table border=\"1\" class=\"dataframe\">\n",
       "  <thead>\n",
       "    <tr style=\"text-align: right;\">\n",
       "      <th></th>\n",
       "      <th>Ark</th>\n",
       "      <th>Date</th>\n",
       "    </tr>\n",
       "    <tr>\n",
       "      <th>IPAdress</th>\n",
       "      <th></th>\n",
       "      <th></th>\n",
       "    </tr>\n",
       "  </thead>\n",
       "  <tbody>\n",
       "    <tr>\n",
       "      <th>100016200aa785eebfb69affbc17dbf3</th>\n",
       "      <td>[[btv1b26000825]]</td>\n",
       "      <td>[11/Apr/2016:06:54:42 +0200]</td>\n",
       "    </tr>\n",
       "    <tr>\n",
       "      <th>10003dc1c19be646d00f41726367262b</th>\n",
       "      <td>[[], [], [], [], [], [], [], [], []]</td>\n",
       "      <td>[10/Apr/2016:19:16:53 +0200, 10/Apr/2016:19:16...</td>\n",
       "    </tr>\n",
       "    <tr>\n",
       "      <th>1000595efb55f4ac7102aba1e38a3821</th>\n",
       "      <td>[[], [], [], [bpt6k8730899], [bpt6k9664572c], ...</td>\n",
       "      <td>[12/Apr/2016:01:28:15 +0200, 12/Apr/2016:01:28...</td>\n",
       "    </tr>\n",
       "    <tr>\n",
       "      <th>1000ae494e33875efe27ea27e2ddce91</th>\n",
       "      <td>[[], [], [], [], [], [], [], [], [], [], [], [...</td>\n",
       "      <td>[06/Apr/2016:15:38:02 +0200, 06/Apr/2016:15:38...</td>\n",
       "    </tr>\n",
       "    <tr>\n",
       "      <th>10014a396c559708839e6e6adaa9fa1d</th>\n",
       "      <td>[[bpt6k122592m], [], [], [], [], [], [], [], [...</td>\n",
       "      <td>[08/Apr/2016:21:26:02 +0200, 08/Apr/2016:21:26...</td>\n",
       "    </tr>\n",
       "  </tbody>\n",
       "</table>\n",
       "</div>"
      ],
      "text/plain": [
       "                                                                                Ark  \\\n",
       "IPAdress                                                                              \n",
       "100016200aa785eebfb69affbc17dbf3                                  [[btv1b26000825]]   \n",
       "10003dc1c19be646d00f41726367262b               [[], [], [], [], [], [], [], [], []]   \n",
       "1000595efb55f4ac7102aba1e38a3821  [[], [], [], [bpt6k8730899], [bpt6k9664572c], ...   \n",
       "1000ae494e33875efe27ea27e2ddce91  [[], [], [], [], [], [], [], [], [], [], [], [...   \n",
       "10014a396c559708839e6e6adaa9fa1d  [[bpt6k122592m], [], [], [], [], [], [], [], [...   \n",
       "\n",
       "                                                                               Date  \n",
       "IPAdress                                                                             \n",
       "100016200aa785eebfb69affbc17dbf3                       [11/Apr/2016:06:54:42 +0200]  \n",
       "10003dc1c19be646d00f41726367262b  [10/Apr/2016:19:16:53 +0200, 10/Apr/2016:19:16...  \n",
       "1000595efb55f4ac7102aba1e38a3821  [12/Apr/2016:01:28:15 +0200, 12/Apr/2016:01:28...  \n",
       "1000ae494e33875efe27ea27e2ddce91  [06/Apr/2016:15:38:02 +0200, 06/Apr/2016:15:38...  \n",
       "10014a396c559708839e6e6adaa9fa1d  [08/Apr/2016:21:26:02 +0200, 08/Apr/2016:21:26...  "
      ]
     },
     "execution_count": 25,
     "metadata": {},
     "output_type": "execute_result"
    }
   ],
   "source": [
    "# Session: séquences de requêtes\n",
    "# Regrouper même adresse IP => session se termine intervalle supérieur à 60 minutes entre deux requêtes. \n",
    "sessions_df = final_df.groupby('IPAdress').agg({'Ark':list,'Date':list})\n",
    "sessions_df.head()"
   ]
  },
  {
   "cell_type": "code",
   "execution_count": 27,
   "metadata": {},
   "outputs": [
    {
     "data": {
      "text/html": [
       "<div>\n",
       "<style scoped>\n",
       "    .dataframe tbody tr th:only-of-type {\n",
       "        vertical-align: middle;\n",
       "    }\n",
       "\n",
       "    .dataframe tbody tr th {\n",
       "        vertical-align: top;\n",
       "    }\n",
       "\n",
       "    .dataframe thead th {\n",
       "        text-align: right;\n",
       "    }\n",
       "</style>\n",
       "<table border=\"1\" class=\"dataframe\">\n",
       "  <thead>\n",
       "    <tr style=\"text-align: right;\">\n",
       "      <th></th>\n",
       "      <th>Ark</th>\n",
       "      <th>Date</th>\n",
       "    </tr>\n",
       "    <tr>\n",
       "      <th>IPAdress</th>\n",
       "      <th></th>\n",
       "      <th></th>\n",
       "    </tr>\n",
       "  </thead>\n",
       "  <tbody>\n",
       "    <tr>\n",
       "      <th>100016200aa785eebfb69affbc17dbf3</th>\n",
       "      <td>[[btv1b26000825]]</td>\n",
       "      <td>[11/Apr/2016:06:54:42 +0200]</td>\n",
       "    </tr>\n",
       "    <tr>\n",
       "      <th>10003dc1c19be646d00f41726367262b</th>\n",
       "      <td>[[], [], [], [], [], [], [], [], []]</td>\n",
       "      <td>[10/Apr/2016:19:16:53 +0200, 10/Apr/2016:19:16...</td>\n",
       "    </tr>\n",
       "    <tr>\n",
       "      <th>1000595efb55f4ac7102aba1e38a3821</th>\n",
       "      <td>[[], [], [], [bpt6k8730899], [bpt6k9664572c], ...</td>\n",
       "      <td>[12/Apr/2016:01:28:15 +0200, 12/Apr/2016:01:28...</td>\n",
       "    </tr>\n",
       "    <tr>\n",
       "      <th>1000ae494e33875efe27ea27e2ddce91</th>\n",
       "      <td>[[], [], [], [], [], [], [], [], [], [], [], [...</td>\n",
       "      <td>[06/Apr/2016:15:38:02 +0200, 06/Apr/2016:15:38...</td>\n",
       "    </tr>\n",
       "    <tr>\n",
       "      <th>10014a396c559708839e6e6adaa9fa1d</th>\n",
       "      <td>[[bpt6k122592m], [], [], [], [], [], [], [], [...</td>\n",
       "      <td>[08/Apr/2016:21:26:02 +0200, 08/Apr/2016:21:26...</td>\n",
       "    </tr>\n",
       "    <tr>\n",
       "      <th>...</th>\n",
       "      <td>...</td>\n",
       "      <td>...</td>\n",
       "    </tr>\n",
       "    <tr>\n",
       "      <th>fffe3965508f4c21cf7c7936efd8a379</th>\n",
       "      <td>[[btv1b9002546n], [btv1b9002546n], [], [], [],...</td>\n",
       "      <td>[10/Apr/2016:21:13:55 +0200, 10/Apr/2016:21:13...</td>\n",
       "    </tr>\n",
       "    <tr>\n",
       "      <th>fffeaa66742fe591416f20f573459ec8</th>\n",
       "      <td>[[bpt6k65408416], [], [], [], [], [], [], [], ...</td>\n",
       "      <td>[12/Apr/2016:04:53:09 +0200, 12/Apr/2016:04:53...</td>\n",
       "    </tr>\n",
       "    <tr>\n",
       "      <th>ffff09d70d417a039ce4fad83009859d</th>\n",
       "      <td>[[bpt6k409747g]]</td>\n",
       "      <td>[10/Apr/2016:23:57:23 +0200]</td>\n",
       "    </tr>\n",
       "    <tr>\n",
       "      <th>ffff240b2956654b2631a0e313edc461</th>\n",
       "      <td>[[], [], []]</td>\n",
       "      <td>[06/Apr/2016:23:19:21 +0200, 11/Apr/2016:00:02...</td>\n",
       "    </tr>\n",
       "    <tr>\n",
       "      <th>ffffe292b58ae9ec8e94dafc0c94dc7b</th>\n",
       "      <td>[[bpt6k1053506], [], [], [], [], [], [], [], [...</td>\n",
       "      <td>[11/Apr/2016:02:47:59 +0200, 11/Apr/2016:02:48...</td>\n",
       "    </tr>\n",
       "  </tbody>\n",
       "</table>\n",
       "<p>143687 rows × 2 columns</p>\n",
       "</div>"
      ],
      "text/plain": [
       "                                                                                Ark  \\\n",
       "IPAdress                                                                              \n",
       "100016200aa785eebfb69affbc17dbf3                                  [[btv1b26000825]]   \n",
       "10003dc1c19be646d00f41726367262b               [[], [], [], [], [], [], [], [], []]   \n",
       "1000595efb55f4ac7102aba1e38a3821  [[], [], [], [bpt6k8730899], [bpt6k9664572c], ...   \n",
       "1000ae494e33875efe27ea27e2ddce91  [[], [], [], [], [], [], [], [], [], [], [], [...   \n",
       "10014a396c559708839e6e6adaa9fa1d  [[bpt6k122592m], [], [], [], [], [], [], [], [...   \n",
       "...                                                                             ...   \n",
       "fffe3965508f4c21cf7c7936efd8a379  [[btv1b9002546n], [btv1b9002546n], [], [], [],...   \n",
       "fffeaa66742fe591416f20f573459ec8  [[bpt6k65408416], [], [], [], [], [], [], [], ...   \n",
       "ffff09d70d417a039ce4fad83009859d                                   [[bpt6k409747g]]   \n",
       "ffff240b2956654b2631a0e313edc461                                       [[], [], []]   \n",
       "ffffe292b58ae9ec8e94dafc0c94dc7b  [[bpt6k1053506], [], [], [], [], [], [], [], [...   \n",
       "\n",
       "                                                                               Date  \n",
       "IPAdress                                                                             \n",
       "100016200aa785eebfb69affbc17dbf3                       [11/Apr/2016:06:54:42 +0200]  \n",
       "10003dc1c19be646d00f41726367262b  [10/Apr/2016:19:16:53 +0200, 10/Apr/2016:19:16...  \n",
       "1000595efb55f4ac7102aba1e38a3821  [12/Apr/2016:01:28:15 +0200, 12/Apr/2016:01:28...  \n",
       "1000ae494e33875efe27ea27e2ddce91  [06/Apr/2016:15:38:02 +0200, 06/Apr/2016:15:38...  \n",
       "10014a396c559708839e6e6adaa9fa1d  [08/Apr/2016:21:26:02 +0200, 08/Apr/2016:21:26...  \n",
       "...                                                                             ...  \n",
       "fffe3965508f4c21cf7c7936efd8a379  [10/Apr/2016:21:13:55 +0200, 10/Apr/2016:21:13...  \n",
       "fffeaa66742fe591416f20f573459ec8  [12/Apr/2016:04:53:09 +0200, 12/Apr/2016:04:53...  \n",
       "ffff09d70d417a039ce4fad83009859d                       [10/Apr/2016:23:57:23 +0200]  \n",
       "ffff240b2956654b2631a0e313edc461  [06/Apr/2016:23:19:21 +0200, 11/Apr/2016:00:02...  \n",
       "ffffe292b58ae9ec8e94dafc0c94dc7b  [11/Apr/2016:02:47:59 +0200, 11/Apr/2016:02:48...  \n",
       "\n",
       "[143687 rows x 2 columns]"
      ]
     },
     "execution_count": 27,
     "metadata": {},
     "output_type": "execute_result"
    }
   ],
   "source": [
    "sessions_df"
   ]
  },
  {
   "cell_type": "code",
   "execution_count": 28,
   "metadata": {},
   "outputs": [],
   "source": [
    "#sessions_df.to_csv('/shared_volume/April2016from300to1000.csv',index=False)"
   ]
  },
  {
   "cell_type": "code",
   "execution_count": 29,
   "metadata": {},
   "outputs": [],
   "source": [
    "from datetime import datetime\n",
    "'''\n",
    "Function to calculate absolute value of minutes between two dates\n",
    "inputs: \n",
    "    d1: first date\n",
    "    d2: second date\n",
    "Outputs:\n",
    "    absolute value of minutes between d1 and d2\n",
    "\n",
    "'''\n",
    "def minutes_between(d1, d2):\n",
    "    d1 = datetime.strptime(d1, \"%d/%b/%Y:%H:%M:%S\")\n",
    "    d2 = datetime.strptime(d2, \"%d/%b/%Y:%H:%M:%S\")\n",
    "    return abs(((d2 - d1)).total_seconds() // 60.0)"
   ]
  },
  {
   "cell_type": "code",
   "execution_count": 30,
   "metadata": {},
   "outputs": [],
   "source": [
    "time_beginning = \"01/Jan/0001:01:01:01 +0100\"\n",
    "time_end = \"01/Jan/3000:01:01:01 +0100\"\n",
    "sessions_df['date_1'] = sessions_df.apply(lambda x: [time_beginning]+x['Date'], axis = 1)\n",
    "sessions_df['date_2'] = sessions_df.apply(lambda x: x['Date']+[time_end],axis=1)"
   ]
  },
  {
   "cell_type": "code",
   "execution_count": 31,
   "metadata": {},
   "outputs": [],
   "source": [
    "'''\n",
    "Function to calculate the difference between two zipped lists\n",
    "'''\n",
    "def calculate_difference_zipped_list(lst):\n",
    "    new_lst = []\n",
    "    for e in lst:\n",
    "        if (e[0]==time_beginning):\n",
    "            new_lst.append(999)\n",
    "        elif (e[1]==time_end):\n",
    "            new_lst.append(999)\n",
    "        else:\n",
    "            new_lst.append(minutes_between(e[0][:-6], e[1][:-6]))\n",
    "    return new_lst\n",
    "        \n",
    "    "
   ]
  },
  {
   "cell_type": "code",
   "execution_count": 32,
   "metadata": {},
   "outputs": [],
   "source": [
    "# this contains the ip adress and the zipped version of date_1,date_2\n",
    "from collections import deque\n",
    "IP_and_sessions = sessions_df.apply(lambda x: deque(calculate_difference_zipped_list(list(zip(x['date_1'],x['date_2'])))),axis=1)"
   ]
  },
  {
   "cell_type": "code",
   "execution_count": 33,
   "metadata": {},
   "outputs": [
    {
     "data": {
      "text/plain": [
       "IPAdress\n",
       "100016200aa785eebfb69affbc17dbf3                                           [999, 999]\n",
       "10003dc1c19be646d00f41726367262b    [999, 0.0, 0.0, 0.0, 0.0, 0.0, 0.0, 0.0, 0.0, ...\n",
       "1000595efb55f4ac7102aba1e38a3821    [999, 0.0, 0.0, 0.0, 0.0, 0.0, 0.0, 0.0, 0.0, ...\n",
       "1000ae494e33875efe27ea27e2ddce91    [999, 0.0, 0.0, 0.0, 0.0, 0.0, 0.0, 0.0, 0.0, ...\n",
       "10014a396c559708839e6e6adaa9fa1d    [999, 0.0, 0.0, 0.0, 0.0, 0.0, 0.0, 0.0, 0.0, ...\n",
       "                                                          ...                        \n",
       "fffe3965508f4c21cf7c7936efd8a379    [999, 0.0, 0.0, 0.0, 0.0, 0.0, 0.0, 0.0, 0.0, ...\n",
       "fffeaa66742fe591416f20f573459ec8    [999, 0.0, 0.0, 0.0, 0.0, 0.0, 0.0, 0.0, 0.0, ...\n",
       "ffff09d70d417a039ce4fad83009859d                                           [999, 999]\n",
       "ffff240b2956654b2631a0e313edc461                              [999, 5803.0, 0.0, 999]\n",
       "ffffe292b58ae9ec8e94dafc0c94dc7b    [999, 0.0, 0.0, 0.0, 0.0, 0.0, 0.0, 0.0, 0.0, ...\n",
       "Length: 143687, dtype: object"
      ]
     },
     "execution_count": 33,
     "metadata": {},
     "output_type": "execute_result"
    }
   ],
   "source": [
    "# IP and the difference in time between each connection and the last\n",
    "IP_and_sessions"
   ]
  },
  {
   "cell_type": "markdown",
   "metadata": {},
   "source": [
    "#### 2. Enriching the original dataframe with previous connexion date column, this will be useful when we try to set a timeout to define a session"
   ]
  },
  {
   "cell_type": "code",
   "execution_count": 34,
   "metadata": {},
   "outputs": [],
   "source": [
    "# index on ipadress/date\n",
    "# queue \n",
    "final_df['previous_connexion_date']=final_df.apply(lambda x: IP_and_sessions[x['IPAdress']].popleft(),axis=1)"
   ]
  },
  {
   "cell_type": "code",
   "execution_count": 35,
   "metadata": {
    "scrolled": true
   },
   "outputs": [
    {
     "data": {
      "text/html": [
       "<div>\n",
       "<style scoped>\n",
       "    .dataframe tbody tr th:only-of-type {\n",
       "        vertical-align: middle;\n",
       "    }\n",
       "\n",
       "    .dataframe tbody tr th {\n",
       "        vertical-align: top;\n",
       "    }\n",
       "\n",
       "    .dataframe thead th {\n",
       "        text-align: right;\n",
       "    }\n",
       "</style>\n",
       "<table border=\"1\" class=\"dataframe\">\n",
       "  <thead>\n",
       "    <tr style=\"text-align: right;\">\n",
       "      <th></th>\n",
       "      <th>0</th>\n",
       "      <th>IPAdress</th>\n",
       "      <th>Country</th>\n",
       "      <th>City</th>\n",
       "      <th>Full_request</th>\n",
       "      <th>Date</th>\n",
       "      <th>Request</th>\n",
       "      <th>Ark</th>\n",
       "      <th>previous_connexion_date</th>\n",
       "    </tr>\n",
       "  </thead>\n",
       "  <tbody>\n",
       "    <tr>\n",
       "      <th>0</th>\n",
       "      <td></td>\n",
       "      <td>2beea6c2c1693bc11aec84d80a42724e</td>\n",
       "      <td>United States</td>\n",
       "      <td>Chicago</td>\n",
       "      <td>- - [04/Apr/2016:22:30:21 +0200] \"GET //iiif/a...</td>\n",
       "      <td>04/Apr/2016:22:30:21 +0200</td>\n",
       "      <td>GET //iiif/ark:/12148/bpt6k105952t/f57/full/17...</td>\n",
       "      <td>[bpt6k105952t]</td>\n",
       "      <td>999.0</td>\n",
       "    </tr>\n",
       "    <tr>\n",
       "      <th>1</th>\n",
       "      <td></td>\n",
       "      <td>f4a5009cf12097a892afadf95d2dcd0d</td>\n",
       "      <td>Belgium</td>\n",
       "      <td>Brussels</td>\n",
       "      <td>- - [04/Apr/2016:22:30:24 +0200] \"GET /service...</td>\n",
       "      <td>04/Apr/2016:22:30:24 +0200</td>\n",
       "      <td>GET /services/ajax/pagination/page/SINGLE/ark:...</td>\n",
       "      <td>[bpt6k111880x]</td>\n",
       "      <td>999.0</td>\n",
       "    </tr>\n",
       "  </tbody>\n",
       "</table>\n",
       "</div>"
      ],
      "text/plain": [
       "  0                          IPAdress        Country      City  \\\n",
       "0    2beea6c2c1693bc11aec84d80a42724e  United States   Chicago   \n",
       "1    f4a5009cf12097a892afadf95d2dcd0d        Belgium  Brussels   \n",
       "\n",
       "                                        Full_request  \\\n",
       "0  - - [04/Apr/2016:22:30:21 +0200] \"GET //iiif/a...   \n",
       "1  - - [04/Apr/2016:22:30:24 +0200] \"GET /service...   \n",
       "\n",
       "                         Date  \\\n",
       "0  04/Apr/2016:22:30:21 +0200   \n",
       "1  04/Apr/2016:22:30:24 +0200   \n",
       "\n",
       "                                             Request             Ark  \\\n",
       "0  GET //iiif/ark:/12148/bpt6k105952t/f57/full/17...  [bpt6k105952t]   \n",
       "1  GET /services/ajax/pagination/page/SINGLE/ark:...  [bpt6k111880x]   \n",
       "\n",
       "   previous_connexion_date  \n",
       "0                    999.0  \n",
       "1                    999.0  "
      ]
     },
     "execution_count": 35,
     "metadata": {},
     "output_type": "execute_result"
    }
   ],
   "source": [
    "final_df.head(2)"
   ]
  },
  {
   "cell_type": "markdown",
   "metadata": {},
   "source": [
    "#### 3. Assigning a session ID to each connection according to the set rules we have set above"
   ]
  },
  {
   "cell_type": "code",
   "execution_count": 38,
   "metadata": {},
   "outputs": [],
   "source": [
    "'''\n",
    "Function to query Gallica API and get metadata about a document from it's ark.\n",
    "inputs: \n",
    "    'id': here id is the ARK of the document, that we extract from the request\n",
    "Outputs:\n",
    "     this function outputs the result of the API as a dictionary.\n",
    "\n",
    "'''\n",
    "session_id=0\n",
    "def create_session(period):\n",
    "    global session_id\n",
    "    if(period>30):\n",
    "        session_id += 1\n",
    "    return session_id"
   ]
  },
  {
   "cell_type": "code",
   "execution_count": 39,
   "metadata": {},
   "outputs": [
    {
     "data": {
      "text/html": [
       "<div>\n",
       "<style scoped>\n",
       "    .dataframe tbody tr th:only-of-type {\n",
       "        vertical-align: middle;\n",
       "    }\n",
       "\n",
       "    .dataframe tbody tr th {\n",
       "        vertical-align: top;\n",
       "    }\n",
       "\n",
       "    .dataframe thead th {\n",
       "        text-align: right;\n",
       "    }\n",
       "</style>\n",
       "<table border=\"1\" class=\"dataframe\">\n",
       "  <thead>\n",
       "    <tr style=\"text-align: right;\">\n",
       "      <th></th>\n",
       "      <th>0</th>\n",
       "      <th>IPAdress</th>\n",
       "      <th>Country</th>\n",
       "      <th>City</th>\n",
       "      <th>Full_request</th>\n",
       "      <th>Date</th>\n",
       "      <th>Request</th>\n",
       "      <th>Ark</th>\n",
       "      <th>previous_connexion_date</th>\n",
       "    </tr>\n",
       "  </thead>\n",
       "  <tbody>\n",
       "    <tr>\n",
       "      <th>0</th>\n",
       "      <td></td>\n",
       "      <td>2beea6c2c1693bc11aec84d80a42724e</td>\n",
       "      <td>United States</td>\n",
       "      <td>Chicago</td>\n",
       "      <td>- - [04/Apr/2016:22:30:21 +0200] \"GET //iiif/a...</td>\n",
       "      <td>04/Apr/2016:22:30:21 +0200</td>\n",
       "      <td>GET //iiif/ark:/12148/bpt6k105952t/f57/full/17...</td>\n",
       "      <td>[bpt6k105952t]</td>\n",
       "      <td>999.0</td>\n",
       "    </tr>\n",
       "    <tr>\n",
       "      <th>1</th>\n",
       "      <td></td>\n",
       "      <td>f4a5009cf12097a892afadf95d2dcd0d</td>\n",
       "      <td>Belgium</td>\n",
       "      <td>Brussels</td>\n",
       "      <td>- - [04/Apr/2016:22:30:24 +0200] \"GET /service...</td>\n",
       "      <td>04/Apr/2016:22:30:24 +0200</td>\n",
       "      <td>GET /services/ajax/pagination/page/SINGLE/ark:...</td>\n",
       "      <td>[bpt6k111880x]</td>\n",
       "      <td>999.0</td>\n",
       "    </tr>\n",
       "    <tr>\n",
       "      <th>2</th>\n",
       "      <td></td>\n",
       "      <td>f4a5009cf12097a892afadf95d2dcd0d</td>\n",
       "      <td>Belgium</td>\n",
       "      <td>Brussels</td>\n",
       "      <td>- - [04/Apr/2016:22:30:24 +0200] \"GET /ark:/12...</td>\n",
       "      <td>04/Apr/2016:22:30:24 +0200</td>\n",
       "      <td>GET /ark:/12148/bpt6k111880x/f7.highres</td>\n",
       "      <td>[bpt6k111880x]</td>\n",
       "      <td>0.0</td>\n",
       "    </tr>\n",
       "    <tr>\n",
       "      <th>3</th>\n",
       "      <td></td>\n",
       "      <td>f4a5009cf12097a892afadf95d2dcd0d</td>\n",
       "      <td>Belgium</td>\n",
       "      <td>Brussels</td>\n",
       "      <td>- - [04/Apr/2016:22:30:24 +0200] \"GET /ark:/12...</td>\n",
       "      <td>04/Apr/2016:22:30:24 +0200</td>\n",
       "      <td>GET /ark:/12148/bpt6k111880x/f9.highres</td>\n",
       "      <td>[bpt6k111880x]</td>\n",
       "      <td>0.0</td>\n",
       "    </tr>\n",
       "    <tr>\n",
       "      <th>4</th>\n",
       "      <td></td>\n",
       "      <td>f4a5009cf12097a892afadf95d2dcd0d</td>\n",
       "      <td>Belgium</td>\n",
       "      <td>Brussels</td>\n",
       "      <td>- - [04/Apr/2016:22:30:24 +0200] \"GET /ark:/12...</td>\n",
       "      <td>04/Apr/2016:22:30:24 +0200</td>\n",
       "      <td>GET /ark:/12148/bpt6k111880x/f8.highres</td>\n",
       "      <td>[bpt6k111880x]</td>\n",
       "      <td>0.0</td>\n",
       "    </tr>\n",
       "    <tr>\n",
       "      <th>...</th>\n",
       "      <td>...</td>\n",
       "      <td>...</td>\n",
       "      <td>...</td>\n",
       "      <td>...</td>\n",
       "      <td>...</td>\n",
       "      <td>...</td>\n",
       "      <td>...</td>\n",
       "      <td>...</td>\n",
       "      <td>...</td>\n",
       "    </tr>\n",
       "    <tr>\n",
       "      <th>112167</th>\n",
       "      <td></td>\n",
       "      <td>706a0d02d37c04a9b0b4ac2054fbd91d</td>\n",
       "      <td>United States</td>\n",
       "      <td>New Haven</td>\n",
       "      <td>- - [12/Apr/2016:05:00:46 +0200] \"GET /iiif/ar...</td>\n",
       "      <td>12/Apr/2016:05:00:46 +0200</td>\n",
       "      <td>GET /iiif/ark:/12148/btv1b84539771/f1/full/61,...</td>\n",
       "      <td>[btv1b84539771]</td>\n",
       "      <td>0.0</td>\n",
       "    </tr>\n",
       "    <tr>\n",
       "      <th>112168</th>\n",
       "      <td></td>\n",
       "      <td>706a0d02d37c04a9b0b4ac2054fbd91d</td>\n",
       "      <td>United States</td>\n",
       "      <td>New Haven</td>\n",
       "      <td>- - [12/Apr/2016:05:00:46 +0200] \"GET /iiif/ar...</td>\n",
       "      <td>12/Apr/2016:05:00:46 +0200</td>\n",
       "      <td>GET /iiif/ark:/12148/btv1b10500687r/f5/full/56...</td>\n",
       "      <td>[btv1b10500687r]</td>\n",
       "      <td>0.0</td>\n",
       "    </tr>\n",
       "    <tr>\n",
       "      <th>112169</th>\n",
       "      <td></td>\n",
       "      <td>706a0d02d37c04a9b0b4ac2054fbd91d</td>\n",
       "      <td>United States</td>\n",
       "      <td>New Haven</td>\n",
       "      <td>- - [12/Apr/2016:05:00:46 +0200] \"GET /iiif/ar...</td>\n",
       "      <td>12/Apr/2016:05:00:46 +0200</td>\n",
       "      <td>GET /iiif/ark:/12148/btv1b84539771/f3/full/59,...</td>\n",
       "      <td>[btv1b84539771]</td>\n",
       "      <td>0.0</td>\n",
       "    </tr>\n",
       "    <tr>\n",
       "      <th>112170</th>\n",
       "      <td></td>\n",
       "      <td>706a0d02d37c04a9b0b4ac2054fbd91d</td>\n",
       "      <td>United States</td>\n",
       "      <td>New Haven</td>\n",
       "      <td>- - [12/Apr/2016:05:00:47 +0200] \"GET /iiif/ar...</td>\n",
       "      <td>12/Apr/2016:05:00:47 +0200</td>\n",
       "      <td>GET /iiif/ark:/12148/btv1b84539771/f4/full/59,...</td>\n",
       "      <td>[btv1b84539771]</td>\n",
       "      <td>0.0</td>\n",
       "    </tr>\n",
       "    <tr>\n",
       "      <th>112171</th>\n",
       "      <td></td>\n",
       "      <td>706a0d02d37c04a9b0b4ac2054fbd91d</td>\n",
       "      <td>United States</td>\n",
       "      <td>New Haven</td>\n",
       "      <td>- - [12/Apr/2016:05:00:47 +0200] \"GET /iiif/ar...</td>\n",
       "      <td>12/Apr/2016:05:00:47 +0200</td>\n",
       "      <td>GET /iiif/ark:/12148/btv1b84539771/f5/full/60,...</td>\n",
       "      <td>[btv1b84539771]</td>\n",
       "      <td>0.0</td>\n",
       "    </tr>\n",
       "  </tbody>\n",
       "</table>\n",
       "<p>51318580 rows × 9 columns</p>\n",
       "</div>"
      ],
      "text/plain": [
       "       0                           IPAdress        Country       City  \\\n",
       "0          2beea6c2c1693bc11aec84d80a42724e  United States    Chicago   \n",
       "1          f4a5009cf12097a892afadf95d2dcd0d        Belgium   Brussels   \n",
       "2          f4a5009cf12097a892afadf95d2dcd0d        Belgium   Brussels   \n",
       "3          f4a5009cf12097a892afadf95d2dcd0d        Belgium   Brussels   \n",
       "4          f4a5009cf12097a892afadf95d2dcd0d        Belgium   Brussels   \n",
       "...    ..                               ...            ...        ...   \n",
       "112167     706a0d02d37c04a9b0b4ac2054fbd91d  United States  New Haven   \n",
       "112168     706a0d02d37c04a9b0b4ac2054fbd91d  United States  New Haven   \n",
       "112169     706a0d02d37c04a9b0b4ac2054fbd91d  United States  New Haven   \n",
       "112170     706a0d02d37c04a9b0b4ac2054fbd91d  United States  New Haven   \n",
       "112171     706a0d02d37c04a9b0b4ac2054fbd91d  United States  New Haven   \n",
       "\n",
       "                                             Full_request  \\\n",
       "0       - - [04/Apr/2016:22:30:21 +0200] \"GET //iiif/a...   \n",
       "1       - - [04/Apr/2016:22:30:24 +0200] \"GET /service...   \n",
       "2       - - [04/Apr/2016:22:30:24 +0200] \"GET /ark:/12...   \n",
       "3       - - [04/Apr/2016:22:30:24 +0200] \"GET /ark:/12...   \n",
       "4       - - [04/Apr/2016:22:30:24 +0200] \"GET /ark:/12...   \n",
       "...                                                   ...   \n",
       "112167  - - [12/Apr/2016:05:00:46 +0200] \"GET /iiif/ar...   \n",
       "112168  - - [12/Apr/2016:05:00:46 +0200] \"GET /iiif/ar...   \n",
       "112169  - - [12/Apr/2016:05:00:46 +0200] \"GET /iiif/ar...   \n",
       "112170  - - [12/Apr/2016:05:00:47 +0200] \"GET /iiif/ar...   \n",
       "112171  - - [12/Apr/2016:05:00:47 +0200] \"GET /iiif/ar...   \n",
       "\n",
       "                              Date  \\\n",
       "0       04/Apr/2016:22:30:21 +0200   \n",
       "1       04/Apr/2016:22:30:24 +0200   \n",
       "2       04/Apr/2016:22:30:24 +0200   \n",
       "3       04/Apr/2016:22:30:24 +0200   \n",
       "4       04/Apr/2016:22:30:24 +0200   \n",
       "...                            ...   \n",
       "112167  12/Apr/2016:05:00:46 +0200   \n",
       "112168  12/Apr/2016:05:00:46 +0200   \n",
       "112169  12/Apr/2016:05:00:46 +0200   \n",
       "112170  12/Apr/2016:05:00:47 +0200   \n",
       "112171  12/Apr/2016:05:00:47 +0200   \n",
       "\n",
       "                                                  Request               Ark  \\\n",
       "0       GET //iiif/ark:/12148/bpt6k105952t/f57/full/17...    [bpt6k105952t]   \n",
       "1       GET /services/ajax/pagination/page/SINGLE/ark:...    [bpt6k111880x]   \n",
       "2                 GET /ark:/12148/bpt6k111880x/f7.highres    [bpt6k111880x]   \n",
       "3                 GET /ark:/12148/bpt6k111880x/f9.highres    [bpt6k111880x]   \n",
       "4                 GET /ark:/12148/bpt6k111880x/f8.highres    [bpt6k111880x]   \n",
       "...                                                   ...               ...   \n",
       "112167  GET /iiif/ark:/12148/btv1b84539771/f1/full/61,...   [btv1b84539771]   \n",
       "112168  GET /iiif/ark:/12148/btv1b10500687r/f5/full/56...  [btv1b10500687r]   \n",
       "112169  GET /iiif/ark:/12148/btv1b84539771/f3/full/59,...   [btv1b84539771]   \n",
       "112170  GET /iiif/ark:/12148/btv1b84539771/f4/full/59,...   [btv1b84539771]   \n",
       "112171  GET /iiif/ark:/12148/btv1b84539771/f5/full/60,...   [btv1b84539771]   \n",
       "\n",
       "        previous_connexion_date  \n",
       "0                         999.0  \n",
       "1                         999.0  \n",
       "2                           0.0  \n",
       "3                           0.0  \n",
       "4                           0.0  \n",
       "...                         ...  \n",
       "112167                      0.0  \n",
       "112168                      0.0  \n",
       "112169                      0.0  \n",
       "112170                      0.0  \n",
       "112171                      0.0  \n",
       "\n",
       "[51318580 rows x 9 columns]"
      ]
     },
     "execution_count": 39,
     "metadata": {},
     "output_type": "execute_result"
    }
   ],
   "source": [
    "final_df"
   ]
  },
  {
   "cell_type": "code",
   "execution_count": 40,
   "metadata": {},
   "outputs": [],
   "source": [
    "final_df=final_df.sort_values(by=['IPAdress','Date'])\n",
    "final_df['session_id'] = final_df.apply(lambda x: create_session(x['previous_connexion_date']),axis=1)"
   ]
  },
  {
   "cell_type": "code",
   "execution_count": 41,
   "metadata": {},
   "outputs": [
    {
     "data": {
      "text/html": [
       "<div>\n",
       "<style scoped>\n",
       "    .dataframe tbody tr th:only-of-type {\n",
       "        vertical-align: middle;\n",
       "    }\n",
       "\n",
       "    .dataframe tbody tr th {\n",
       "        vertical-align: top;\n",
       "    }\n",
       "\n",
       "    .dataframe thead th {\n",
       "        text-align: right;\n",
       "    }\n",
       "</style>\n",
       "<table border=\"1\" class=\"dataframe\">\n",
       "  <thead>\n",
       "    <tr style=\"text-align: right;\">\n",
       "      <th></th>\n",
       "      <th>0</th>\n",
       "      <th>IPAdress</th>\n",
       "      <th>Country</th>\n",
       "      <th>City</th>\n",
       "      <th>Full_request</th>\n",
       "      <th>Date</th>\n",
       "      <th>Request</th>\n",
       "      <th>Ark</th>\n",
       "      <th>previous_connexion_date</th>\n",
       "      <th>session_id</th>\n",
       "    </tr>\n",
       "  </thead>\n",
       "  <tbody>\n",
       "    <tr>\n",
       "      <th>230</th>\n",
       "      <td></td>\n",
       "      <td>100016200aa785eebfb69affbc17dbf3</td>\n",
       "      <td>Switzerland</td>\n",
       "      <td>null</td>\n",
       "      <td>- - [11/Apr/2016:06:54:42 +0200] \"GET /ark:/12...</td>\n",
       "      <td>11/Apr/2016:06:54:42 +0200</td>\n",
       "      <td>GET /ark:/12148/btv1b26000825/f3.highres</td>\n",
       "      <td>[btv1b26000825]</td>\n",
       "      <td>999.0</td>\n",
       "      <td>1</td>\n",
       "    </tr>\n",
       "    <tr>\n",
       "      <th>219700</th>\n",
       "      <td></td>\n",
       "      <td>10003dc1c19be646d00f41726367262b</td>\n",
       "      <td>France</td>\n",
       "      <td>Tourcoing</td>\n",
       "      <td>- - [10/Apr/2016:19:16:53 +0200] \"GET / HTTP/1...</td>\n",
       "      <td>10/Apr/2016:19:16:53 +0200</td>\n",
       "      <td>GET /</td>\n",
       "      <td>[]</td>\n",
       "      <td>999.0</td>\n",
       "      <td>2</td>\n",
       "    </tr>\n",
       "    <tr>\n",
       "      <th>219701</th>\n",
       "      <td></td>\n",
       "      <td>10003dc1c19be646d00f41726367262b</td>\n",
       "      <td>France</td>\n",
       "      <td>Tourcoing</td>\n",
       "      <td>- - [10/Apr/2016:19:16:53 +0200] \"GET /assets/...</td>\n",
       "      <td>10/Apr/2016:19:16:53 +0200</td>\n",
       "      <td>GET /assets/static/stylesheets/thetiere/fonts/...</td>\n",
       "      <td>[]</td>\n",
       "      <td>0.0</td>\n",
       "      <td>2</td>\n",
       "    </tr>\n",
       "    <tr>\n",
       "      <th>219702</th>\n",
       "      <td></td>\n",
       "      <td>10003dc1c19be646d00f41726367262b</td>\n",
       "      <td>France</td>\n",
       "      <td>Tourcoing</td>\n",
       "      <td>- - [10/Apr/2016:19:16:53 +0200] \"GET /assets/...</td>\n",
       "      <td>10/Apr/2016:19:16:53 +0200</td>\n",
       "      <td>GET /assets/static/javascripts/klee/jquery.tra...</td>\n",
       "      <td>[]</td>\n",
       "      <td>0.0</td>\n",
       "      <td>2</td>\n",
       "    </tr>\n",
       "    <tr>\n",
       "      <th>219703</th>\n",
       "      <td></td>\n",
       "      <td>10003dc1c19be646d00f41726367262b</td>\n",
       "      <td>France</td>\n",
       "      <td>Tourcoing</td>\n",
       "      <td>- - [10/Apr/2016:19:16:53 +0200] \"GET /assets/...</td>\n",
       "      <td>10/Apr/2016:19:16:53 +0200</td>\n",
       "      <td>GET /assets/static/javascripts/klee/tablet/scr...</td>\n",
       "      <td>[]</td>\n",
       "      <td>0.0</td>\n",
       "      <td>2</td>\n",
       "    </tr>\n",
       "    <tr>\n",
       "      <th>...</th>\n",
       "      <td>...</td>\n",
       "      <td>...</td>\n",
       "      <td>...</td>\n",
       "      <td>...</td>\n",
       "      <td>...</td>\n",
       "      <td>...</td>\n",
       "      <td>...</td>\n",
       "      <td>...</td>\n",
       "      <td>...</td>\n",
       "      <td>...</td>\n",
       "    </tr>\n",
       "    <tr>\n",
       "      <th>40399</th>\n",
       "      <td></td>\n",
       "      <td>ffffe292b58ae9ec8e94dafc0c94dc7b</td>\n",
       "      <td>United States</td>\n",
       "      <td>Villa Rica</td>\n",
       "      <td>- - [11/Apr/2016:02:48:07 +0200] \"GET /mbImage...</td>\n",
       "      <td>11/Apr/2016:02:48:07 +0200</td>\n",
       "      <td>GET /mbImage/perso/favicon.ico</td>\n",
       "      <td>[]</td>\n",
       "      <td>0.0</td>\n",
       "      <td>232064</td>\n",
       "    </tr>\n",
       "    <tr>\n",
       "      <th>40400</th>\n",
       "      <td></td>\n",
       "      <td>ffffe292b58ae9ec8e94dafc0c94dc7b</td>\n",
       "      <td>United States</td>\n",
       "      <td>Villa Rica</td>\n",
       "      <td>- - [11/Apr/2016:02:48:07 +0200] \"GET /ark:/12...</td>\n",
       "      <td>11/Apr/2016:02:48:07 +0200</td>\n",
       "      <td>GET /ark:/12148/bpt6k1053506/f55.highres</td>\n",
       "      <td>[bpt6k1053506]</td>\n",
       "      <td>0.0</td>\n",
       "      <td>232064</td>\n",
       "    </tr>\n",
       "    <tr>\n",
       "      <th>40401</th>\n",
       "      <td></td>\n",
       "      <td>ffffe292b58ae9ec8e94dafc0c94dc7b</td>\n",
       "      <td>United States</td>\n",
       "      <td>Villa Rica</td>\n",
       "      <td>- - [11/Apr/2016:02:48:07 +0200] \"GET /ark:/12...</td>\n",
       "      <td>11/Apr/2016:02:48:07 +0200</td>\n",
       "      <td>GET /ark:/12148/bpt6k1053506/f56.highres</td>\n",
       "      <td>[bpt6k1053506]</td>\n",
       "      <td>0.0</td>\n",
       "      <td>232064</td>\n",
       "    </tr>\n",
       "    <tr>\n",
       "      <th>40402</th>\n",
       "      <td></td>\n",
       "      <td>ffffe292b58ae9ec8e94dafc0c94dc7b</td>\n",
       "      <td>United States</td>\n",
       "      <td>Villa Rica</td>\n",
       "      <td>- - [11/Apr/2016:02:48:07 +0200] \"GET /ark:/12...</td>\n",
       "      <td>11/Apr/2016:02:48:07 +0200</td>\n",
       "      <td>GET /ark:/12148/bpt6k1053506/f57.highres</td>\n",
       "      <td>[bpt6k1053506]</td>\n",
       "      <td>0.0</td>\n",
       "      <td>232064</td>\n",
       "    </tr>\n",
       "    <tr>\n",
       "      <th>40404</th>\n",
       "      <td></td>\n",
       "      <td>ffffe292b58ae9ec8e94dafc0c94dc7b</td>\n",
       "      <td>United States</td>\n",
       "      <td>Villa Rica</td>\n",
       "      <td>- - [11/Apr/2016:02:48:08 +0200] \"GET /service...</td>\n",
       "      <td>11/Apr/2016:02:48:08 +0200</td>\n",
       "      <td>GET /services-espaceperso/sessionOut</td>\n",
       "      <td>[]</td>\n",
       "      <td>0.0</td>\n",
       "      <td>232064</td>\n",
       "    </tr>\n",
       "  </tbody>\n",
       "</table>\n",
       "<p>51318580 rows × 10 columns</p>\n",
       "</div>"
      ],
      "text/plain": [
       "       0                           IPAdress        Country        City  \\\n",
       "230        100016200aa785eebfb69affbc17dbf3    Switzerland        null   \n",
       "219700     10003dc1c19be646d00f41726367262b         France   Tourcoing   \n",
       "219701     10003dc1c19be646d00f41726367262b         France   Tourcoing   \n",
       "219702     10003dc1c19be646d00f41726367262b         France   Tourcoing   \n",
       "219703     10003dc1c19be646d00f41726367262b         France   Tourcoing   \n",
       "...    ..                               ...            ...         ...   \n",
       "40399      ffffe292b58ae9ec8e94dafc0c94dc7b  United States  Villa Rica   \n",
       "40400      ffffe292b58ae9ec8e94dafc0c94dc7b  United States  Villa Rica   \n",
       "40401      ffffe292b58ae9ec8e94dafc0c94dc7b  United States  Villa Rica   \n",
       "40402      ffffe292b58ae9ec8e94dafc0c94dc7b  United States  Villa Rica   \n",
       "40404      ffffe292b58ae9ec8e94dafc0c94dc7b  United States  Villa Rica   \n",
       "\n",
       "                                             Full_request  \\\n",
       "230     - - [11/Apr/2016:06:54:42 +0200] \"GET /ark:/12...   \n",
       "219700  - - [10/Apr/2016:19:16:53 +0200] \"GET / HTTP/1...   \n",
       "219701  - - [10/Apr/2016:19:16:53 +0200] \"GET /assets/...   \n",
       "219702  - - [10/Apr/2016:19:16:53 +0200] \"GET /assets/...   \n",
       "219703  - - [10/Apr/2016:19:16:53 +0200] \"GET /assets/...   \n",
       "...                                                   ...   \n",
       "40399   - - [11/Apr/2016:02:48:07 +0200] \"GET /mbImage...   \n",
       "40400   - - [11/Apr/2016:02:48:07 +0200] \"GET /ark:/12...   \n",
       "40401   - - [11/Apr/2016:02:48:07 +0200] \"GET /ark:/12...   \n",
       "40402   - - [11/Apr/2016:02:48:07 +0200] \"GET /ark:/12...   \n",
       "40404   - - [11/Apr/2016:02:48:08 +0200] \"GET /service...   \n",
       "\n",
       "                              Date  \\\n",
       "230     11/Apr/2016:06:54:42 +0200   \n",
       "219700  10/Apr/2016:19:16:53 +0200   \n",
       "219701  10/Apr/2016:19:16:53 +0200   \n",
       "219702  10/Apr/2016:19:16:53 +0200   \n",
       "219703  10/Apr/2016:19:16:53 +0200   \n",
       "...                            ...   \n",
       "40399   11/Apr/2016:02:48:07 +0200   \n",
       "40400   11/Apr/2016:02:48:07 +0200   \n",
       "40401   11/Apr/2016:02:48:07 +0200   \n",
       "40402   11/Apr/2016:02:48:07 +0200   \n",
       "40404   11/Apr/2016:02:48:08 +0200   \n",
       "\n",
       "                                                  Request              Ark  \\\n",
       "230              GET /ark:/12148/btv1b26000825/f3.highres  [btv1b26000825]   \n",
       "219700                                              GET /               []   \n",
       "219701  GET /assets/static/stylesheets/thetiere/fonts/...               []   \n",
       "219702  GET /assets/static/javascripts/klee/jquery.tra...               []   \n",
       "219703  GET /assets/static/javascripts/klee/tablet/scr...               []   \n",
       "...                                                   ...              ...   \n",
       "40399                      GET /mbImage/perso/favicon.ico               []   \n",
       "40400            GET /ark:/12148/bpt6k1053506/f55.highres   [bpt6k1053506]   \n",
       "40401            GET /ark:/12148/bpt6k1053506/f56.highres   [bpt6k1053506]   \n",
       "40402            GET /ark:/12148/bpt6k1053506/f57.highres   [bpt6k1053506]   \n",
       "40404                GET /services-espaceperso/sessionOut               []   \n",
       "\n",
       "        previous_connexion_date  session_id  \n",
       "230                       999.0           1  \n",
       "219700                    999.0           2  \n",
       "219701                      0.0           2  \n",
       "219702                      0.0           2  \n",
       "219703                      0.0           2  \n",
       "...                         ...         ...  \n",
       "40399                       0.0      232064  \n",
       "40400                       0.0      232064  \n",
       "40401                       0.0      232064  \n",
       "40402                       0.0      232064  \n",
       "40404                       0.0      232064  \n",
       "\n",
       "[51318580 rows x 10 columns]"
      ]
     },
     "execution_count": 41,
     "metadata": {},
     "output_type": "execute_result"
    }
   ],
   "source": [
    "final_df"
   ]
  },
  {
   "cell_type": "markdown",
   "metadata": {},
   "source": [
    "#### 4. Creating sessions by grouping by session ID and collecting all ARKs\n"
   ]
  },
  {
   "cell_type": "code",
   "execution_count": 44,
   "metadata": {},
   "outputs": [],
   "source": [
    "sessions = final_df.groupby('session_id').agg({'Ark':list,'Date':list, 'Country':list,'City':list})"
   ]
  },
  {
   "cell_type": "code",
   "execution_count": 45,
   "metadata": {},
   "outputs": [],
   "source": [
    "# removing subsequent ARKs and remove empty lists\n",
    "def remove_consecutive_duplicates(l):\n",
    "    return [v for i, v in enumerate(l) if (i == 0 or v != l[i-1]) and v!=[]]\n",
    "\n",
    "    \n",
    "sessions['Ark'] = sessions.apply(lambda x: remove_consecutive_duplicates(x['Ark']), axis = 1)"
   ]
  },
  {
   "cell_type": "code",
   "execution_count": 47,
   "metadata": {},
   "outputs": [],
   "source": [
    "sessions = sessions[sessions['Ark'].apply(lambda x: len(x)>1)]"
   ]
  },
  {
   "cell_type": "code",
   "execution_count": 50,
   "metadata": {
    "scrolled": true
   },
   "outputs": [
    {
     "data": {
      "text/html": [
       "<div>\n",
       "<style scoped>\n",
       "    .dataframe tbody tr th:only-of-type {\n",
       "        vertical-align: middle;\n",
       "    }\n",
       "\n",
       "    .dataframe tbody tr th {\n",
       "        vertical-align: top;\n",
       "    }\n",
       "\n",
       "    .dataframe thead th {\n",
       "        text-align: right;\n",
       "    }\n",
       "</style>\n",
       "<table border=\"1\" class=\"dataframe\">\n",
       "  <thead>\n",
       "    <tr style=\"text-align: right;\">\n",
       "      <th></th>\n",
       "      <th>Ark</th>\n",
       "      <th>Date</th>\n",
       "      <th>Country</th>\n",
       "      <th>City</th>\n",
       "    </tr>\n",
       "    <tr>\n",
       "      <th>session_id</th>\n",
       "      <th></th>\n",
       "      <th></th>\n",
       "      <th></th>\n",
       "      <th></th>\n",
       "    </tr>\n",
       "  </thead>\n",
       "  <tbody>\n",
       "    <tr>\n",
       "      <th>3</th>\n",
       "      <td>[[bpt6k8730899], [bpt6k9664572c], [bpt6k967442...</td>\n",
       "      <td>[12/Apr/2016:01:28:15 +0200, 12/Apr/2016:01:28...</td>\n",
       "      <td>[Mexico, Mexico, Mexico, Mexico, Mexico, Mexic...</td>\n",
       "      <td>[Mexico City, Mexico City, Mexico City, Mexico...</td>\n",
       "    </tr>\n",
       "    <tr>\n",
       "      <th>4</th>\n",
       "      <td>[[bpt6k8630600z], [btv1b53118063c], [bpt6k9672...</td>\n",
       "      <td>[06/Apr/2016:15:38:02 +0200, 06/Apr/2016:15:38...</td>\n",
       "      <td>[France, France, France, France, France, Franc...</td>\n",
       "      <td>[Paris, Paris, Paris, Paris, Paris, Paris, Par...</td>\n",
       "    </tr>\n",
       "    <tr>\n",
       "      <th>5</th>\n",
       "      <td>[[btv1b69253712], [btv1b69253712], [btv1b69176...</td>\n",
       "      <td>[08/Apr/2016:10:30:43 +0200, 08/Apr/2016:10:30...</td>\n",
       "      <td>[France, France, France, France, France, Franc...</td>\n",
       "      <td>[Paris, Paris, Paris, Paris, Paris, Paris, Par...</td>\n",
       "    </tr>\n",
       "    <tr>\n",
       "      <th>7</th>\n",
       "      <td>[[bpt6k9664572c], [btv1b531180658], [bpt6k9668...</td>\n",
       "      <td>[09/Apr/2016:23:22:21 +0200, 09/Apr/2016:23:22...</td>\n",
       "      <td>[France, France, France, France, France, Franc...</td>\n",
       "      <td>[Paris, Paris, Paris, Paris, Paris, Paris, Par...</td>\n",
       "    </tr>\n",
       "    <tr>\n",
       "      <th>8</th>\n",
       "      <td>[[bpt6k122592m], [bpt6k122592m]]</td>\n",
       "      <td>[08/Apr/2016:21:26:02 +0200, 08/Apr/2016:21:26...</td>\n",
       "      <td>[Egypt, Egypt, Egypt, Egypt, Egypt, Egypt, Egy...</td>\n",
       "      <td>[null, null, null, null, null, null, null, nul...</td>\n",
       "    </tr>\n",
       "    <tr>\n",
       "      <th>...</th>\n",
       "      <td>...</td>\n",
       "      <td>...</td>\n",
       "      <td>...</td>\n",
       "      <td>...</td>\n",
       "    </tr>\n",
       "    <tr>\n",
       "      <th>232056</th>\n",
       "      <td>[[bpt6k55715554], [bpt6k2939306]]</td>\n",
       "      <td>[09/Apr/2016:03:28:09 +0200, 09/Apr/2016:03:28...</td>\n",
       "      <td>[United Kingdom, United Kingdom]</td>\n",
       "      <td>[Coventry, Coventry]</td>\n",
       "    </tr>\n",
       "    <tr>\n",
       "      <th>232058</th>\n",
       "      <td>[[bpt6k962077], [bpt6k962077], [bpt6k962077], ...</td>\n",
       "      <td>[06/Apr/2016:17:16:03 +0200, 06/Apr/2016:17:16...</td>\n",
       "      <td>[Switzerland, Switzerland, Switzerland, Switze...</td>\n",
       "      <td>[Neuchatel, Neuchatel, Neuchatel, Neuchatel, N...</td>\n",
       "    </tr>\n",
       "    <tr>\n",
       "      <th>232059</th>\n",
       "      <td>[[btv1b9002546n], [btv1b9002546n], [btv1b90025...</td>\n",
       "      <td>[10/Apr/2016:21:13:55 +0200, 10/Apr/2016:21:13...</td>\n",
       "      <td>[France, France, France, France, France, Franc...</td>\n",
       "      <td>[Noisy-le-Grand, Noisy-le-Grand, Noisy-le-Gran...</td>\n",
       "    </tr>\n",
       "    <tr>\n",
       "      <th>232060</th>\n",
       "      <td>[[bpt6k65408416], [bpt6k65408416], [bpt6k65408...</td>\n",
       "      <td>[12/Apr/2016:04:53:09 +0200, 12/Apr/2016:04:53...</td>\n",
       "      <td>[France, France, France, France, France, Franc...</td>\n",
       "      <td>[null, null, null, null, null, null, null, nul...</td>\n",
       "    </tr>\n",
       "    <tr>\n",
       "      <th>232064</th>\n",
       "      <td>[[bpt6k1053506], [bpt6k1053506]]</td>\n",
       "      <td>[11/Apr/2016:02:47:59 +0200, 11/Apr/2016:02:48...</td>\n",
       "      <td>[United States, United States, United States, ...</td>\n",
       "      <td>[Villa Rica, Villa Rica, Villa Rica, Villa Ric...</td>\n",
       "    </tr>\n",
       "  </tbody>\n",
       "</table>\n",
       "<p>104863 rows × 4 columns</p>\n",
       "</div>"
      ],
      "text/plain": [
       "                                                          Ark  \\\n",
       "session_id                                                      \n",
       "3           [[bpt6k8730899], [bpt6k9664572c], [bpt6k967442...   \n",
       "4           [[bpt6k8630600z], [btv1b53118063c], [bpt6k9672...   \n",
       "5           [[btv1b69253712], [btv1b69253712], [btv1b69176...   \n",
       "7           [[bpt6k9664572c], [btv1b531180658], [bpt6k9668...   \n",
       "8                            [[bpt6k122592m], [bpt6k122592m]]   \n",
       "...                                                       ...   \n",
       "232056                      [[bpt6k55715554], [bpt6k2939306]]   \n",
       "232058      [[bpt6k962077], [bpt6k962077], [bpt6k962077], ...   \n",
       "232059      [[btv1b9002546n], [btv1b9002546n], [btv1b90025...   \n",
       "232060      [[bpt6k65408416], [bpt6k65408416], [bpt6k65408...   \n",
       "232064                       [[bpt6k1053506], [bpt6k1053506]]   \n",
       "\n",
       "                                                         Date  \\\n",
       "session_id                                                      \n",
       "3           [12/Apr/2016:01:28:15 +0200, 12/Apr/2016:01:28...   \n",
       "4           [06/Apr/2016:15:38:02 +0200, 06/Apr/2016:15:38...   \n",
       "5           [08/Apr/2016:10:30:43 +0200, 08/Apr/2016:10:30...   \n",
       "7           [09/Apr/2016:23:22:21 +0200, 09/Apr/2016:23:22...   \n",
       "8           [08/Apr/2016:21:26:02 +0200, 08/Apr/2016:21:26...   \n",
       "...                                                       ...   \n",
       "232056      [09/Apr/2016:03:28:09 +0200, 09/Apr/2016:03:28...   \n",
       "232058      [06/Apr/2016:17:16:03 +0200, 06/Apr/2016:17:16...   \n",
       "232059      [10/Apr/2016:21:13:55 +0200, 10/Apr/2016:21:13...   \n",
       "232060      [12/Apr/2016:04:53:09 +0200, 12/Apr/2016:04:53...   \n",
       "232064      [11/Apr/2016:02:47:59 +0200, 11/Apr/2016:02:48...   \n",
       "\n",
       "                                                      Country  \\\n",
       "session_id                                                      \n",
       "3           [Mexico, Mexico, Mexico, Mexico, Mexico, Mexic...   \n",
       "4           [France, France, France, France, France, Franc...   \n",
       "5           [France, France, France, France, France, Franc...   \n",
       "7           [France, France, France, France, France, Franc...   \n",
       "8           [Egypt, Egypt, Egypt, Egypt, Egypt, Egypt, Egy...   \n",
       "...                                                       ...   \n",
       "232056                       [United Kingdom, United Kingdom]   \n",
       "232058      [Switzerland, Switzerland, Switzerland, Switze...   \n",
       "232059      [France, France, France, France, France, Franc...   \n",
       "232060      [France, France, France, France, France, Franc...   \n",
       "232064      [United States, United States, United States, ...   \n",
       "\n",
       "                                                         City  \n",
       "session_id                                                     \n",
       "3           [Mexico City, Mexico City, Mexico City, Mexico...  \n",
       "4           [Paris, Paris, Paris, Paris, Paris, Paris, Par...  \n",
       "5           [Paris, Paris, Paris, Paris, Paris, Paris, Par...  \n",
       "7           [Paris, Paris, Paris, Paris, Paris, Paris, Par...  \n",
       "8           [null, null, null, null, null, null, null, nul...  \n",
       "...                                                       ...  \n",
       "232056                                   [Coventry, Coventry]  \n",
       "232058      [Neuchatel, Neuchatel, Neuchatel, Neuchatel, N...  \n",
       "232059      [Noisy-le-Grand, Noisy-le-Grand, Noisy-le-Gran...  \n",
       "232060      [null, null, null, null, null, null, null, nul...  \n",
       "232064      [Villa Rica, Villa Rica, Villa Rica, Villa Ric...  \n",
       "\n",
       "[104863 rows x 4 columns]"
      ]
     },
     "execution_count": 50,
     "metadata": {},
     "output_type": "execute_result"
    }
   ],
   "source": [
    "sessions"
   ]
  },
  {
   "cell_type": "code",
   "execution_count": 51,
   "metadata": {},
   "outputs": [],
   "source": [
    "sessions.to_csv('/shared_volume/SessionsApril2016from300to1000.csv',index=False)"
   ]
  },
  {
   "cell_type": "code",
   "execution_count": 55,
   "metadata": {},
   "outputs": [
    {
     "name": "stderr",
     "output_type": "stream",
     "text": [
      "/usr/local/lib/python3.6/dist-packages/ipykernel_launcher.py:1: SettingWithCopyWarning: \n",
      "A value is trying to be set on a copy of a slice from a DataFrame.\n",
      "Try using .loc[row_indexer,col_indexer] = value instead\n",
      "\n",
      "See the caveats in the documentation: https://pandas.pydata.org/pandas-docs/stable/user_guide/indexing.html#returning-a-view-versus-a-copy\n",
      "  \"\"\"Entry point for launching an IPython kernel.\n"
     ]
    }
   ],
   "source": [
    "sessions['Country'] = sessions['Country'].apply(lambda x: x[0] )"
   ]
  },
  {
   "cell_type": "code",
   "execution_count": 57,
   "metadata": {},
   "outputs": [
    {
     "name": "stderr",
     "output_type": "stream",
     "text": [
      "/usr/local/lib/python3.6/dist-packages/ipykernel_launcher.py:1: SettingWithCopyWarning: \n",
      "A value is trying to be set on a copy of a slice from a DataFrame.\n",
      "Try using .loc[row_indexer,col_indexer] = value instead\n",
      "\n",
      "See the caveats in the documentation: https://pandas.pydata.org/pandas-docs/stable/user_guide/indexing.html#returning-a-view-versus-a-copy\n",
      "  \"\"\"Entry point for launching an IPython kernel.\n"
     ]
    }
   ],
   "source": [
    "sessions['City']= sessions['City'].apply(lambda x:x[0])"
   ]
  },
  {
   "cell_type": "code",
   "execution_count": 67,
   "metadata": {},
   "outputs": [
    {
     "name": "stderr",
     "output_type": "stream",
     "text": [
      "/usr/local/lib/python3.6/dist-packages/ipykernel_launcher.py:1: SettingWithCopyWarning: \n",
      "A value is trying to be set on a copy of a slice from a DataFrame.\n",
      "Try using .loc[row_indexer,col_indexer] = value instead\n",
      "\n",
      "See the caveats in the documentation: https://pandas.pydata.org/pandas-docs/stable/user_guide/indexing.html#returning-a-view-versus-a-copy\n",
      "  \"\"\"Entry point for launching an IPython kernel.\n"
     ]
    }
   ],
   "source": [
    "sessions['Date'] = sessions['Date'].apply(lambda x: [x[0],x[-1]])"
   ]
  },
  {
   "cell_type": "code",
   "execution_count": 68,
   "metadata": {},
   "outputs": [],
   "source": [
    "sessions.to_csv('/shared_volume/SessionsApril2016from300to1000_clean.csv',index=False)"
   ]
  },
  {
   "cell_type": "code",
   "execution_count": 66,
   "metadata": {},
   "outputs": [
    {
     "data": {
      "text/plain": [
       "['12/Apr/2016:01:28:15 +0200', '12/Apr/2016:02:32:45 +0200']"
      ]
     },
     "execution_count": 66,
     "metadata": {},
     "output_type": "execute_result"
    }
   ],
   "source": [
    "a.iloc[0]"
   ]
  },
  {
   "cell_type": "code",
   "execution_count": 2,
   "metadata": {},
   "outputs": [],
   "source": [
    "# sessions = pd.read_csv('/shared_volume/SessionsApril2016Week1.csv')  "
   ]
  },
  {
   "cell_type": "markdown",
   "metadata": {},
   "source": [
    "# Interesting statistics"
   ]
  },
  {
   "cell_type": "code",
   "execution_count": 76,
   "metadata": {},
   "outputs": [
    {
     "data": {
      "text/plain": [
       "'11/Apr/2016:06:54:42 +0200'"
      ]
     },
     "execution_count": 76,
     "metadata": {},
     "output_type": "execute_result"
    }
   ],
   "source": [
    "# period \n",
    "final_df.iloc[0]['Date']"
   ]
  },
  {
   "cell_type": "code",
   "execution_count": 84,
   "metadata": {},
   "outputs": [
    {
     "data": {
      "text/plain": [
       "'- - [04/Apr/2016:22:30:21 +0200] \"GET //iiif/ark:/12148/bpt6k105952t/f57/full/1749,2481/0/native.jpg HTTP/1.1\" 500 149 \"-\" \"Mozilla/5.0 (Windows; U; MSIE 9.0; Windows NT 9.0; en-US)\" 40925'"
      ]
     },
     "execution_count": 84,
     "metadata": {},
     "output_type": "execute_result"
    }
   ],
   "source": [
    "lines_df.iloc[0]['Full_request']"
   ]
  },
  {
   "cell_type": "code",
   "execution_count": 85,
   "metadata": {},
   "outputs": [
    {
     "data": {
      "text/plain": [
       "'- - [12/Apr/2016:05:00:47 +0200] \"GET /iiif/ark:/12148/btv1b84539771/f5/full/60,/0/native.jpg HTTP/1.1\" 500 2535 \"http://localhost:8000/\" \"Mozilla/5.0 (Macintosh; Intel Mac OS X 10_11_4) AppleWebKit/537.36 (KHTML, like Gecko) Chrome/49.0.2623.112 Safari/537.36\" 11304'"
      ]
     },
     "execution_count": 85,
     "metadata": {},
     "output_type": "execute_result"
    }
   ],
   "source": [
    "lines_df.iloc[-1]['Full_request']"
   ]
  },
  {
   "cell_type": "code",
   "execution_count": 73,
   "metadata": {},
   "outputs": [],
   "source": [
    "countries_count = final_df['Country'].value_counts()"
   ]
  },
  {
   "cell_type": "code",
   "execution_count": 74,
   "metadata": {},
   "outputs": [],
   "source": [
    "cities_count = final_df['City'].value_counts()"
   ]
  },
  {
   "cell_type": "code",
   "execution_count": 105,
   "metadata": {},
   "outputs": [],
   "source": [
    "cities_count = cities_count.drop('null')"
   ]
  },
  {
   "cell_type": "code",
   "execution_count": 99,
   "metadata": {},
   "outputs": [],
   "source": [
    "countries_count = countries_count.drop('null')"
   ]
  },
  {
   "cell_type": "code",
   "execution_count": null,
   "metadata": {},
   "outputs": [],
   "source": [
    "import matplotlib.pyplot as plt"
   ]
  },
  {
   "cell_type": "code",
   "execution_count": 109,
   "metadata": {},
   "outputs": [
    {
     "data": {
      "image/png": "[encoded data removed]",
      "text/plain": [
       "<Figure size 1080x576 with 1 Axes>"
      ]
     },
     "metadata": {
      "needs_background": "light"
     },
     "output_type": "display_data"
    }
   ],
   "source": [
    "\n",
    "countries_count[:20].plot(kind='bar',figsize = (15,8));\n",
    "plt.xlabel('Countries')\n",
    "plt.ylabel('Number of requests')\n",
    "plt.title('Number of requests by country on Gallica website from 04/04/2016 22:30:21 to 12/04/2016 05:00:47 ');\n"
   ]
  },
  {
   "cell_type": "code",
   "execution_count": 112,
   "metadata": {},
   "outputs": [
    {
     "data": {
      "image/png": "[encoded data removed]",
      "text/plain": [
       "<Figure size 1080x576 with 1 Axes>"
      ]
     },
     "metadata": {
      "needs_background": "light"
     },
     "output_type": "display_data"
    }
   ],
   "source": [
    "cities_count[:20].plot(kind='bar',figsize = (15,8));\n",
    "plt.xlabel('Cities')\n",
    "plt.ylabel('Number of requests')\n",
    "plt.title('Number of requests by cities on Gallica website from 04/04/2016 22:30:21 to 12/04/2016 05:00:47 ');"
   ]
  },
  {
   "cell_type": "code",
   "execution_count": null,
   "metadata": {},
   "outputs": [],
   "source": []
  }
 ],
 "metadata": {
  "kernelspec": {
   "display_name": "Python 3",
   "language": "python",
   "name": "python3"
  },
  "language_info": {
   "codemirror_mode": {
    "name": "ipython",
    "version": 3
   },
   "file_extension": ".py",
   "mimetype": "text/x-python",
   "name": "python",
   "nbconvert_exporter": "python",
   "pygments_lexer": "ipython3",
   "version": "3.7.9"
  }
 },
 "nbformat": 4,
 "nbformat_minor": 5
}
