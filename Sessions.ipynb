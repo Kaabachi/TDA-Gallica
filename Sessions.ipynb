{
 "cells": [
  {
   "cell_type": "markdown",
   "metadata": {},
   "source": [
    "# Experimenting with Gallica logs"
   ]
  },
  {
   "cell_type": "markdown",
   "metadata": {},
   "source": [
    "## 1. Importing logs"
   ]
  },
  {
   "cell_type": "code",
   "execution_count": 1,
   "metadata": {},
   "outputs": [],
   "source": [
    "import os\n",
    "\n",
    "# for now I manually extracted a single file to test\n",
    "file  = open('res296.log','r',encoding=\"utf8\")\n",
    "lines = file.read().splitlines()\n"
   ]
  },
  {
   "cell_type": "markdown",
   "metadata": {},
   "source": [
    "## 2. Exploring logs"
   ]
  },
  {
   "cell_type": "code",
   "execution_count": 2,
   "metadata": {},
   "outputs": [],
   "source": [
    "import pandas as pd\n",
    "# convert lines from logs into pandas dataframe\n",
    "lines_df = pd.DataFrame(lines)\n"
   ]
  },
  {
   "cell_type": "code",
   "execution_count": 3,
   "metadata": {},
   "outputs": [
    {
     "data": {
      "text/html": [
       "<div>\n",
       "<style scoped>\n",
       "    .dataframe tbody tr th:only-of-type {\n",
       "        vertical-align: middle;\n",
       "    }\n",
       "\n",
       "    .dataframe tbody tr th {\n",
       "        vertical-align: top;\n",
       "    }\n",
       "\n",
       "    .dataframe thead th {\n",
       "        text-align: right;\n",
       "    }\n",
       "</style>\n",
       "<table border=\"1\" class=\"dataframe\">\n",
       "  <thead>\n",
       "    <tr style=\"text-align: right;\">\n",
       "      <th></th>\n",
       "      <th>0</th>\n",
       "    </tr>\n",
       "  </thead>\n",
       "  <tbody>\n",
       "    <tr>\n",
       "      <th>0</th>\n",
       "      <td>##320022e99796ca35dab7e63d48fd5e7##null##null#...</td>\n",
       "    </tr>\n",
       "    <tr>\n",
       "      <th>1</th>\n",
       "      <td>##e7fdec50f50253f6796d61b5382155f8##null##null...</td>\n",
       "    </tr>\n",
       "    <tr>\n",
       "      <th>2</th>\n",
       "      <td>##320022e99796ca35dab7e63d48fd5e7##null##null#...</td>\n",
       "    </tr>\n",
       "    <tr>\n",
       "      <th>3</th>\n",
       "      <td>##e7fdec50f50253f6796d61b5382155f8##null##null...</td>\n",
       "    </tr>\n",
       "    <tr>\n",
       "      <th>4</th>\n",
       "      <td>##320022e99796ca35dab7e63d48fd5e7##null##null#...</td>\n",
       "    </tr>\n",
       "  </tbody>\n",
       "</table>\n",
       "</div>"
      ],
      "text/plain": [
       "                                                   0\n",
       "0  ##320022e99796ca35dab7e63d48fd5e7##null##null#...\n",
       "1  ##e7fdec50f50253f6796d61b5382155f8##null##null...\n",
       "2  ##320022e99796ca35dab7e63d48fd5e7##null##null#...\n",
       "3  ##e7fdec50f50253f6796d61b5382155f8##null##null...\n",
       "4  ##320022e99796ca35dab7e63d48fd5e7##null##null#..."
      ]
     },
     "execution_count": 3,
     "metadata": {},
     "output_type": "execute_result"
    }
   ],
   "source": [
    "lines_df.head()"
   ]
  },
  {
   "cell_type": "code",
   "execution_count": 4,
   "metadata": {},
   "outputs": [],
   "source": [
    "# we need to split each line into relevant metadata according to this example from Nouvellet et al."
   ]
  },
  {
   "cell_type": "markdown",
   "metadata": {},
   "source": [
    "![caption](log_example.png)"
   ]
  },
  {
   "cell_type": "code",
   "execution_count": 5,
   "metadata": {},
   "outputs": [],
   "source": [
    "# first split, according to the example we split by ## to get ip, pays, ville and then date/requete/procole/code/taille/référant together\n",
    "lines_df=lines_df[0].str.split('##', expand=True)"
   ]
  },
  {
   "cell_type": "code",
   "execution_count": 6,
   "metadata": {},
   "outputs": [
    {
     "data": {
      "text/html": [
       "<div>\n",
       "<style scoped>\n",
       "    .dataframe tbody tr th:only-of-type {\n",
       "        vertical-align: middle;\n",
       "    }\n",
       "\n",
       "    .dataframe tbody tr th {\n",
       "        vertical-align: top;\n",
       "    }\n",
       "\n",
       "    .dataframe thead th {\n",
       "        text-align: right;\n",
       "    }\n",
       "</style>\n",
       "<table border=\"1\" class=\"dataframe\">\n",
       "  <thead>\n",
       "    <tr style=\"text-align: right;\">\n",
       "      <th></th>\n",
       "      <th>0</th>\n",
       "      <th>1</th>\n",
       "      <th>2</th>\n",
       "      <th>3</th>\n",
       "      <th>4</th>\n",
       "    </tr>\n",
       "  </thead>\n",
       "  <tbody>\n",
       "    <tr>\n",
       "      <th>0</th>\n",
       "      <td></td>\n",
       "      <td>320022e99796ca35dab7e63d48fd5e7</td>\n",
       "      <td>null</td>\n",
       "      <td>null</td>\n",
       "      <td>- - [03/Mar/2017:10:58:15 +0100] \"GET /ark:/12...</td>\n",
       "    </tr>\n",
       "    <tr>\n",
       "      <th>1</th>\n",
       "      <td></td>\n",
       "      <td>e7fdec50f50253f6796d61b5382155f8</td>\n",
       "      <td>null</td>\n",
       "      <td>null</td>\n",
       "      <td>- - [03/Mar/2017:10:58:41 +0100] \"GET /ark:/12...</td>\n",
       "    </tr>\n",
       "    <tr>\n",
       "      <th>2</th>\n",
       "      <td></td>\n",
       "      <td>320022e99796ca35dab7e63d48fd5e7</td>\n",
       "      <td>null</td>\n",
       "      <td>null</td>\n",
       "      <td>- - [03/Mar/2017:11:01:15 +0100] \"GET /ark:/12...</td>\n",
       "    </tr>\n",
       "    <tr>\n",
       "      <th>3</th>\n",
       "      <td></td>\n",
       "      <td>e7fdec50f50253f6796d61b5382155f8</td>\n",
       "      <td>null</td>\n",
       "      <td>null</td>\n",
       "      <td>- - [03/Mar/2017:11:01:41 +0100] \"GET /ark:/12...</td>\n",
       "    </tr>\n",
       "    <tr>\n",
       "      <th>4</th>\n",
       "      <td></td>\n",
       "      <td>320022e99796ca35dab7e63d48fd5e7</td>\n",
       "      <td>null</td>\n",
       "      <td>null</td>\n",
       "      <td>- - [03/Mar/2017:11:04:15 +0100] \"GET /ark:/12...</td>\n",
       "    </tr>\n",
       "  </tbody>\n",
       "</table>\n",
       "</div>"
      ],
      "text/plain": [
       "  0                                 1     2     3  \\\n",
       "0     320022e99796ca35dab7e63d48fd5e7  null  null   \n",
       "1    e7fdec50f50253f6796d61b5382155f8  null  null   \n",
       "2     320022e99796ca35dab7e63d48fd5e7  null  null   \n",
       "3    e7fdec50f50253f6796d61b5382155f8  null  null   \n",
       "4     320022e99796ca35dab7e63d48fd5e7  null  null   \n",
       "\n",
       "                                                   4  \n",
       "0  - - [03/Mar/2017:10:58:15 +0100] \"GET /ark:/12...  \n",
       "1  - - [03/Mar/2017:10:58:41 +0100] \"GET /ark:/12...  \n",
       "2  - - [03/Mar/2017:11:01:15 +0100] \"GET /ark:/12...  \n",
       "3  - - [03/Mar/2017:11:01:41 +0100] \"GET /ark:/12...  \n",
       "4  - - [03/Mar/2017:11:04:15 +0100] \"GET /ark:/12...  "
      ]
     },
     "execution_count": 6,
     "metadata": {},
     "output_type": "execute_result"
    }
   ],
   "source": [
    "lines_df.head()"
   ]
  },
  {
   "cell_type": "markdown",
   "metadata": {},
   "source": [
    "### 2.1 Parsing HTTP requests"
   ]
  },
  {
   "cell_type": "code",
   "execution_count": 7,
   "metadata": {},
   "outputs": [],
   "source": [
    "# Trying python email library\n",
    "from email.parser import BytesParser\n",
    "\n",
    "# testing on one example\n",
    "request_text = str(lines_df.loc[1200][4])\n"
   ]
  },
  {
   "cell_type": "code",
   "execution_count": 8,
   "metadata": {},
   "outputs": [],
   "source": [
    "request_line, headers_alone = request_text.split('-', 1)"
   ]
  },
  {
   "cell_type": "code",
   "execution_count": 9,
   "metadata": {},
   "outputs": [
    {
     "data": {
      "text/plain": [
       "('',\n",
       " ' - [03/Mar/2017:18:04:59 +0100] \"GET /ark:/12148/bpt6k9657410k.thumbnail HTTP/1.1\" 200 3861 \"http://gallica.bnf.fr/services/engine/search/sru?operation=searchRetrieve&version=1.2&query=%28gallica%20all%20%22Le%20changement%20de%20nom%20a%20%C3%A9t%C3%A9%20prescrit%20par%20d%C3%A9cret%20du%2023%20octobre%201894.%22%29&suggest=0\" \"Mozilla/5.0 (Windows NT 10.0; WOW64) AppleWebKit/537.36 (KHTML, like Gecko) Chrome/56.0.2924.87 Safari/537.36\" \"JSESSIONID=AD5536402E77AAE1014B65581D047634; xtvrn=$18798$\" 154554')"
      ]
     },
     "execution_count": 9,
     "metadata": {},
     "output_type": "execute_result"
    }
   ],
   "source": [
    "request_line,headers_alone"
   ]
  },
  {
   "cell_type": "code",
   "execution_count": 10,
   "metadata": {},
   "outputs": [],
   "source": [
    "import re"
   ]
  },
  {
   "cell_type": "code",
   "execution_count": 11,
   "metadata": {},
   "outputs": [],
   "source": [
    "p = re.compile('\\[([^]]*)\\]')\n",
    "# regex to capture between brackets"
   ]
  },
  {
   "cell_type": "code",
   "execution_count": 12,
   "metadata": {},
   "outputs": [
    {
     "name": "stdout",
     "output_type": "stream",
     "text": [
      "['03/Mar/2017:18:04:59 +0100']\n"
     ]
    }
   ],
   "source": [
    "print(p.findall(request_text))"
   ]
  },
  {
   "cell_type": "code",
   "execution_count": 13,
   "metadata": {},
   "outputs": [],
   "source": [
    "p2 = p = re.compile('\\\"([^]]*)\\]')\n",
    "# regex to capture between brackets"
   ]
  },
  {
   "cell_type": "code",
   "execution_count": 14,
   "metadata": {},
   "outputs": [
    {
     "data": {
      "text/plain": [
       "[' ',\n",
       " 'GET /ark:/12148/bpt6k9657410k.thumbnail HTTP/1.1',\n",
       " ' 200 3861 ',\n",
       " 'http://gallica.bnf.fr/services/engine/search/sru?operation=searchRetrieve&version=1.2&query=%28gallica%20all%20%22Le%20changement%20de%20nom%20a%20%C3%A9t%C3%A9%20prescrit%20par%20d%C3%A9cret%20du%2023%20octobre%201894.%22%29&suggest=0',\n",
       " ' ',\n",
       " 'Mozilla/5.0 (Windows NT 10.0; WOW64) AppleWebKit/537.36 (KHTML, like Gecko) Chrome/56.0.2924.87 Safari/537.36',\n",
       " ' ',\n",
       " 'JSESSIONID=AD5536402E77AAE1014B65581D047634; xtvrn=$18798$',\n",
       " ' 154554']"
      ]
     },
     "execution_count": 14,
     "metadata": {},
     "output_type": "execute_result"
    }
   ],
   "source": [
    "request_text.split(']')[1].split(\"\\\"\")"
   ]
  },
  {
   "cell_type": "markdown",
   "metadata": {},
   "source": [
    "#### Experimenting with extracting data"
   ]
  },
  {
   "cell_type": "code",
   "execution_count": 15,
   "metadata": {},
   "outputs": [],
   "source": [
    "# This is just experimental, to change with lazy eval regex when working on bigger data."
   ]
  },
  {
   "cell_type": "code",
   "execution_count": 16,
   "metadata": {},
   "outputs": [],
   "source": [
    "request_text = str(lines_df.loc[1200][4])"
   ]
  },
  {
   "cell_type": "code",
   "execution_count": 17,
   "metadata": {},
   "outputs": [
    {
     "data": {
      "text/plain": [
       "['- - [03/Mar/2017:18:04:59 +0100] ',\n",
       " 'GET /ark:/12148/bpt6k9657410k.thumbnail HTTP/1.1',\n",
       " ' 200 3861 ',\n",
       " 'http://gallica.bnf.fr/services/engine/search/sru?operation=searchRetrieve&version=1.2&query=%28gallica%20all%20%22Le%20changement%20de%20nom%20a%20%C3%A9t%C3%A9%20prescrit%20par%20d%C3%A9cret%20du%2023%20octobre%201894.%22%29&suggest=0',\n",
       " ' ',\n",
       " 'Mozilla/5.0 (Windows NT 10.0; WOW64) AppleWebKit/537.36 (KHTML, like Gecko) Chrome/56.0.2924.87 Safari/537.36',\n",
       " ' ',\n",
       " 'JSESSIONID=AD5536402E77AAE1014B65581D047634; xtvrn=$18798$',\n",
       " ' 154554']"
      ]
     },
     "execution_count": 17,
     "metadata": {},
     "output_type": "execute_result"
    }
   ],
   "source": [
    "request_text.split(\"\\\"\")"
   ]
  },
  {
   "cell_type": "code",
   "execution_count": 18,
   "metadata": {},
   "outputs": [
    {
     "data": {
      "text/plain": [
       "'03/Mar/2017:18:04:59 +0100'"
      ]
     },
     "execution_count": 18,
     "metadata": {},
     "output_type": "execute_result"
    }
   ],
   "source": [
    "# get the date \n",
    "date = request_text.split(\"]\")[0].split(\"[\")[1]\n",
    "date"
   ]
  },
  {
   "cell_type": "code",
   "execution_count": 19,
   "metadata": {},
   "outputs": [
    {
     "data": {
      "text/plain": [
       "'GET /ark:/12148/bpt6k9657410k.thumbnail'"
      ]
     },
     "execution_count": 19,
     "metadata": {},
     "output_type": "execute_result"
    }
   ],
   "source": [
    "request = ' '.join(request_text.split(\"\\\"\")[1].split(' ')[:2])\n",
    "request"
   ]
  },
  {
   "cell_type": "code",
   "execution_count": 20,
   "metadata": {},
   "outputs": [
    {
     "data": {
      "text/plain": [
       "'HTTP/1.1'"
      ]
     },
     "execution_count": 20,
     "metadata": {},
     "output_type": "execute_result"
    }
   ],
   "source": [
    "protocole = request_text.split(\"\\\"\")[1].split(' ')[2]\n",
    "protocole"
   ]
  },
  {
   "cell_type": "code",
   "execution_count": 21,
   "metadata": {},
   "outputs": [
    {
     "data": {
      "text/plain": [
       "'200'"
      ]
     },
     "execution_count": 21,
     "metadata": {},
     "output_type": "execute_result"
    }
   ],
   "source": [
    "code =  request_text.split(\"\\\"\")[2].split(' ')[1]\n",
    "code"
   ]
  },
  {
   "cell_type": "code",
   "execution_count": 22,
   "metadata": {},
   "outputs": [
    {
     "data": {
      "text/plain": [
       "'3861'"
      ]
     },
     "execution_count": 22,
     "metadata": {},
     "output_type": "execute_result"
    }
   ],
   "source": [
    "taille = request_text.split(\"\\\"\")[2].split(' ')[2]\n",
    "taille"
   ]
  },
  {
   "cell_type": "code",
   "execution_count": 23,
   "metadata": {},
   "outputs": [
    {
     "data": {
      "text/plain": [
       "'http://gallica.bnf.fr/services/engine/search/sru?operation=searchRetrieve&version=1.2&query=%28gallica%20all%20%22Le%20changement%20de%20nom%20a%20%C3%A9t%C3%A9%20prescrit%20par%20d%C3%A9cret%20du%2023%20octobre%201894.%22%29&suggest=0'"
      ]
     },
     "execution_count": 23,
     "metadata": {},
     "output_type": "execute_result"
    }
   ],
   "source": [
    "referant = request_text.split(\"\\\"\")[3]\n",
    "referant"
   ]
  },
  {
   "cell_type": "code",
   "execution_count": 24,
   "metadata": {},
   "outputs": [
    {
     "data": {
      "text/plain": [
       "'bpt6k9657410k.thumbnail'"
      ]
     },
     "execution_count": 24,
     "metadata": {},
     "output_type": "execute_result"
    }
   ],
   "source": [
    "ark ='-'\n",
    "if('ark:/' in request):\n",
    "    ark = request.split(' ')[1].split('/')[3]\n",
    "ark"
   ]
  },
  {
   "cell_type": "code",
   "execution_count": 25,
   "metadata": {},
   "outputs": [],
   "source": [
    "import shutil\n",
    "import requests\n",
    "import xmltodict\n",
    "from bs4 import BeautifulSoup\n",
    "from xml.etree import ElementTree as ET"
   ]
  },
  {
   "cell_type": "code",
   "execution_count": 26,
   "metadata": {},
   "outputs": [],
   "source": [
    "\n",
    "def OAI(id):\n",
    "\n",
    "    OAI_BASEURL = 'https://gallica.bnf.fr/services/OAIRecord?ark='\n",
    "\n",
    "    url = \"\".join([OAI_BASEURL, id])\n",
    "    print(url)\n",
    "\n",
    "    s = requests.get(url, stream=True)\n",
    "    soup = BeautifulSoup(s.content,\"lxml-xml\")\n",
    "    print(soup)\n",
    "    file = open('oai.xml', 'wb')\n",
    "    file.write(soup.prettify().encode('UTF-8'))\n",
    "    file.close()\n",
    "    with open('oai.xml',encoding='UTF-8') as xml:\n",
    "        doc = xmltodict.parse(xml.read())\n",
    "        return doc\n"
   ]
  },
  {
   "cell_type": "code",
   "execution_count": 27,
   "metadata": {},
   "outputs": [
    {
     "name": "stdout",
     "output_type": "stream",
     "text": [
      "https://gallica.bnf.fr/services/OAIRecord?ark=bpt6k9657410k.thumbnail\n",
      "<?xml version=\"1.0\" encoding=\"utf-8\"?>\n",
      "<results ResultsGenerationSearchTime=\"0:00:00.046\" countResults=\"1\" resultType=\"CVOAIRecordSearchService\" searchTime=\"\">\n",
      "<visibility_rights>all</visibility_rights>\n",
      "<notice>\n",
      "<record>\n",
      "<header>\n",
      "<identifier>oai:bnf.fr:gallica/ark:/12148/bpt6k9657410k</identifier>\n",
      "<datestamp>2019-06-22</datestamp>\n",
      "<setSpec>gallica:theme:3:34</setSpec>\n",
      "<setSpec>gallica:typedoc:periodiques:fascicules</setSpec>\n",
      "</header>\n",
      "<metadata>\n",
      "<oai_dc:dc xmlns:dc=\"http://purl.org/dc/elements/1.1/\" xmlns:oai_dc=\"http://www.openarchives.org/OAI/2.0/oai_dc/\" xmlns:xsi=\"http://www.w3.org/2001/XMLSchema-instance\" xsi:schemaLocation=\"http://www.openarchives.org/OAI/2.0/oai_dc/ http://www.openarchives.org/OAI/2.0/oai_dc.xsd\">\n",
      "<dc:identifier>https://gallica.bnf.fr/ark:/12148/bpt6k9657410k</dc:identifier>\n",
      "<dc:date>1887</dc:date>\n",
      "<dc:description>  1887</dc:description>\n",
      "<dc:description>1887 (TB,A10)-1897.</dc:description>\n",
      "<dc:description/>\n",
      "<dc:title>Jurisprudence générale du royaume en matière civile, commerciale et criminelle : ou Journal des audiences de la Cour de cassation et des Cours royales / par M. Dalloz,... et par M. Tournemine,...</dc:title>\n",
      "<dc:contributor>Dalloz, Désiré (1795-1869). Éditeur scientifique</dc:contributor>\n",
      "<dc:contributor>Tournemine, Charles Vacher de (1755-1840?). Éditeur scientifique</dc:contributor>\n",
      "<dc:contributor>Dalloz, Armand (1797-1857). Éditeur scientifique</dc:contributor>\n",
      "<dc:contributor>Dalloz, Édouard (1826-1886). Éditeur scientifique</dc:contributor>\n",
      "<dc:contributor>Vergé, Charles-Henri (1810-1890). Éditeur scientifique</dc:contributor>\n",
      "<dc:contributor>Griolet, Gaston (1842-1934). Éditeur scientifique</dc:contributor>\n",
      "<dc:contributor>Vergé, Charles (1851-1928). Éditeur scientifique</dc:contributor>\n",
      "<dc:contributor>Janet, Jules (1813-1894). Collaborateur</dc:contributor>\n",
      "<dc:contributor>Fauchille, Paul (1858-1926). Collaborateur</dc:contributor>\n",
      "<dc:contributor>Bourdeaux, Henry (1869-1945). Collaborateur</dc:contributor>\n",
      "<dc:contributor>Claro, Charles (18..-1921). Collaborateur</dc:contributor>\n",
      "<dc:publisher> (Paris)</dc:publisher>\n",
      "<dc:type xml:lang=\"fre\">texte</dc:type>\n",
      "<dc:type xml:lang=\"eng\">text</dc:type>\n",
      "<dc:type xml:lang=\"fre\">publication en série imprimée</dc:type>\n",
      "<dc:type xml:lang=\"eng\">printed serial</dc:type>\n",
      "<dc:language>fre</dc:language>\n",
      "<dc:language>français</dc:language>\n",
      "<dc:relation>Notice du catalogue : http://catalogue.bnf.fr/ark:/12148/cb344196192</dc:relation>\n",
      "<dc:source>Bibliothèque nationale de France, département Droit, économie, politique, 4-F-12</dc:source>\n",
      "<dc:rights xml:lang=\"fre\">domaine public</dc:rights>\n",
      "<dc:rights xml:lang=\"eng\">public domain</dc:rights>\n",
      "<dc:relation>http://gallica.bnf.fr/ark:/12148/cb344196192/date</dc:relation>\n",
      "<dc:format>Nombre total de vues :  74580</dc:format>\n",
      "</oai_dc:dc>\n",
      "</metadata>\n",
      "</record>\n",
      "</notice>\n",
      "<provenance>bnf.fr</provenance>\n",
      "<sdewey>34</sdewey>\n",
      "<dewey>3</dewey>\n",
      "<source>Bibliothèque nationale de France, département Droit, économie, politique, 4-F-12</source>\n",
      "<typedoc>fascicule</typedoc>\n",
      "<nqamoyen>97.81</nqamoyen>\n",
      "<mode_indexation>text</mode_indexation>\n",
      "<title>Jurisprudence générale du royaume en matière civile, commerciale et criminelle : ou Journal des audiences de la Cour de cassation et des Cours royales / par M. Dalloz,... et par M. Tournemine,...</title>\n",
      "<date nbIssue=\"1\">1887</date>\n",
      "<first_indexation_date>04/04/2016</first_indexation_date>\n",
      "</results>\n"
     ]
    }
   ],
   "source": [
    "doc = OAI(ark)"
   ]
  },
  {
   "cell_type": "code",
   "execution_count": 28,
   "metadata": {},
   "outputs": [
    {
     "data": {
      "text/plain": [
       "['gallica:theme:3:34', 'gallica:typedoc:periodiques:fascicules']"
      ]
     },
     "execution_count": 28,
     "metadata": {},
     "output_type": "execute_result"
    }
   ],
   "source": [
    "type = doc.get('results').get('notice').get('record').get('header').get('setSpec')\n",
    "type"
   ]
  },
  {
   "cell_type": "code",
   "execution_count": 29,
   "metadata": {},
   "outputs": [
    {
     "data": {
      "text/plain": [
       "OrderedDict([('oai_dc:dc',\n",
       "              OrderedDict([('@xmlns:dc', 'http://purl.org/dc/elements/1.1/'),\n",
       "                           ('@xmlns:oai_dc',\n",
       "                            'http://www.openarchives.org/OAI/2.0/oai_dc/'),\n",
       "                           ('@xmlns:xsi',\n",
       "                            'http://www.w3.org/2001/XMLSchema-instance'),\n",
       "                           ('@xsi:schemaLocation',\n",
       "                            'http://www.openarchives.org/OAI/2.0/oai_dc/ http://www.openarchives.org/OAI/2.0/oai_dc.xsd'),\n",
       "                           ('dc:identifier',\n",
       "                            'https://gallica.bnf.fr/ark:/12148/bpt6k9657410k'),\n",
       "                           ('dc:date', '1887'),\n",
       "                           ('dc:description',\n",
       "                            ['1887', '1887 (TB,A10)-1897.', None]),\n",
       "                           ('dc:title',\n",
       "                            'Jurisprudence générale du royaume en matière civile, commerciale et criminelle : ou Journal des audiences de la Cour de cassation et des Cours royales / par M. Dalloz,... et par M. Tournemine,...'),\n",
       "                           ('dc:contributor',\n",
       "                            ['Dalloz, Désiré (1795-1869). Éditeur scientifique',\n",
       "                             'Tournemine, Charles Vacher de (1755-1840?). Éditeur scientifique',\n",
       "                             'Dalloz, Armand (1797-1857). Éditeur scientifique',\n",
       "                             'Dalloz, Édouard (1826-1886). Éditeur scientifique',\n",
       "                             'Vergé, Charles-Henri (1810-1890). Éditeur scientifique',\n",
       "                             'Griolet, Gaston (1842-1934). Éditeur scientifique',\n",
       "                             'Vergé, Charles (1851-1928). Éditeur scientifique',\n",
       "                             'Janet, Jules (1813-1894). Collaborateur',\n",
       "                             'Fauchille, Paul (1858-1926). Collaborateur',\n",
       "                             'Bourdeaux, Henry (1869-1945). Collaborateur',\n",
       "                             'Claro, Charles (18..-1921). Collaborateur']),\n",
       "                           ('dc:publisher', '(Paris)'),\n",
       "                           ('dc:type',\n",
       "                            [OrderedDict([('@xml:lang', 'fre'),\n",
       "                                          ('#text', 'texte')]),\n",
       "                             OrderedDict([('@xml:lang', 'eng'),\n",
       "                                          ('#text', 'text')]),\n",
       "                             OrderedDict([('@xml:lang', 'fre'),\n",
       "                                          ('#text',\n",
       "                                           'publication en série imprimée')]),\n",
       "                             OrderedDict([('@xml:lang', 'eng'),\n",
       "                                          ('#text', 'printed serial')])]),\n",
       "                           ('dc:language', ['fre', 'français']),\n",
       "                           ('dc:relation',\n",
       "                            ['Notice du catalogue : http://catalogue.bnf.fr/ark:/12148/cb344196192',\n",
       "                             'http://gallica.bnf.fr/ark:/12148/cb344196192/date']),\n",
       "                           ('dc:source',\n",
       "                            'Bibliothèque nationale de France, département Droit, économie, politique, 4-F-12'),\n",
       "                           ('dc:rights',\n",
       "                            [OrderedDict([('@xml:lang', 'fre'),\n",
       "                                          ('#text', 'domaine public')]),\n",
       "                             OrderedDict([('@xml:lang', 'eng'),\n",
       "                                          ('#text', 'public domain')])]),\n",
       "                           ('dc:format', 'Nombre total de vues :  74580')]))])"
      ]
     },
     "execution_count": 29,
     "metadata": {},
     "output_type": "execute_result"
    }
   ],
   "source": [
    "metadata = doc.get('results').get('notice').get('record').get('metadata')\n",
    "metadata"
   ]
  },
  {
   "cell_type": "markdown",
   "metadata": {},
   "source": [
    "## Extracting data"
   ]
  },
  {
   "cell_type": "code",
   "execution_count": 30,
   "metadata": {},
   "outputs": [],
   "source": [
    "temp = pd.DataFrame()"
   ]
  },
  {
   "cell_type": "code",
   "execution_count": 31,
   "metadata": {},
   "outputs": [],
   "source": [
    "# extracting the date of query\n",
    "temp['date']=lines_df.apply(lambda x: x[4].split(\"]\")[0].split(\"[\")[1] ,axis = 1)"
   ]
  },
  {
   "cell_type": "code",
   "execution_count": 32,
   "metadata": {},
   "outputs": [],
   "source": [
    "# extracting request\n",
    "temp['request'] = lines_df.apply(lambda x: ' '.join(x[4].split(\"\\\"\")[1].split(' ')[:2]),axis=1)"
   ]
  },
  {
   "cell_type": "code",
   "execution_count": 33,
   "metadata": {},
   "outputs": [],
   "source": [
    "# extracting protocol, still need to look into it further\n",
    "# do i really need to extract protocol at this point?\n",
    "# commenting this for now until further research\n",
    "\n",
    "# temp['protocol'] = lines_df.apply(lambda x: x[4].split(\"\\\"\")[1].split(' ')[2], axis=1)"
   ]
  },
  {
   "cell_type": "code",
   "execution_count": 34,
   "metadata": {},
   "outputs": [],
   "source": [
    "# extracting code\n",
    "# try catch to avoid index errors, need to look into this further, what happens exactly there?\n",
    "def trycode(value, default):\n",
    "    try:\n",
    "        return value[4].split(\"\\\"\")[2].split(' ')[1]\n",
    "    except (IndexError):\n",
    "        return '-'\n",
    "    return default\n",
    "\n",
    "\n",
    "\n",
    "temp['code'] = lines_df.apply(lambda x: trycode(x,'-'), axis=1)"
   ]
  },
  {
   "cell_type": "code",
   "execution_count": 35,
   "metadata": {},
   "outputs": [
    {
     "data": {
      "text/plain": [
       "array(['503', '404', '200', '302', '501', '405', '304', '500', '400',\n",
       "       '206', '-'], dtype=object)"
      ]
     },
     "execution_count": 35,
     "metadata": {},
     "output_type": "execute_result"
    }
   ],
   "source": [
    "# checking unique codes\n",
    "temp.code.unique()"
   ]
  },
  {
   "cell_type": "code",
   "execution_count": 36,
   "metadata": {},
   "outputs": [],
   "source": [
    "# extracting length\n",
    "# try catch to avoid index errors, need to look into this further, what happens exactly there?\n",
    "def trylength(value, default):\n",
    "    try:\n",
    "        return value[4].split(\"\\\"\")[2].split(' ')[2] \n",
    "    except (IndexError):\n",
    "        return '-'\n",
    "    return default\n",
    "\n",
    "temp['length'] = lines_df.apply(lambda x:  trylength(x,'-') , axis=1)"
   ]
  },
  {
   "cell_type": "code",
   "execution_count": 37,
   "metadata": {},
   "outputs": [],
   "source": [
    "# extracting referant\n",
    "temp['referant'] = lines_df.apply(lambda x: x[4].split(\"\\\"\")[3], axis=1)"
   ]
  },
  {
   "cell_type": "code",
   "execution_count": 38,
   "metadata": {},
   "outputs": [],
   "source": [
    "# extracting ark name\n",
    "\n",
    "#function to check if the request contains ark\n",
    "def extract_ark(request):\n",
    "    ark ='-'\n",
    "    if('ark:/' in request):\n",
    "        ark = request.split(' ')[1].split('/')[3]\n",
    "    return ark\n",
    "\n",
    "temp['ark'] = temp.apply(lambda x: extract_ark(x['request']), axis=1)\n",
    "    "
   ]
  },
  {
   "cell_type": "code",
   "execution_count": 39,
   "metadata": {},
   "outputs": [],
   "source": [
    "lines_df = lines_df.rename(columns={1:\"IPAdress\",2:\"Country\",3:\"City\"})"
   ]
  },
  {
   "cell_type": "code",
   "execution_count": 40,
   "metadata": {},
   "outputs": [],
   "source": [
    "final_df = pd.concat([lines_df, temp],axis=1)"
   ]
  },
  {
   "cell_type": "code",
   "execution_count": 41,
   "metadata": {},
   "outputs": [
    {
     "data": {
      "text/html": [
       "<div>\n",
       "<style scoped>\n",
       "    .dataframe tbody tr th:only-of-type {\n",
       "        vertical-align: middle;\n",
       "    }\n",
       "\n",
       "    .dataframe tbody tr th {\n",
       "        vertical-align: top;\n",
       "    }\n",
       "\n",
       "    .dataframe thead th {\n",
       "        text-align: right;\n",
       "    }\n",
       "</style>\n",
       "<table border=\"1\" class=\"dataframe\">\n",
       "  <thead>\n",
       "    <tr style=\"text-align: right;\">\n",
       "      <th></th>\n",
       "      <th>0</th>\n",
       "      <th>IPAdress</th>\n",
       "      <th>Country</th>\n",
       "      <th>City</th>\n",
       "      <th>4</th>\n",
       "      <th>date</th>\n",
       "      <th>request</th>\n",
       "      <th>code</th>\n",
       "      <th>length</th>\n",
       "      <th>referant</th>\n",
       "      <th>ark</th>\n",
       "    </tr>\n",
       "  </thead>\n",
       "  <tbody>\n",
       "    <tr>\n",
       "      <th>0</th>\n",
       "      <td></td>\n",
       "      <td>320022e99796ca35dab7e63d48fd5e7</td>\n",
       "      <td>null</td>\n",
       "      <td>null</td>\n",
       "      <td>- - [03/Mar/2017:10:58:15 +0100] \"GET /ark:/12...</td>\n",
       "      <td>03/Mar/2017:10:58:15 +0100</td>\n",
       "      <td>GET /ark:/12148/bpt6k70211m</td>\n",
       "      <td>503</td>\n",
       "      <td>-</td>\n",
       "      <td>-</td>\n",
       "      <td>bpt6k70211m</td>\n",
       "    </tr>\n",
       "    <tr>\n",
       "      <th>1</th>\n",
       "      <td></td>\n",
       "      <td>e7fdec50f50253f6796d61b5382155f8</td>\n",
       "      <td>null</td>\n",
       "      <td>null</td>\n",
       "      <td>- - [03/Mar/2017:10:58:41 +0100] \"GET /ark:/12...</td>\n",
       "      <td>03/Mar/2017:10:58:41 +0100</td>\n",
       "      <td>GET /ark:/12148/bpt6k70211m</td>\n",
       "      <td>503</td>\n",
       "      <td>-</td>\n",
       "      <td>-</td>\n",
       "      <td>bpt6k70211m</td>\n",
       "    </tr>\n",
       "    <tr>\n",
       "      <th>2</th>\n",
       "      <td></td>\n",
       "      <td>320022e99796ca35dab7e63d48fd5e7</td>\n",
       "      <td>null</td>\n",
       "      <td>null</td>\n",
       "      <td>- - [03/Mar/2017:11:01:15 +0100] \"GET /ark:/12...</td>\n",
       "      <td>03/Mar/2017:11:01:15 +0100</td>\n",
       "      <td>GET /ark:/12148/bpt6k70211m</td>\n",
       "      <td>503</td>\n",
       "      <td>-</td>\n",
       "      <td>-</td>\n",
       "      <td>bpt6k70211m</td>\n",
       "    </tr>\n",
       "    <tr>\n",
       "      <th>3</th>\n",
       "      <td></td>\n",
       "      <td>e7fdec50f50253f6796d61b5382155f8</td>\n",
       "      <td>null</td>\n",
       "      <td>null</td>\n",
       "      <td>- - [03/Mar/2017:11:01:41 +0100] \"GET /ark:/12...</td>\n",
       "      <td>03/Mar/2017:11:01:41 +0100</td>\n",
       "      <td>GET /ark:/12148/bpt6k70211m</td>\n",
       "      <td>503</td>\n",
       "      <td>-</td>\n",
       "      <td>-</td>\n",
       "      <td>bpt6k70211m</td>\n",
       "    </tr>\n",
       "    <tr>\n",
       "      <th>4</th>\n",
       "      <td></td>\n",
       "      <td>320022e99796ca35dab7e63d48fd5e7</td>\n",
       "      <td>null</td>\n",
       "      <td>null</td>\n",
       "      <td>- - [03/Mar/2017:11:04:15 +0100] \"GET /ark:/12...</td>\n",
       "      <td>03/Mar/2017:11:04:15 +0100</td>\n",
       "      <td>GET /ark:/12148/bpt6k70211m</td>\n",
       "      <td>503</td>\n",
       "      <td>-</td>\n",
       "      <td>-</td>\n",
       "      <td>bpt6k70211m</td>\n",
       "    </tr>\n",
       "    <tr>\n",
       "      <th>...</th>\n",
       "      <td>...</td>\n",
       "      <td>...</td>\n",
       "      <td>...</td>\n",
       "      <td>...</td>\n",
       "      <td>...</td>\n",
       "      <td>...</td>\n",
       "      <td>...</td>\n",
       "      <td>...</td>\n",
       "      <td>...</td>\n",
       "      <td>...</td>\n",
       "      <td>...</td>\n",
       "    </tr>\n",
       "    <tr>\n",
       "      <th>170099</th>\n",
       "      <td></td>\n",
       "      <td>62d6ebcb4c44ac6bc6b36479640341a9</td>\n",
       "      <td>United States</td>\n",
       "      <td>Mountain View</td>\n",
       "      <td>- - [04/Mar/2017:05:20:40 +0100] \"GET /assets/...</td>\n",
       "      <td>04/Mar/2017:05:20:40 +0100</td>\n",
       "      <td>GET /assets/static/javascripts/vendor/jquery.m...</td>\n",
       "      <td>200</td>\n",
       "      <td>1261</td>\n",
       "      <td>http://gallica.bnf.fr/ark:/12148/btv1b10542978v</td>\n",
       "      <td>-</td>\n",
       "    </tr>\n",
       "    <tr>\n",
       "      <th>170100</th>\n",
       "      <td></td>\n",
       "      <td>e7fdec50f50253f6796d61b5382155f8</td>\n",
       "      <td>null</td>\n",
       "      <td>null</td>\n",
       "      <td>- - [04/Mar/2017:05:20:41 +0100] \"GET /ark:/12...</td>\n",
       "      <td>04/Mar/2017:05:20:41 +0100</td>\n",
       "      <td>GET /ark:/12148/bpt6k70211m</td>\n",
       "      <td>200</td>\n",
       "      <td>32736</td>\n",
       "      <td>-</td>\n",
       "      <td>bpt6k70211m</td>\n",
       "    </tr>\n",
       "    <tr>\n",
       "      <th>170101</th>\n",
       "      <td></td>\n",
       "      <td>62d6ebcb4c44ac6bc6b36479640341a9</td>\n",
       "      <td>United States</td>\n",
       "      <td>Mountain View</td>\n",
       "      <td>- - [04/Mar/2017:05:20:42 +0100] \"GET /ark:/12...</td>\n",
       "      <td>04/Mar/2017:05:20:42 +0100</td>\n",
       "      <td>GET /ark:/12148/bpt6k209278x.thumbnail</td>\n",
       "      <td>200</td>\n",
       "      <td>2576</td>\n",
       "      <td>-</td>\n",
       "      <td>bpt6k209278x.thumbnail</td>\n",
       "    </tr>\n",
       "    <tr>\n",
       "      <th>170102</th>\n",
       "      <td></td>\n",
       "      <td>62d6ebcb4c44ac6bc6b36479640341a9</td>\n",
       "      <td>United States</td>\n",
       "      <td>Mountain View</td>\n",
       "      <td>- - [04/Mar/2017:05:20:47 +0100] \"GET /ark:/12...</td>\n",
       "      <td>04/Mar/2017:05:20:47 +0100</td>\n",
       "      <td>GET /ark:/12148/btv1b8439376v</td>\n",
       "      <td>302</td>\n",
       "      <td>20</td>\n",
       "      <td>-</td>\n",
       "      <td>btv1b8439376v</td>\n",
       "    </tr>\n",
       "    <tr>\n",
       "      <th>170103</th>\n",
       "      <td></td>\n",
       "      <td>62d6ebcb4c44ac6bc6b36479640341a9</td>\n",
       "      <td>United States</td>\n",
       "      <td>Mountain View</td>\n",
       "      <td>- - [04/Mar/2017:05:20:47 +0100] \"GET /ark:/12...</td>\n",
       "      <td>04/Mar/2017:05:20:47 +0100</td>\n",
       "      <td>GET /ark:/12148/bpt6k5789907p</td>\n",
       "      <td>302</td>\n",
       "      <td>20</td>\n",
       "      <td>-</td>\n",
       "      <td>bpt6k5789907p</td>\n",
       "    </tr>\n",
       "  </tbody>\n",
       "</table>\n",
       "<p>170104 rows × 11 columns</p>\n",
       "</div>"
      ],
      "text/plain": [
       "       0                           IPAdress        Country           City  \\\n",
       "0           320022e99796ca35dab7e63d48fd5e7           null           null   \n",
       "1          e7fdec50f50253f6796d61b5382155f8           null           null   \n",
       "2           320022e99796ca35dab7e63d48fd5e7           null           null   \n",
       "3          e7fdec50f50253f6796d61b5382155f8           null           null   \n",
       "4           320022e99796ca35dab7e63d48fd5e7           null           null   \n",
       "...    ..                               ...            ...            ...   \n",
       "170099     62d6ebcb4c44ac6bc6b36479640341a9  United States  Mountain View   \n",
       "170100     e7fdec50f50253f6796d61b5382155f8           null           null   \n",
       "170101     62d6ebcb4c44ac6bc6b36479640341a9  United States  Mountain View   \n",
       "170102     62d6ebcb4c44ac6bc6b36479640341a9  United States  Mountain View   \n",
       "170103     62d6ebcb4c44ac6bc6b36479640341a9  United States  Mountain View   \n",
       "\n",
       "                                                        4  \\\n",
       "0       - - [03/Mar/2017:10:58:15 +0100] \"GET /ark:/12...   \n",
       "1       - - [03/Mar/2017:10:58:41 +0100] \"GET /ark:/12...   \n",
       "2       - - [03/Mar/2017:11:01:15 +0100] \"GET /ark:/12...   \n",
       "3       - - [03/Mar/2017:11:01:41 +0100] \"GET /ark:/12...   \n",
       "4       - - [03/Mar/2017:11:04:15 +0100] \"GET /ark:/12...   \n",
       "...                                                   ...   \n",
       "170099  - - [04/Mar/2017:05:20:40 +0100] \"GET /assets/...   \n",
       "170100  - - [04/Mar/2017:05:20:41 +0100] \"GET /ark:/12...   \n",
       "170101  - - [04/Mar/2017:05:20:42 +0100] \"GET /ark:/12...   \n",
       "170102  - - [04/Mar/2017:05:20:47 +0100] \"GET /ark:/12...   \n",
       "170103  - - [04/Mar/2017:05:20:47 +0100] \"GET /ark:/12...   \n",
       "\n",
       "                              date  \\\n",
       "0       03/Mar/2017:10:58:15 +0100   \n",
       "1       03/Mar/2017:10:58:41 +0100   \n",
       "2       03/Mar/2017:11:01:15 +0100   \n",
       "3       03/Mar/2017:11:01:41 +0100   \n",
       "4       03/Mar/2017:11:04:15 +0100   \n",
       "...                            ...   \n",
       "170099  04/Mar/2017:05:20:40 +0100   \n",
       "170100  04/Mar/2017:05:20:41 +0100   \n",
       "170101  04/Mar/2017:05:20:42 +0100   \n",
       "170102  04/Mar/2017:05:20:47 +0100   \n",
       "170103  04/Mar/2017:05:20:47 +0100   \n",
       "\n",
       "                                                  request code length  \\\n",
       "0                             GET /ark:/12148/bpt6k70211m  503      -   \n",
       "1                             GET /ark:/12148/bpt6k70211m  503      -   \n",
       "2                             GET /ark:/12148/bpt6k70211m  503      -   \n",
       "3                             GET /ark:/12148/bpt6k70211m  503      -   \n",
       "4                             GET /ark:/12148/bpt6k70211m  503      -   \n",
       "...                                                   ...  ...    ...   \n",
       "170099  GET /assets/static/javascripts/vendor/jquery.m...  200   1261   \n",
       "170100                        GET /ark:/12148/bpt6k70211m  200  32736   \n",
       "170101             GET /ark:/12148/bpt6k209278x.thumbnail  200   2576   \n",
       "170102                      GET /ark:/12148/btv1b8439376v  302     20   \n",
       "170103                      GET /ark:/12148/bpt6k5789907p  302     20   \n",
       "\n",
       "                                               referant  \\\n",
       "0                                                     -   \n",
       "1                                                     -   \n",
       "2                                                     -   \n",
       "3                                                     -   \n",
       "4                                                     -   \n",
       "...                                                 ...   \n",
       "170099  http://gallica.bnf.fr/ark:/12148/btv1b10542978v   \n",
       "170100                                                -   \n",
       "170101                                                -   \n",
       "170102                                                -   \n",
       "170103                                                -   \n",
       "\n",
       "                           ark  \n",
       "0                  bpt6k70211m  \n",
       "1                  bpt6k70211m  \n",
       "2                  bpt6k70211m  \n",
       "3                  bpt6k70211m  \n",
       "4                  bpt6k70211m  \n",
       "...                        ...  \n",
       "170099                       -  \n",
       "170100             bpt6k70211m  \n",
       "170101  bpt6k209278x.thumbnail  \n",
       "170102           btv1b8439376v  \n",
       "170103           bpt6k5789907p  \n",
       "\n",
       "[170104 rows x 11 columns]"
      ]
     },
     "execution_count": 41,
     "metadata": {},
     "output_type": "execute_result"
    }
   ],
   "source": [
    "final_df"
   ]
  },
  {
   "cell_type": "markdown",
   "metadata": {},
   "source": [
    "### Subsection 2: XML parsing testing"
   ]
  },
  {
   "cell_type": "code",
   "execution_count": null,
   "metadata": {},
   "outputs": [],
   "source": []
  }
 ],
 "metadata": {
  "kernelspec": {
   "display_name": "Python 3",
   "language": "python",
   "name": "python3"
  },
  "language_info": {
   "codemirror_mode": {
    "name": "ipython",
    "version": 3
   },
   "file_extension": ".py",
   "mimetype": "text/x-python",
   "name": "python",
   "nbconvert_exporter": "python",
   "pygments_lexer": "ipython3",
   "version": "3.7.9"
  }
 },
 "nbformat": 4,
 "nbformat_minor": 4
}
