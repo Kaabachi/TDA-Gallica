{
 "cells": [
  {
   "cell_type": "markdown",
   "metadata": {
    "id": "G41GkWA4-wgc"
   },
   "source": [
    "# Topological Data Analysis"
   ]
  },
  {
   "cell_type": "markdown",
   "metadata": {},
   "source": [
    "#### a. Imports"
   ]
  },
  {
   "cell_type": "code",
   "execution_count": null,
   "metadata": {
    "id": "d0plbQVV-wgf"
   },
   "outputs": [],
   "source": [
    "import pandas as pd\n",
    "import numpy as np\n",
    "from ast import literal_eval\n",
    "import collections \n",
    "import seaborn as sns\n",
    "import matplotlib.pyplot as plt\n",
    "import itertools\n",
    "from matplotlib import cm\n",
    "\n"
   ]
  },
  {
   "cell_type": "code",
   "execution_count": null,
   "metadata": {
    "colab": {
     "base_uri": "https://localhost:8080/"
    },
    "id": "yIfzLEyE_qzY",
    "outputId": "f24366ec-74bd-4f65-aa5d-fb63ae64bd33"
   },
   "outputs": [],
   "source": [
    "# get data previously collected\n",
    "df1 = pd.read_csv(\"drive/MyDrive/ProjetSemestreLHST/arks_final.csv\",index_col=0, header=None)\n",
    "df2 = pd.read_csv(\"drive/MyDrive/ProjetSemestreLHST/arks_final_2.csv\",index_col=0,header = None)\n",
    "df3 = pd.read_csv(\"drive/MyDrive/ProjetSemestreLHST/arks_final_local.csv\",index_col=0,header= None)\n",
    "df4 = pd.read_csv(\"drive/MyDrive/ProjetSemestreLHST/arks_final_local_2.csv\",index_col=0,header=None)\n",
    "df5 = pd.read_csv(\"drive/MyDrive/ProjetSemestreLHST/arks_final_local_3.csv\",index_col=0,header=None)\n",
    "df = pd.concat([df1,df2,df3,df4,df5])\n",
    "df=df.sort_index()\n",
    "df = df.rename(columns={1: \"Theme\", 2: \"Year\", 3: \"Title\", 4: \"Language\" })\n",
    "\n",
    "\n",
    "# get data previously collected\n",
    "df_2 = pd.read_csv(\"drive/MyDrive/PDS2/first_chunk_300_1000_full.csv\",index_col=0, header=None)\n",
    "df_2 = df_2.rename(columns={1: \"Ark\", 2: \"Date\", 3: \"Country\", 4: \"City\", 5: \"len\", 6:\"Theme\", 7:\"Year\", 8:\"Title\", 9:\"Language\" })\n",
    "df_2.shape\n",
    "\n",
    "df = pd.concat([df,df_2[[\"Theme\",\"Year\",\"Title\",\"Language\"]]]).reset_index()\n",
    "\n",
    "# get data previously collected\n",
    "colnames=['Theme', 'Year', 'Title', 'Language'] \n",
    "\n",
    "df1 = pd.read_csv(\"drive/MyDrive/PDS2/1200to1400_done.csv\",index_col=0, header = None, names = colnames)\n",
    "df2 = pd.read_csv(\"drive/MyDrive/PDS2/1400to1600_done.csv\",index_col=0,header = None,names = colnames)\n",
    "df3 = pd.read_csv(\"drive/MyDrive/PDS2/1600to1800_done.csv\",index_col=0,header = None,names = colnames)\n",
    "df4 = pd.read_csv(\"drive/MyDrive/PDS2/1800to2000_done_3500+.csv\",index_col=0,header = None,names = colnames)\n",
    "df5 = pd.read_csv(\"drive/MyDrive/PDS2/1800to2000_done.csv\",index_col=0,header = None,names = colnames)\n",
    "\n",
    "# Combine dataframes\n",
    "df = pd.concat([df,df1,df2,df3,df4,df5])\n",
    "df = (df.reset_index())\n",
    "df = df[[\"Theme\",\"Year\",\"Title\",\"Language\"]]\n",
    "\n",
    "# drop duplicates\n",
    "df = df.loc[df.astype(str).drop_duplicates().index]\n",
    "\n",
    "df = (df.reset_index())\n",
    "df = df[[\"Theme\",\"Year\",\"Title\",\"Language\"]]\n",
    "df.shape"
   ]
  },
  {
   "cell_type": "code",
   "execution_count": null,
   "metadata": {
    "colab": {
     "base_uri": "https://localhost:8080/",
     "height": 200
    },
    "id": "U-H4efcA-wgk",
    "outputId": "9432f8a0-9552-434b-a68a-9ad4ea04294b"
   },
   "outputs": [
    {
     "data": {
      "text/html": [
       "<div>\n",
       "<style scoped>\n",
       "    .dataframe tbody tr th:only-of-type {\n",
       "        vertical-align: middle;\n",
       "    }\n",
       "\n",
       "    .dataframe tbody tr th {\n",
       "        vertical-align: top;\n",
       "    }\n",
       "\n",
       "    .dataframe thead th {\n",
       "        text-align: right;\n",
       "    }\n",
       "</style>\n",
       "<table border=\"1\" class=\"dataframe\">\n",
       "  <thead>\n",
       "    <tr style=\"text-align: right;\">\n",
       "      <th></th>\n",
       "      <th>Theme</th>\n",
       "      <th>Year</th>\n",
       "      <th>Title</th>\n",
       "      <th>Language</th>\n",
       "    </tr>\n",
       "  </thead>\n",
       "  <tbody>\n",
       "    <tr>\n",
       "      <th>0</th>\n",
       "      <td>[, Droit, , , , Christianisme Théologie chréti...</td>\n",
       "      <td>[1872, 1835, , 1845, 1887, 1910-1926, 1890, 18...</td>\n",
       "      <td>[Théâtre des Variétés, Dupuis et Céline Chaumo...</td>\n",
       "      <td>[fre, fre, , fre, ita, fre, fre, fre, fre, fre...</td>\n",
       "    </tr>\n",
       "    <tr>\n",
       "      <th>1</th>\n",
       "      <td>[, , Musique, Musique, Musique, Littérature de...</td>\n",
       "      <td>[, , 18.., 1792, 1842, 1816, 1999, 1824, 1813,...</td>\n",
       "      <td>[, , Le chansonnier bachique de l'amour et de ...</td>\n",
       "      <td>[, , fre, fre, fre, fre, fre, fre, fre, fre, f...</td>\n",
       "    </tr>\n",
       "    <tr>\n",
       "      <th>2</th>\n",
       "      <td>[, , Technologie (Sciences appliquées), Médias...</td>\n",
       "      <td>[1670, , 1899, 1912-12-13, 1899, 1912-12-13, 1...</td>\n",
       "      <td>[Veüe et perspective du Jardin des trois bassi...</td>\n",
       "      <td>[fre, , fre, fre, fre, fre, fre, fre, fre, fre...</td>\n",
       "    </tr>\n",
       "    <tr>\n",
       "      <th>3</th>\n",
       "      <td>[Publications en série d’ordre général, Économ...</td>\n",
       "      <td>[1886, 1922-04-06, 1907-09-19, 1886, 1911-01-0...</td>\n",
       "      <td>[Le Journal des sçavans, Bulletin de la cote /...</td>\n",
       "      <td>[fre, fre, fre, fre, fre, fre, fre, fre, fre, ...</td>\n",
       "    </tr>\n",
       "    <tr>\n",
       "      <th>4</th>\n",
       "      <td>[Loisirs et arts du spectacle. Sports, Médias ...</td>\n",
       "      <td>[1836-01-28, 1856-07-24, 1851-11-30, 1866-07-0...</td>\n",
       "      <td>[Gazette des théâtres : journal des comédiens,...</td>\n",
       "      <td>[fre, fre, fre, fre, fre, ita, fre, ita, fre, ...</td>\n",
       "    </tr>\n",
       "  </tbody>\n",
       "</table>\n",
       "</div>"
      ],
      "text/plain": [
       "                                               Theme  ...                                           Language\n",
       "0  [, Droit, , , , Christianisme Théologie chréti...  ...  [fre, fre, , fre, ita, fre, fre, fre, fre, fre...\n",
       "1  [, , Musique, Musique, Musique, Littérature de...  ...  [, , fre, fre, fre, fre, fre, fre, fre, fre, f...\n",
       "2  [, , Technologie (Sciences appliquées), Médias...  ...  [fre, , fre, fre, fre, fre, fre, fre, fre, fre...\n",
       "3  [Publications en série d’ordre général, Économ...  ...  [fre, fre, fre, fre, fre, fre, fre, fre, fre, ...\n",
       "4  [Loisirs et arts du spectacle. Sports, Médias ...  ...  [fre, fre, fre, fre, fre, ita, fre, ita, fre, ...\n",
       "\n",
       "[5 rows x 4 columns]"
      ]
     },
     "execution_count": 330,
     "metadata": {},
     "output_type": "execute_result"
    }
   ],
   "source": [
    "# change content of dataframe to list\n",
    "df.Theme = df.Theme.apply(literal_eval)\n",
    "df.Year = df.Year.apply(literal_eval)\n",
    "df.Title = df.Title.apply(literal_eval)\n",
    "df.Language = df.Language.apply(literal_eval)\n",
    "df.head()"
   ]
  },
  {
   "cell_type": "markdown",
   "metadata": {
    "id": "UspeD19h-wgl"
   },
   "source": [
    "## 1. Word2vec"
   ]
  },
  {
   "cell_type": "markdown",
   "metadata": {
    "id": "PfuE5vBM-wgl"
   },
   "source": [
    "#### a) Generating corpus"
   ]
  },
  {
   "cell_type": "code",
   "execution_count": null,
   "metadata": {
    "id": "x47f21ZB-wgl"
   },
   "outputs": [],
   "source": [
    "# get lists containing themes and century\n",
    "def get_zipped_list(dataframe):\n",
    "    # zip lists from theme column and century column\n",
    "    temp = list(zip(dataframe['Theme']))\n",
    "    \n",
    "    # filter only by themes\n",
    "    temp = list(filter(lambda e: e[0]!='',temp))\n",
    "    \n",
    "    # put everything in a string to construct our corpus\n",
    "    temp = [\" \".join(item) for item in temp]\n",
    "    return temp"
   ]
  },
  {
   "cell_type": "code",
   "execution_count": null,
   "metadata": {
    "id": "JTbtQuGd-wgl"
   },
   "outputs": [],
   "source": [
    "themes_decades = df.apply(lambda x: get_zipped_list(x),axis=1)"
   ]
  },
  {
   "cell_type": "code",
   "execution_count": null,
   "metadata": {
    "id": "LPNf-CY7-wgm"
   },
   "outputs": [],
   "source": [
    "clean_themes = df.apply(lambda x:  list(filter(lambda theme: theme != '',x['Theme'])) ,axis = 1)"
   ]
  },
  {
   "cell_type": "code",
   "execution_count": null,
   "metadata": {
    "id": "zU6CLfq4-wgm"
   },
   "outputs": [],
   "source": [
    "# Create the list of list format of the custom corpus for gensim modeling \n",
    "corpus = [row for row in themes_decades]"
   ]
  },
  {
   "cell_type": "markdown",
   "metadata": {
    "id": "XmsdhMKY-wgm"
   },
   "source": [
    "#### b) word2vec representation"
   ]
  },
  {
   "cell_type": "code",
   "execution_count": null,
   "metadata": {
    "id": "MYDTyUcT-wgm"
   },
   "outputs": [],
   "source": [
    "import gensim\n",
    "from gensim.test.utils import common_texts\n",
    "from gensim.models import Word2Vec"
   ]
  },
  {
   "cell_type": "code",
   "execution_count": null,
   "metadata": {
    "id": "I9SA4op_-wgm"
   },
   "outputs": [],
   "source": [
    "model = Word2Vec(corpus, min_count=1,size= 200,workers=10, window =5, sg = 1)"
   ]
  },
  {
   "cell_type": "code",
   "execution_count": null,
   "metadata": {
    "id": "BkWq_my6-wgn"
   },
   "outputs": [],
   "source": [
    "from sklearn.manifold import TSNE\n",
    "from sklearn.datasets import fetch_20newsgroups\n",
    "import re\n",
    "import matplotlib.pyplot as plt\n",
    "import matplotlib as mpl\n",
    "\n",
    "vocab = list(model.wv.vocab)\n",
    "X = model.wv[vocab]\n",
    "\n",
    "\n"
   ]
  },
  {
   "cell_type": "code",
   "execution_count": null,
   "metadata": {
    "id": "NcIFs9v3CuKf"
   },
   "outputs": [],
   "source": [
    "tsne = TSNE(n_components=3,perplexity =   10)\n",
    "X_tsne = tsne.fit_transform(X)\n",
    "df1 = pd.DataFrame(X_tsne, index=vocab, columns=['x', 'y',\"z\"])"
   ]
  },
  {
   "cell_type": "code",
   "execution_count": null,
   "metadata": {
    "colab": {
     "base_uri": "https://localhost:8080/",
     "height": 1000
    },
    "id": "cZrk6rMzC3kC",
    "outputId": "a3f1d9b0-ce5e-4f84-9605-489e6cdaf48a"
   },
   "outputs": [],
   "source": [
    "import plotly.express as px\n",
    "fig = px.scatter_3d(x=df1['x'],y=df1['y'],z=df1[\"z\"],text=df1.index, width=2000, height=2000)\n",
    "fig.update_traces(textposition='top center')\n",
    "fig.write_html(\"drive/MyDrive/ProjetSemestreLHST/PCATSNE.html\")\n",
    "fig.show()"
   ]
  },
  {
   "cell_type": "markdown",
   "metadata": {
    "id": "vO18nwKG-wgn"
   },
   "source": [
    "## 2. TDA"
   ]
  },
  {
   "cell_type": "code",
   "execution_count": null,
   "metadata": {
    "id": "26DWUacG-wgn"
   },
   "outputs": [],
   "source": [
    "# Get rid of empty paths\n",
    "themes_decades_2 = themes_decades[themes_decades.map(lambda d: len(d)) > 0]\n",
    "\n"
   ]
  },
  {
   "cell_type": "code",
   "execution_count": null,
   "metadata": {
    "id": "iINZl5pfd4Dv"
   },
   "outputs": [],
   "source": [
    "themes_decades_2 = themes_decades_2.reset_index(drop=True)"
   ]
  },
  {
   "cell_type": "markdown",
   "metadata": {
    "id": "sSUKApNM-wgo"
   },
   "source": [
    "#### b) PCA to reduce dimensions"
   ]
  },
  {
   "cell_type": "code",
   "execution_count": null,
   "metadata": {
    "id": "pkc4otYX-wgo"
   },
   "outputs": [],
   "source": [
    "# imports\n",
    "from sklearn.decomposition import PCA\n"
   ]
  },
  {
   "cell_type": "code",
   "execution_count": null,
   "metadata": {
    "id": "YyNo6SDn-wgo"
   },
   "outputs": [],
   "source": [
    "# Finding a PCA that captures 85% of variance"
   ]
  },
  {
   "cell_type": "code",
   "execution_count": null,
   "metadata": {
    "colab": {
     "base_uri": "https://localhost:8080/",
     "height": 311
    },
    "id": "k_Qs-Hxn-wgo",
    "outputId": "c0431deb-8325-4a7e-e6ff-38579e984119"
   },
   "outputs": [
    {
     "data": {
      "text/plain": [
       "Text(0.5, 1.0, 'Finding suitable number of components')"
      ]
     },
     "execution_count": 347,
     "metadata": {},
     "output_type": "execute_result"
    },
    {
     "data": {
      "image/png": "[encoded data removed]",
      "text/plain": [
       "<Figure size 432x288 with 1 Axes>"
      ]
     },
     "metadata": {
      "needs_background": "light"
     },
     "output_type": "display_data"
    }
   ],
   "source": [
    "pca = PCA().fit(X)\n",
    "plt.plot(np.cumsum(pca.explained_variance_ratio_))\n",
    "plt.xlabel('number of components')\n",
    "plt.ylabel('cumulative explained variance')\n",
    "plt.title(\"Finding suitable number of components\")"
   ]
  },
  {
   "cell_type": "code",
   "execution_count": null,
   "metadata": {
    "id": "qE_vFU81-wgo"
   },
   "outputs": [],
   "source": [
    "pca = PCA(n_components=25)\n",
    "principalComponents = pca.fit_transform(X)"
   ]
  },
  {
   "cell_type": "code",
   "execution_count": null,
   "metadata": {
    "id": "Cj_qBp-r-wgp"
   },
   "outputs": [],
   "source": [
    "df1 = pd.DataFrame(principalComponents, index=vocab)\n"
   ]
  },
  {
   "cell_type": "code",
   "execution_count": null,
   "metadata": {
    "id": "ZKOkA3S_-wgp"
   },
   "outputs": [],
   "source": [
    "from sklearn.manifold import TSNE\n",
    "tsne = TSNE(n_components=2,perplexity = 10)\n",
    "\n"
   ]
  },
  {
   "cell_type": "code",
   "execution_count": null,
   "metadata": {
    "id": "1fNBD8w3-wgp"
   },
   "outputs": [],
   "source": [
    "# Change paths from themes to vectors\n",
    "def create_path_from_word2vec(path):\n",
    "    path_temp = []\n",
    "    for p in path:\n",
    "        path_temp.append(list(df1.loc[p]))\n",
    "    return np.array(path_temp)\n",
    "\n",
    "paths = themes_decades_2.apply(lambda x: create_path_from_word2vec(x))\n",
    "        "
   ]
  },
  {
   "cell_type": "markdown",
   "metadata": {
    "id": "eCTsV2l4-wgp"
   },
   "source": [
    "#### c) generate persistence diagrams"
   ]
  },
  {
   "cell_type": "code",
   "execution_count": null,
   "metadata": {
    "id": "qtBPP_Eo-wgp"
   },
   "outputs": [],
   "source": [
    "point_clouds_basic = paths"
   ]
  },
  {
   "cell_type": "code",
   "execution_count": null,
   "metadata": {
    "id": "U_OuKfX4-wgp"
   },
   "outputs": [],
   "source": [
    "from gtda.homology import VietorisRipsPersistence\n",
    "\n",
    "# Track connected components, loops, and voids ---- betty numbers\n",
    "homology_dimensions = [0, 1, 2]\n",
    "\n",
    "# Collapse edges to speed up H2 persistence calculation!\n",
    "persistence = VietorisRipsPersistence(\n",
    "    metric=\"euclidean\",\n",
    "    homology_dimensions=homology_dimensions,\n",
    "    n_jobs=6,\n",
    "    collapse_edges=True,\n",
    ")\n",
    "\n",
    "diagrams_basic = persistence.fit_transform(list(point_clouds_basic))"
   ]
  },
  {
   "cell_type": "code",
   "execution_count": null,
   "metadata": {
    "id": "XxnycLgm-wgq"
   },
   "outputs": [],
   "source": [
    "# from gtda.diagrams import NumberOfPoints\n",
    "# from gtda.diagrams import Amplitude\n",
    "# from sklearn.pipeline import make_union\n",
    "\n",
    "# # Select a variety of metrics to calculate amplitudes\n",
    "# metrics = [\n",
    "#     {\"metric\": metric}\n",
    "#     for metric in [\"bottleneck\", \"wasserstein\", \"landscape\", \"persistence_image\"]\n",
    "# ]\n",
    "\n",
    "# # Concatenate to generate 3 + 3 + (4 x 3) = 18 topological features\n",
    "# feature_union = make_union(\n",
    "#     PersistenceEntropy(normalize=True),\n",
    "#     NumberOfPoints(n_jobs=-1),\n",
    "#     *[Amplitude(**metric, n_jobs=-1) for metric in metrics]\n",
    "# )"
   ]
  },
  {
   "cell_type": "code",
   "execution_count": null,
   "metadata": {
    "colab": {
     "base_uri": "https://localhost:8080/"
    },
    "id": "NW61E201-wgq",
    "outputId": "742a95b8-4e26-41d2-ba75-04279bc81583"
   },
   "outputs": [
    {
     "data": {
      "text/plain": [
       "(55479, 3)"
      ]
     },
     "execution_count": 978,
     "metadata": {},
     "output_type": "execute_result"
    }
   ],
   "source": [
    "from gtda.diagrams import PersistenceEntropy\n",
    "\n",
    "persistence_entropy = PersistenceEntropy()\n",
    "\n",
    "# calculate topological feature matrix\n",
    "X_basic = persistence_entropy.fit_transform(diagrams_basic)\n",
    "\n",
    "#X_basic = feature_union.fit_transform(diagrams_basic) \n",
    "\n",
    "# expect shape - (n_point_clouds, n_homology_dims)\n",
    "X_basic.shape"
   ]
  },
  {
   "cell_type": "markdown",
   "metadata": {
    "id": "ft_YAmYg-wgr"
   },
   "source": [
    "#### d) create clusters"
   ]
  },
  {
   "cell_type": "code",
   "execution_count": null,
   "metadata": {
    "id": "2jTVpmD2NKVB"
   },
   "outputs": [],
   "source": [
    "from sklearn.cluster import MiniBatchKMeans\n",
    "from sklearn.metrics import silhouette_samples, silhouette_score"
   ]
  },
  {
   "cell_type": "code",
   "execution_count": null,
   "metadata": {
    "colab": {
     "base_uri": "https://localhost:8080/"
    },
    "id": "bvXoStN8-wgr",
    "outputId": "7e967e25-1345-459d-8918-bf3d0ba03aa3"
   },
   "outputs": [
    {
     "data": {
      "text/plain": [
       "(64936, 200)"
      ]
     },
     "execution_count": 359,
     "metadata": {},
     "output_type": "execute_result"
    }
   ],
   "source": [
    "def vectorize(list_of_docs, model):\n",
    "    \"\"\"Generate vectors for list of documents using a Word Embedding\n",
    "\n",
    "    Args:\n",
    "        list_of_docs: List of documents\n",
    "        model: Gensim's Word Embedding\n",
    "\n",
    "    Returns:\n",
    "        List of document vectors\n",
    "    \"\"\"\n",
    "    features = []\n",
    "\n",
    "    for tokens in list_of_docs:\n",
    "        zero_vector = np.zeros(model.vector_size)\n",
    "        vectors = []\n",
    "        for token in tokens:\n",
    "            if token in model.wv:\n",
    "                try:\n",
    "                    vectors.append(model.wv[token])\n",
    "                except KeyError:\n",
    "                    continue\n",
    "        if vectors:\n",
    "            vectors = np.asarray(vectors)\n",
    "            avg_vec = vectors.mean(axis=0)\n",
    "            features.append(avg_vec)\n",
    "        else:\n",
    "            features.append(zero_vector)\n",
    "    return features\n",
    "    \n",
    "vectorized_docs = vectorize(themes_decades, model=model)\n",
    "len(vectorized_docs), len(vectorized_docs[0])"
   ]
  },
  {
   "cell_type": "code",
   "execution_count": null,
   "metadata": {
    "id": "bGYAyhdG-wgr"
   },
   "outputs": [],
   "source": [
    "total_size = df.size"
   ]
  },
  {
   "cell_type": "code",
   "execution_count": null,
   "metadata": {
    "id": "envuCRNv-wgr"
   },
   "outputs": [],
   "source": [
    "def mbkmeans_clusters(\n",
    "\tX, \n",
    "    k, \n",
    "    mb, \n",
    "    print_silhouette_values, \n",
    "):\n",
    "    \"\"\"Generate clusters and print Silhouette metrics using MBKmeans\n",
    "\n",
    "    Args:\n",
    "        X: Matrix of features.\n",
    "        k: Number of clusters.\n",
    "        mb: Size of mini-batches.\n",
    "        print_silhouette_values: Print silhouette values per cluster.\n",
    "\n",
    "    Returns:\n",
    "        Trained clustering model and labels based on X.\n",
    "    \"\"\"\n",
    "\n",
    "    inertias = 0\n",
    "    cluster_inertias = []\n",
    "    km = MiniBatchKMeans(n_clusters=k, batch_size=mb).fit(X)\n",
    "    print(f\"For n_clusters = {k}\")\n",
    "    print(f\"Silhouette coefficient: {silhouette_score(X, km.labels_):0.2f}\")\n",
    "    print(f\"Inertia:{km.inertia_:0.2f}\")\n",
    "\n",
    "    if print_silhouette_values:\n",
    "        sample_silhouette_values = silhouette_samples(X, km.labels_)\n",
    "        print(f\"Silhouette values:\")\n",
    "        silhouette_values = []\n",
    "        for i in range(k):\n",
    "            cluster_silhouette_values = sample_silhouette_values[km.labels_ == i]\n",
    "            silhouette_values.append(\n",
    "                (\n",
    "                    i,\n",
    "                    cluster_silhouette_values.shape[0],\n",
    "                    cluster_silhouette_values.mean(),\n",
    "                    cluster_silhouette_values.min(),\n",
    "                    cluster_silhouette_values.max(),\n",
    "                )\n",
    "            )\n",
    "\n",
    "        for s in silhouette_values:\n",
    "            print(\n",
    "                f\"    Cluster {s[0]}: Size:{s[1]} | Percentage Of Total Size:{s[1]*100/X_basic.shape[0]:.1f}% | Avg:{s[2]:.2f} \"\n",
    "            )\n",
    "    return km, km.labels_,km.inertia_,silhouette_values,silhouette_score(X, km.labels_)"
   ]
  },
  {
   "cell_type": "code",
   "execution_count": null,
   "metadata": {
    "colab": {
     "base_uri": "https://localhost:8080/"
    },
    "id": "NUTrZUrNqCKx",
    "outputId": "49c03993-bdb5-454f-b0e3-63ebeb6a0126"
   },
   "outputs": [
    {
     "name": "stdout",
     "output_type": "stream",
     "text": [
      "For n_clusters = 8\n",
      "Silhouette coefficient: 0.70\n",
      "Inertia:4984.73\n",
      "Silhouette values:\n",
      "    Cluster 0: Size:4521 | Percentage Of Total Size:8.1% | Avg:0.86 \n",
      "    Cluster 1: Size:9267 | Percentage Of Total Size:16.7% | Avg:1.00 \n",
      "    Cluster 2: Size:6806 | Percentage Of Total Size:12.3% | Avg:0.53 \n",
      "    Cluster 3: Size:12636 | Percentage Of Total Size:22.8% | Avg:0.50 \n",
      "    Cluster 4: Size:6687 | Percentage Of Total Size:12.1% | Avg:1.00 \n",
      "    Cluster 5: Size:8648 | Percentage Of Total Size:15.6% | Avg:0.41 \n",
      "    Cluster 6: Size:1792 | Percentage Of Total Size:3.2% | Avg:0.39 \n",
      "    Cluster 7: Size:5122 | Percentage Of Total Size:9.2% | Avg:0.96 \n"
     ]
    }
   ],
   "source": [
    "  clustering, cluster_labels,inertia,clusters_silhouette,sil = mbkmeans_clusters(\n",
    "    X=X_basic,\n",
    "      k=8,\n",
    "      mb=4000,\n",
    "      print_silhouette_values=True,\n",
    "  )"
   ]
  },
  {
   "cell_type": "code",
   "execution_count": null,
   "metadata": {
    "colab": {
     "base_uri": "https://localhost:8080/"
    },
    "id": "m7g2Vy7W-wgs",
    "outputId": "b49740c3-ea77-4716-f40e-6e038c00b071"
   },
   "outputs": [
    {
     "name": "stdout",
     "output_type": "stream",
     "text": [
      "For n_clusters = 2\n",
      "Silhouette coefficient: 0.64\n",
      "Inertia:42606.43\n",
      "Silhouette values:\n",
      "    Cluster 0: Size:21076 | Percentage Of Total Size:38.0% | Avg:0.68 \n",
      "    Cluster 1: Size:34403 | Percentage Of Total Size:62.0% | Avg:0.61 \n",
      "For n_clusters = 3\n",
      "Silhouette coefficient: 0.58\n",
      "Inertia:22881.92\n",
      "Silhouette values:\n",
      "    Cluster 0: Size:15954 | Percentage Of Total Size:28.8% | Avg:0.75 \n",
      "    Cluster 1: Size:24387 | Percentage Of Total Size:44.0% | Avg:0.45 \n",
      "    Cluster 2: Size:15138 | Percentage Of Total Size:27.3% | Avg:0.60 \n",
      "For n_clusters = 4\n",
      "Silhouette coefficient: 0.61\n",
      "Inertia:14173.71\n",
      "Silhouette values:\n",
      "    Cluster 0: Size:15954 | Percentage Of Total Size:28.8% | Avg:0.73 \n",
      "    Cluster 1: Size:17961 | Percentage Of Total Size:32.4% | Avg:0.57 \n",
      "    Cluster 2: Size:12628 | Percentage Of Total Size:22.8% | Avg:0.63 \n",
      "    Cluster 3: Size:8936 | Percentage Of Total Size:16.1% | Avg:0.45 \n",
      "For n_clusters = 5\n",
      "Silhouette coefficient: 0.58\n",
      "Inertia:11392.76\n",
      "Silhouette values:\n",
      "    Cluster 0: Size:12521 | Percentage Of Total Size:22.6% | Avg:0.56 \n",
      "    Cluster 1: Size:15954 | Percentage Of Total Size:28.8% | Avg:0.73 \n",
      "    Cluster 2: Size:8598 | Percentage Of Total Size:15.5% | Avg:0.43 \n",
      "    Cluster 3: Size:11415 | Percentage Of Total Size:20.6% | Avg:0.54 \n",
      "    Cluster 4: Size:6991 | Percentage Of Total Size:12.6% | Avg:0.53 \n",
      "For n_clusters = 6\n",
      "Silhouette coefficient: 0.64\n",
      "Inertia:7507.92\n",
      "Silhouette values:\n",
      "    Cluster 0: Size:8598 | Percentage Of Total Size:15.5% | Avg:0.43 \n",
      "    Cluster 1: Size:6687 | Percentage Of Total Size:12.1% | Avg:1.00 \n",
      "    Cluster 2: Size:11415 | Percentage Of Total Size:20.6% | Avg:0.54 \n",
      "    Cluster 3: Size:9267 | Percentage Of Total Size:16.7% | Avg:1.00 \n",
      "    Cluster 4: Size:12521 | Percentage Of Total Size:22.6% | Avg:0.49 \n",
      "    Cluster 5: Size:6991 | Percentage Of Total Size:12.6% | Avg:0.53 \n",
      "For n_clusters = 7\n",
      "Silhouette coefficient: 0.67\n",
      "Inertia:5903.61\n",
      "Silhouette values:\n",
      "    Cluster 0: Size:9267 | Percentage Of Total Size:16.7% | Avg:1.00 \n",
      "    Cluster 1: Size:10756 | Percentage Of Total Size:19.4% | Avg:0.60 \n",
      "    Cluster 2: Size:8598 | Percentage Of Total Size:15.5% | Avg:0.43 \n",
      "    Cluster 3: Size:5140 | Percentage Of Total Size:9.3% | Avg:0.97 \n",
      "    Cluster 4: Size:6687 | Percentage Of Total Size:12.1% | Avg:1.00 \n",
      "    Cluster 5: Size:4748 | Percentage Of Total Size:8.6% | Avg:0.50 \n",
      "    Cluster 6: Size:10283 | Percentage Of Total Size:18.5% | Avg:0.38 \n",
      "For n_clusters = 8\n",
      "Silhouette coefficient: 0.70\n",
      "Inertia:4386.99\n",
      "Silhouette values:\n",
      "    Cluster 0: Size:11123 | Percentage Of Total Size:20.0% | Avg:0.53 \n",
      "    Cluster 1: Size:6687 | Percentage Of Total Size:12.1% | Avg:1.00 \n",
      "    Cluster 2: Size:7087 | Percentage Of Total Size:12.8% | Avg:0.49 \n",
      "    Cluster 3: Size:7404 | Percentage Of Total Size:13.3% | Avg:0.60 \n",
      "    Cluster 4: Size:9267 | Percentage Of Total Size:16.7% | Avg:1.00 \n",
      "    Cluster 5: Size:6989 | Percentage Of Total Size:12.6% | Avg:0.52 \n",
      "    Cluster 6: Size:5122 | Percentage Of Total Size:9.2% | Avg:0.97 \n",
      "    Cluster 7: Size:1800 | Percentage Of Total Size:3.2% | Avg:0.40 \n",
      "For n_clusters = 9\n",
      "Silhouette coefficient: 0.70\n",
      "Inertia:3468.85\n",
      "Silhouette values:\n",
      "    Cluster 0: Size:6687 | Percentage Of Total Size:12.1% | Avg:1.00 \n",
      "    Cluster 1: Size:6988 | Percentage Of Total Size:12.6% | Avg:0.51 \n",
      "    Cluster 2: Size:7246 | Percentage Of Total Size:13.1% | Avg:0.64 \n",
      "    Cluster 3: Size:4399 | Percentage Of Total Size:7.9% | Avg:0.41 \n",
      "    Cluster 4: Size:9267 | Percentage Of Total Size:16.7% | Avg:1.00 \n",
      "    Cluster 5: Size:5122 | Percentage Of Total Size:9.2% | Avg:0.97 \n",
      "    Cluster 6: Size:11121 | Percentage Of Total Size:20.0% | Avg:0.53 \n",
      "    Cluster 7: Size:3017 | Percentage Of Total Size:5.4% | Avg:0.56 \n",
      "    Cluster 8: Size:1632 | Percentage Of Total Size:2.9% | Avg:0.37 \n",
      "For n_clusters = 10\n",
      "Silhouette coefficient: 0.71\n",
      "Inertia:2827.15\n",
      "Silhouette values:\n",
      "    Cluster 0: Size:6687 | Percentage Of Total Size:12.1% | Avg:1.00 \n",
      "    Cluster 1: Size:8228 | Percentage Of Total Size:14.8% | Avg:0.65 \n",
      "    Cluster 2: Size:3039 | Percentage Of Total Size:5.5% | Avg:0.56 \n",
      "    Cluster 3: Size:4538 | Percentage Of Total Size:8.2% | Avg:0.85 \n",
      "    Cluster 4: Size:9267 | Percentage Of Total Size:16.7% | Avg:1.00 \n",
      "    Cluster 5: Size:4346 | Percentage Of Total Size:7.8% | Avg:0.41 \n",
      "    Cluster 6: Size:5122 | Percentage Of Total Size:9.2% | Avg:0.96 \n",
      "    Cluster 7: Size:4455 | Percentage Of Total Size:8.0% | Avg:0.38 \n",
      "    Cluster 8: Size:8132 | Percentage Of Total Size:14.7% | Avg:0.40 \n",
      "    Cluster 9: Size:1665 | Percentage Of Total Size:3.0% | Avg:0.37 \n",
      "For n_clusters = 11\n",
      "Silhouette coefficient: 0.74\n",
      "Inertia:2395.66\n",
      "Silhouette values:\n",
      "    Cluster 0: Size:6687 | Percentage Of Total Size:12.1% | Avg:1.00 \n",
      "    Cluster 1: Size:9405 | Percentage Of Total Size:17.0% | Avg:0.53 \n",
      "    Cluster 2: Size:3065 | Percentage Of Total Size:5.5% | Avg:0.77 \n",
      "    Cluster 3: Size:4256 | Percentage Of Total Size:7.7% | Avg:0.46 \n",
      "    Cluster 4: Size:9267 | Percentage Of Total Size:16.7% | Avg:1.00 \n",
      "    Cluster 5: Size:5122 | Percentage Of Total Size:9.2% | Avg:0.96 \n",
      "    Cluster 6: Size:1653 | Percentage Of Total Size:3.0% | Avg:0.36 \n",
      "    Cluster 7: Size:2978 | Percentage Of Total Size:5.4% | Avg:0.55 \n",
      "    Cluster 8: Size:3244 | Percentage Of Total Size:5.8% | Avg:0.47 \n",
      "    Cluster 9: Size:4342 | Percentage Of Total Size:7.8% | Avg:0.88 \n",
      "    Cluster 10: Size:5460 | Percentage Of Total Size:9.8% | Avg:0.64 \n"
     ]
    }
   ],
   "source": [
    "# cluster_stats = {}\n",
    "# for i in range(2,12):\n",
    "#   clustering, cluster_labels,inertia,clusters_silhouette,sil = mbkmeans_clusters(\n",
    "#     X=X_basic,\n",
    "#       k=i,\n",
    "#       mb=4000,\n",
    "#       print_silhouette_values=True,\n",
    "#   )\n",
    "#   cluster_stats[i]=[sil,inertia,clusters_silhouette]"
   ]
  },
  {
   "cell_type": "code",
   "execution_count": null,
   "metadata": {
    "colab": {
     "base_uri": "https://localhost:8080/",
     "height": 265
    },
    "id": "6Pb0FLQQDo6Y",
    "outputId": "3f7bee5e-e5af-4311-84aa-a912a6e31f3d"
   },
   "outputs": [
    {
     "data": {
      "image/png": "[encoded data removed]",
      "text/plain": [
       "<Figure size 432x288 with 1 Axes>"
      ]
     },
     "metadata": {
      "needs_background": "light"
     },
     "output_type": "display_data"
    }
   ],
   "source": [
    "# plot inertia shape\n",
    "df_clusterstats=pd.DataFrame(data=cluster_stats)\n",
    "df_clusterstats.columns = ['Silhouette_value','Inertia','Silhouette_by_cluster']\n",
    "df_clusterstats.plot(y='Inertia');"
   ]
  },
  {
   "cell_type": "code",
   "execution_count": null,
   "metadata": {
    "colab": {
     "base_uri": "https://localhost:8080/",
     "height": 268
    },
    "id": "rrlgrJ8bCqJk",
    "outputId": "c54c9415-d99f-4bf2-9db1-6a84afa37842"
   },
   "outputs": [
    {
     "data": {
      "image/png": "[encoded data removed]",
      "text/plain": [
       "<Figure size 432x288 with 1 Axes>"
      ]
     },
     "metadata": {
      "needs_background": "light"
     },
     "output_type": "display_data"
    }
   ],
   "source": [
    "# plot silhouette value shape\n",
    "df_clusterstats.plot(y='Silhouette_value');"
   ]
  },
  {
   "cell_type": "code",
   "execution_count": null,
   "metadata": {
    "id": "B-oQmFJ4-wgs"
   },
   "outputs": [],
   "source": [
    "df_tda_clusters = pd.DataFrame({\n",
    "    \"text\": themes_decades_2,\n",
    "    \"cluster\": cluster_labels\n",
    "})"
   ]
  },
  {
   "cell_type": "markdown",
   "metadata": {
    "id": "I_-Coay_-wgs"
   },
   "source": [
    "#### e) projection onto 2d plane and visualizing clusters"
   ]
  },
  {
   "cell_type": "code",
   "execution_count": null,
   "metadata": {
    "colab": {
     "background_save": true
    },
    "id": "9fCO3Gde-wgt"
   },
   "outputs": [],
   "source": [
    "tsne = TSNE(n_components=2,perplexity = 5)\n"
   ]
  },
  {
   "cell_type": "code",
   "execution_count": null,
   "metadata": {
    "colab": {
     "background_save": true
    },
    "id": "BKGd3tHC-wgt"
   },
   "outputs": [],
   "source": [
    "cluster_nr = 1\n",
    "member_nr = 0"
   ]
  },
  {
   "cell_type": "code",
   "execution_count": null,
   "metadata": {
    "colab": {
     "background_save": true
    },
    "id": "Nz5S8tZ2-wgt"
   },
   "outputs": [],
   "source": [
    "# filter dataframe by cluster nr\n",
    "df_cluster = df_tda_clusters[df_tda_clusters[\"cluster\"]==cluster_nr]\n",
    "\n",
    "# get specific member of cluster\n",
    "path_points = df1.loc[set(df_cluster.iloc[member_nr].text)]\n",
    "\n",
    "# filter dataframe by cluster nr\n",
    "df_cluster = df_tda_clusters[df_tda_clusters[\"cluster\"]==cluster_nr]"
   ]
  },
  {
   "cell_type": "code",
   "execution_count": null,
   "metadata": {
    "colab": {
     "background_save": true
    },
    "id": "XMYsm9iQ-wgt"
   },
   "outputs": [],
   "source": [
    "# Change paths from themes to vectors\n",
    "def create_2dpath_from_word2vec_tsne(path):\n",
    "    path_temp = []\n",
    "    for p in path:\n",
    "        path_temp.append(list(df1.loc[p]))\n",
    "    return np.array(path_temp)\n",
    "\n",
    "paths_2d = themes_decades_2.apply(lambda x: create_2dpath_from_word2vec_tsne(x))"
   ]
  },
  {
   "cell_type": "code",
   "execution_count": null,
   "metadata": {
    "id": "CC0GTnqq-wgt"
   },
   "outputs": [],
   "source": [
    "clustering.cluster_centers_[0]"
   ]
  },
  {
   "cell_type": "code",
   "execution_count": null,
   "metadata": {
    "id": "tpPeLYn5-wgt"
   },
   "outputs": [],
   "source": [
    "df_tda_clusters[\"documents_visited\"]= df_tda_clusters[\"text\"].apply(lambda x: len(x))"
   ]
  },
  {
   "cell_type": "code",
   "execution_count": null,
   "metadata": {
    "id": "qCDYJo-W-wgu"
   },
   "outputs": [],
   "source": [
    "df_tda_clusters[\"unique_themes\"]= df_tda_clusters[\"text\"].apply(lambda x: pd.Series(x).nunique())"
   ]
  },
  {
   "cell_type": "code",
   "execution_count": null,
   "metadata": {
    "id": "MJuXazui-wgu"
   },
   "outputs": [],
   "source": [
    "df_tda_clusters"
   ]
  },
  {
   "cell_type": "code",
   "execution_count": null,
   "metadata": {
    "id": "H-GXyXW3-wgv"
   },
   "outputs": [],
   "source": [
    "# funnction to visualize cluster members\n",
    "def visualize_cluster_member(cluster_nr,member_nr,annotate = True, figsize = 8):\n",
    "    cluster_nr = cluster_nr\n",
    "    member_nr = member_nr\n",
    "    annotate = annotate\n",
    "    \n",
    "    \n",
    "    # filter dataframe by cluster nr\n",
    "    df_cluster = df_tda_clusters[df_tda_clusters[\"cluster\"]==cluster_nr]\n",
    "    \n",
    "    # get specific member of cluster\n",
    "    path_points = df1.loc[set(df_cluster.loc[member_nr].text)]\n",
    "    # project points of path using TSNE\n",
    "    \n",
    "    try:\n",
    "        path_points_tsne = tsne.fit_transform(path_points)\n",
    "        proj =  pd.DataFrame(path_points_tsne,index= path_points.index, columns = ['x','y'])\n",
    "    except:\n",
    "        proj = pd.DataFrame([[0,0]], index=path_points.index, columns=list('xy'))\n",
    "    \n",
    "    # convert path into 2d coordinates\n",
    "    path_2d = list(map(lambda x: list(proj.loc[x]), df_cluster.loc[member_nr].text))\n",
    "\n",
    "    \n",
    "    # plot\n",
    "    fig = plt.figure(figsize=(figsize,figsize))\n",
    "    ax = fig.add_subplot(1, 1, 1)\n",
    "\n",
    "\n",
    "    # scatter points\n",
    "    proj.plot('x', 'y', kind='scatter', ax=ax)\n",
    "    if(annotate):\n",
    "        for k, v in proj.iterrows():\n",
    "            ax.annotate(k, v)\n",
    "\n",
    "    ax.scatter(proj['x'], proj['y'])\n",
    "    mapa = cm.get_cmap('viridis', 1)\n",
    "\n",
    "    p = path_2d\n",
    "\n",
    "\n",
    "    x = []\n",
    "    for ps2 in p:\n",
    "        x.append(ps2[0])\n",
    "    y = []\n",
    "    for ps2 in p:\n",
    "        y.append(ps2[1])\n",
    "\n",
    "\n",
    "    y = np.array(y)\n",
    "    x = np.array(x)\n",
    "\n",
    "    try:\n",
    "        a1 = plt.quiver(x[:-1], y[:-1], x[1:]-x[:-1], y[1:]-y[:-1], scale_units='xy', angles='xy', scale=1,width = 0.005,alpha=.3 )\n",
    "    except:\n",
    "        print(\"only 1 theme visited\")\n",
    "\n",
    "\n",
    "\n",
    "        \n",
    "    title = \"Cluster \"+ str(cluster_nr) + \" Member \" + str(member_nr)\n",
    "    path = \"c\"+str(cluster_nr)+\"m\"+str(member_nr)\n",
    "    plt.title(title)\n",
    "    #plt.savefig(\"TDA_advanced/\"+path+\".png\")\n",
    "    plt.show()\n",
    "\n",
    "\n",
    "\n",
    "    "
   ]
  },
  {
   "cell_type": "code",
   "execution_count": null,
   "metadata": {
    "id": "5g_8wOJu-wgv"
   },
   "outputs": [],
   "source": [
    "# visualize cluster members closest to the centroid of the cluster, to visualize different clusters change the CLUSTER variable\n",
    "# to show more than 10 members, change the argument in the argsort\n",
    "# to annotate each point in the path drawn, change annotate to True\n",
    "CLUSTER = 2\n",
    "d = clustering.transform(X_basic)[:, CLUSTER]\n",
    "ind = np.argsort(d)[::][:10]\n",
    "\n",
    "\n",
    "for i in ind:\n",
    "    visualize_cluster_member(CLUSTER,df_tda_clusters.iloc[i].name,annotate = False, figsize = 3)\n",
    "    plt.show()\n",
    "    \n"
   ]
  },
  {
   "cell_type": "markdown",
   "metadata": {
    "id": "Mk_ZVI11-wgw"
   },
   "source": [
    "#### Second method: TSNE last"
   ]
  },
  {
   "cell_type": "markdown",
   "metadata": {
    "id": "rEi6iHFD-wgw"
   },
   "source": [
    "#### a) get unique high level clusters"
   ]
  },
  {
   "cell_type": "code",
   "execution_count": null,
   "metadata": {
    "id": "83RJRKBU-wgw"
   },
   "outputs": [],
   "source": [
    "# dictionary of gallica themes, useful to interpret results from Gallica API queries\n",
    "dewey_classification = {}\n",
    "dewey_classification_reverse = {}\n",
    "f = open(\"drive/MyDrive/ProjetSemestreLHST/dewey.txt\", \"r\",encoding='utf-8')\n",
    "for x in f:\n",
    "    try:\n",
    "        if(x[2:4]=='0 '):\n",
    "            dewey_classification[x[0:2]]= x[4:].rstrip()\n",
    "            dewey_classification_reverse[x[4:-1]]= x[0:2].rstrip()\n",
    "    except:\n",
    "        continue\n",
    "        \n",
    "        \n",
    "\n",
    "index_to_themes=dewey_classification"
   ]
  },
  {
   "cell_type": "code",
   "execution_count": null,
   "metadata": {
    "id": "oej7MRBG-wgw"
   },
   "outputs": [],
   "source": [
    "def get_high_level_classification(dewey):\n",
    "    l = []\n",
    "    for d in dewey:\n",
    "        l.append(index_to_themes.get((dewey_classification_reverse.get(d))[:-1]+\"0\"))\n",
    "    return l\n",
    "        "
   ]
  },
  {
   "cell_type": "code",
   "execution_count": null,
   "metadata": {
    "id": "PNdRFLrQaz3U"
   },
   "outputs": [],
   "source": [
    "df_tda_clusters[\"documents_visited\"]= df_tda_clusters[\"text\"].apply(lambda x: len(x))\n",
    "df_tda_clusters[\"unique_themes\"]= df_tda_clusters[\"text\"].apply(lambda x: pd.Series(x).nunique())\n",
    "df_tda_clusters[\"high_level_themes\"] = df_tda_clusters[\"text\"].apply(lambda x: get_high_level_classification(x))\n",
    "df_tda_clusters[\"unique_high_level_themes\"]= df_tda_clusters[\"high_level_themes\"].apply(lambda x: pd.Series(x).nunique())\n"
   ]
  },
  {
   "cell_type": "code",
   "execution_count": null,
   "metadata": {
    "colab": {
     "base_uri": "https://localhost:8080/",
     "height": 320
    },
    "id": "7Ia7PHRa-wgx",
    "outputId": "51f47c1c-ee3d-4eb4-fb7d-42da97c26ce5"
   },
   "outputs": [
    {
     "data": {
      "text/html": [
       "<div>\n",
       "<style scoped>\n",
       "    .dataframe tbody tr th:only-of-type {\n",
       "        vertical-align: middle;\n",
       "    }\n",
       "\n",
       "    .dataframe tbody tr th {\n",
       "        vertical-align: top;\n",
       "    }\n",
       "\n",
       "    .dataframe thead th {\n",
       "        text-align: right;\n",
       "    }\n",
       "</style>\n",
       "<table border=\"1\" class=\"dataframe\">\n",
       "  <thead>\n",
       "    <tr style=\"text-align: right;\">\n",
       "      <th></th>\n",
       "      <th>documents_visited</th>\n",
       "      <th>unique_themes</th>\n",
       "      <th>unique_high_level_themes</th>\n",
       "    </tr>\n",
       "    <tr>\n",
       "      <th>cluster</th>\n",
       "      <th></th>\n",
       "      <th></th>\n",
       "      <th></th>\n",
       "    </tr>\n",
       "  </thead>\n",
       "  <tbody>\n",
       "    <tr>\n",
       "      <th>0</th>\n",
       "      <td>9.325149</td>\n",
       "      <td>3.849148</td>\n",
       "      <td>2.880779</td>\n",
       "    </tr>\n",
       "    <tr>\n",
       "      <th>1</th>\n",
       "      <td>7.141686</td>\n",
       "      <td>1.000000</td>\n",
       "      <td>1.000000</td>\n",
       "    </tr>\n",
       "    <tr>\n",
       "      <th>2</th>\n",
       "      <td>23.663532</td>\n",
       "      <td>11.390097</td>\n",
       "      <td>6.227887</td>\n",
       "    </tr>\n",
       "    <tr>\n",
       "      <th>3</th>\n",
       "      <td>20.251108</td>\n",
       "      <td>9.657882</td>\n",
       "      <td>5.735992</td>\n",
       "    </tr>\n",
       "    <tr>\n",
       "      <th>4</th>\n",
       "      <td>5.999252</td>\n",
       "      <td>1.963063</td>\n",
       "      <td>1.683864</td>\n",
       "    </tr>\n",
       "    <tr>\n",
       "      <th>5</th>\n",
       "      <td>13.406221</td>\n",
       "      <td>5.794750</td>\n",
       "      <td>4.052960</td>\n",
       "    </tr>\n",
       "    <tr>\n",
       "      <th>6</th>\n",
       "      <td>28.997210</td>\n",
       "      <td>14.047991</td>\n",
       "      <td>6.875558</td>\n",
       "    </tr>\n",
       "    <tr>\n",
       "      <th>7</th>\n",
       "      <td>7.207927</td>\n",
       "      <td>2.955486</td>\n",
       "      <td>2.352011</td>\n",
       "    </tr>\n",
       "  </tbody>\n",
       "</table>\n",
       "</div>"
      ],
      "text/plain": [
       "         documents_visited  unique_themes  unique_high_level_themes\n",
       "cluster                                                            \n",
       "0                 9.325149       3.849148                  2.880779\n",
       "1                 7.141686       1.000000                  1.000000\n",
       "2                23.663532      11.390097                  6.227887\n",
       "3                20.251108       9.657882                  5.735992\n",
       "4                 5.999252       1.963063                  1.683864\n",
       "5                13.406221       5.794750                  4.052960\n",
       "6                28.997210      14.047991                  6.875558\n",
       "7                 7.207927       2.955486                  2.352011"
      ]
     },
     "execution_count": 450,
     "metadata": {},
     "output_type": "execute_result"
    }
   ],
   "source": [
    "df_tda_clusters.groupby(by=\"cluster\").mean()"
   ]
  },
  {
   "cell_type": "markdown",
   "metadata": {
    "id": "UMa5yoMN-wgy"
   },
   "source": [
    "#### b) TSNE last"
   ]
  },
  {
   "cell_type": "code",
   "execution_count": null,
   "metadata": {
    "id": "5fufD-TU-wgy"
   },
   "outputs": [],
   "source": [
    "def visualize_cluster_member_bypop(cluster_nr,member_nr,annotate = True, figsize = 8):\n",
    "    cluster_nr = cluster_nr\n",
    "    member_nr = member_nr\n",
    "    annotate = annotate\n",
    "    \n",
    "    \n",
    "    # filter dataframe by cluster nr\n",
    "    df_cluster = df_tda_clusters[df_tda_clusters[\"cluster\"]==cluster_nr]\n",
    "    \n",
    "    \n",
    "\n",
    "    # convert path into 2d coordinates\n",
    "    path_2d = paths_2d[member_nr]\n",
    "    \n",
    "    # plot\n",
    "    fig = plt.figure(figsize=(figsize,figsize))\n",
    "    ax = fig.add_subplot(1, 1, 1)\n",
    "    \n",
    "    #ax.scatter(df_tsne['x'], df_tsne['y'], s = 5)\n",
    "\n",
    "\n",
    "    mapa = cm.get_cmap('viridis', 1)\n",
    "\n",
    "    p = path_2d\n",
    "    \n",
    "    df_temp = pd.DataFrame(data=path_2d,columns=['x','y'],index=themes_decades_2[member_nr])\n",
    "    ax.scatter(df_temp['x'], df_temp['y'], s = 8, color = \"red\")\n",
    "    if(annotate):\n",
    "        for k, v in df_temp.iterrows():\n",
    "            ax.annotate(k, v)\n",
    "\n",
    "\n",
    "    x = []\n",
    "    for ps2 in p:\n",
    "        x.append(ps2[0])\n",
    "    y = []\n",
    "    for ps2 in p:\n",
    "        y.append(ps2[1])\n",
    "\n",
    "\n",
    "    y = np.array(y)\n",
    "    x = np.array(x)\n",
    "\n",
    "    try:\n",
    "        a1 = plt.quiver(x[:-1], y[:-1], x[1:]-x[:-1], y[1:]-y[:-1], scale_units='xy', angles='xy', scale=1,width = 0.008,alpha=.4 )\n",
    "    except:\n",
    "        print(\"only 1 theme visited\")\n",
    "\n",
    "\n",
    "\n",
    "        \n",
    "    title = \"Cluster \"+ str(cluster_nr) + \" Member \" + str(member_nr)\n",
    "    path = \"ca\"+str(cluster_nr)+\"m\"+str(member_nr)\n",
    "    plt.title(title)\n",
    "    #plt.savefig(\"drive/MyDrive/PDS2/TDA_basic_3_annotated/\"+path+\".png\", bbox_inches=\"tight\")\n",
    "    plt.show()\n",
    "\n",
    "    "
   ]
  },
  {
   "cell_type": "code",
   "execution_count": null,
   "metadata": {
    "id": "BiudF6fY-wgy"
   },
   "outputs": [],
   "source": [
    "tsne = TSNE(n_components=2,perplexity = 5)\n",
    "X_tsne = tsne.fit_transform(X)\n",
    "df_tsne = pd.DataFrame(X_tsne, index=vocab, columns=['x', 'y'])\n",
    "\n",
    "\n",
    "# Change paths from themes to vectors\n",
    "def create_2dpath_from_word2vec_tsne(path):\n",
    "    path_temp = []\n",
    "    for p in path:\n",
    "        path_temp.append(list(df_tsne.loc[p]))\n",
    "    return np.array(path_temp)\n",
    "\n",
    "paths_2d = themes_decades_2.apply(lambda x: create_2dpath_from_word2vec_tsne(x))\n",
    "     \n"
   ]
  },
  {
   "cell_type": "code",
   "execution_count": null,
   "metadata": {
    "colab": {
     "base_uri": "https://localhost:8080/",
     "height": 17
    },
    "id": "G8gIxWwR-wgy",
    "outputId": "86ff5038-44af-4cfb-a511-14c92a178ebe"
   },
   "outputs": [],
   "source": [
    "# visualize cluster members closest to the centroid of the cluster, to visualize different clusters change the CLUSTER variable\n",
    "# to show more than 10 members, change the argument in the argsort\n",
    "# to annotate each point in the path drawn, change annotate to True\n",
    "CLUSTER = 7\n",
    "\n",
    "d = clustering.transform(X_basic)[:, CLUSTER]\n",
    "ind = np.argsort(d)[::][:10]\n",
    "for i in ind:\n",
    "    visualize_cluster_member_bypop(CLUSTER,df_tda_clusters.iloc[i].name,annotate = True, figsize = 10)\n",
    "    plt.show()"
   ]
  }
 ],
 "metadata": {
  "colab": {
   "collapsed_sections": [
    "Mk_ZVI11-wgw",
    "rEi6iHFD-wgw"
   ],
   "name": "TDA.ipynb",
   "provenance": []
  },
  "kernelspec": {
   "display_name": "Python 3",
   "language": "python",
   "name": "python3"
  },
  "language_info": {
   "codemirror_mode": {
    "name": "ipython",
    "version": 3
   },
   "file_extension": ".py",
   "mimetype": "text/x-python",
   "name": "python",
   "nbconvert_exporter": "python",
   "pygments_lexer": "ipython3",
   "version": "3.7.9"
  }
 },
 "nbformat": 4,
 "nbformat_minor": 4
}
